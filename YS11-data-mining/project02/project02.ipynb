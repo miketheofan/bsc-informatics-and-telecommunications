{
  "nbformat": 4,
  "nbformat_minor": 0,
  "metadata": {
    "colab": {
      "name": "project02.ipynb",
      "provenance": [],
      "collapsed_sections": []
    },
    "kernelspec": {
      "name": "python3",
      "display_name": "Python 3"
    },
    "language_info": {
      "name": "python"
    }
  },
  "cells": [
    {
      "cell_type": "markdown",
      "source": [
        "# **Ονοματεπώνυμο: ΘΕΟΦΑΝΟΠΟΥΛΟΣ ΜΙΧΑΗΛ**\n",
        "# **Αριθμός Μητρώου: 111 520 18 00 053**\n"
      ],
      "metadata": {
        "id": "i4lSW_il7ped"
      }
    },
    {
      "cell_type": "markdown",
      "source": [
        "**2η Εργασία Τεχνικές Εξόρυξης Δεδομένων**"
      ],
      "metadata": {
        "id": "xsb1NKMo8VwZ"
      }
    },
    {
      "cell_type": "code",
      "source": [
        "import pandas as pd\n",
        "\n",
        "dataSet = pd.read_csv('/content/drive/MyDrive/train.csv')\n",
        "testSet = pd.read_csv('/content/drive/MyDrive/test.csv')\n",
        "targetSet = pd.read_csv('/content/drive/MyDrive/target.csv')"
      ],
      "metadata": {
        "id": "cMiZdLwArJru"
      },
      "execution_count": null,
      "outputs": []
    },
    {
      "cell_type": "markdown",
      "source": [
        "**Ανάλυση Δεδομένων**"
      ],
      "metadata": {
        "id": "EM5QAK_XRxvJ"
      }
    },
    {
      "cell_type": "markdown",
      "source": [
        "All cells of the first part of the project use the whole dataset, so the results are optimal and as clear as possible."
      ],
      "metadata": {
        "id": "mhIWIQog8lGt"
      }
    },
    {
      "cell_type": "markdown",
      "source": [
        "**1)**The following is a function that removes the outlier rows of a dataframe's column given."
      ],
      "metadata": {
        "id": "q575SNmYREae"
      }
    },
    {
      "cell_type": "code",
      "source": [
        "import numpy as np\n",
        "\n",
        "def outliersRemoval(column):\n",
        "\n",
        "  Q1 = np.percentile(column, 25,interpolation = 'midpoint')\n",
        "  Q3 = np.percentile(column, 75,interpolation = 'midpoint')\n",
        "  IQR = Q3 - Q1\n",
        "    \n",
        "  upper = np.where(column >= (Q3+2*IQR))\n",
        "  lower = np.where(column <= (Q1-2*IQR))\n",
        "  \n",
        "  dataSet.drop(upper[0], inplace = True)\n",
        "  dataSet.drop(lower[0], inplace = True)"
      ],
      "metadata": {
        "id": "A2xgX-_dvJTO"
      },
      "execution_count": null,
      "outputs": []
    },
    {
      "cell_type": "markdown",
      "source": [
        "We remove the ourliers of the 'trip_duration' column and use describe() function in order to get an image of the statistics of the specific column."
      ],
      "metadata": {
        "id": "79udPxxyR2pR"
      }
    },
    {
      "cell_type": "code",
      "source": [
        "outliersRemoval(dataSet['trip_duration'])\n",
        "\n",
        "dataSet['trip_duration'].describe()"
      ],
      "metadata": {
        "colab": {
          "base_uri": "https://localhost:8080/"
        },
        "id": "OtuEbz7VG-Ly",
        "outputId": "1e0b7e9a-a2bf-4eca-829a-e96585c80c6e"
      },
      "execution_count": null,
      "outputs": [
        {
          "output_type": "execute_result",
          "data": {
            "text/plain": [
              "count    1.128770e+06\n",
              "mean     7.603082e+02\n",
              "std      4.894109e+02\n",
              "min      1.000000e+00\n",
              "25%      3.890000e+02\n",
              "50%      6.430000e+02\n",
              "75%      1.020000e+03\n",
              "max      2.430000e+03\n",
              "Name: trip_duration, dtype: float64"
            ]
          },
          "metadata": {},
          "execution_count": 4
        }
      ]
    },
    {
      "cell_type": "markdown",
      "source": [
        "**2)** The following function is used in order to remove the geographical borders of a dataframe given."
      ],
      "metadata": {
        "id": "8VXGFUbtSHGe"
      }
    },
    {
      "cell_type": "code",
      "source": [
        "def bordersRemoval(dataset,longx,longy,latx,laty):\n",
        "\n",
        "  dataSet.drop(dataset[(dataset['pickup_longitude'].lt(longx) | dataset['pickup_longitude'].ge(longy)) | (dataset['pickup_latitude'].lt(latx) | dataset['pickup_latitude'].gt(laty))].index,inplace=True)\n",
        "  dataSet.drop(dataset[(dataset['dropoff_longitude'].lt(longx) | dataset['dropoff_longitude'].ge(longy)) | (dataset['dropoff_latitude'].lt(latx) | dataset['dropoff_latitude'].gt(laty))].index,inplace=True)\n",
        "\n",
        "  return dataset"
      ],
      "metadata": {
        "id": "2dQBOBQ-I7Vp"
      },
      "execution_count": null,
      "outputs": []
    },
    {
      "cell_type": "code",
      "source": [
        "dataSet = bordersRemoval(dataSet,-74.03,-73.75,40.63,40.85)"
      ],
      "metadata": {
        "id": "Deyg0nQ2Lcc9"
      },
      "execution_count": null,
      "outputs": []
    },
    {
      "cell_type": "markdown",
      "source": [
        "**3)** The following functions are used in order to give the data set the shape that we want."
      ],
      "metadata": {
        "id": "SZtdWeSfScWN"
      }
    },
    {
      "cell_type": "code",
      "source": [
        "def monthToString(month):\n",
        "    if(month is 1):\n",
        "      return \"January\"\n",
        "    if(month is 2):\n",
        "      return \"February\"\n",
        "    if(month is 3):\n",
        "      return \"March\"  \n",
        "    if(month is 4):\n",
        "      return \"April\"  \n",
        "    if(month is 5):\n",
        "      return \"May\"  \n",
        "    if(month is 6):\n",
        "      return \"June\"  \n",
        "    if(month is 7):\n",
        "      return \"July\"\n",
        "    if(month is 8):\n",
        "      return \"August\"\n",
        "    if(month is 9):\n",
        "      return \"September\"  \n",
        "    if(month is 10):\n",
        "      return \"Octomber\"  \n",
        "    if(month is 11):\n",
        "      return \"November\"  \n",
        "    if(month is 12):\n",
        "      return \"December\" \n",
        "\n",
        "def dayNameToString(dayName):\n",
        "    if(dayName is 0):\n",
        "      return \"Monday\"\n",
        "    if(dayName is 1):\n",
        "      return \"Tuesday\"\n",
        "    if(dayName is 2):\n",
        "      return \"Wednesday\"\n",
        "    if(dayName is 3):\n",
        "      return \"Thursday\"\n",
        "    if(dayName is 4):\n",
        "      return \"Friday\"\n",
        "    if(dayName is 5):\n",
        "      return \"Saturday\"\n",
        "    if(dayName is 6):\n",
        "      return \"Sunday\"  \n",
        "\n",
        "def monthToSeason(month):\n",
        "    if(month >= 3 and month <= 5):\n",
        "      return \"Spring\"\n",
        "    if(month >= 6 and month <= 8):\n",
        "      return \"Summer\"\n",
        "    if(month >= 9 and month <= 11):\n",
        "      return \"Fall\"\n",
        "    return \"Winter\"\n",
        "\n",
        "def dayPeriodToString(hour):\n",
        "    if(hour >= 6 and hour < 12):\n",
        "      return \"Morning\"\n",
        "    if(hour >= 12 and hour < 16):\n",
        "      return \"Afternoon\"\n",
        "    if(hour >= 16 and hour < 22):\n",
        "      return \"Evening\"\n",
        "    return \"Late Night\""
      ],
      "metadata": {
        "id": "d2rtDeXNREge"
      },
      "execution_count": null,
      "outputs": []
    },
    {
      "cell_type": "markdown",
      "source": [
        "The following function uses all the above ones in order to manipulate the data."
      ],
      "metadata": {
        "id": "AKW5IlO8XOSx"
      }
    },
    {
      "cell_type": "code",
      "source": [
        "def dataSetConverter(set,column,string):\n",
        "\n",
        "  dayPeriod = []\n",
        "  dayName = []\n",
        "  month = []\n",
        "  hour = []\n",
        "  year = []\n",
        "  season = []\n",
        "\n",
        "  for x in column:\n",
        "    dayPeriod.append(dayPeriodToString(x.hour))\n",
        "    month.append(monthToString(x.month))\n",
        "    dayName.append(dayNameToString(x.weekday()))\n",
        "    season.append(monthToSeason(x.month))\n",
        "    hour.append(str(x.hour).rjust(2, '0'))\n",
        "    year.append(x.year)\n",
        "\n",
        "  set.insert(1,string+\"_day_period\",dayPeriod)\n",
        "  set.insert(1,string+\"_day_name\",dayName)\n",
        "  set.insert(1,string+\"_month\",month)\n",
        "  set.insert(1,string+\"_hour\",hour)\n",
        "  set.insert(1,string+\"_year\",year)\n",
        "  set.insert(1,string+\"_season\",season)\n"
      ],
      "metadata": {
        "id": "Cf6KSSSSNmhM"
      },
      "execution_count": null,
      "outputs": []
    },
    {
      "cell_type": "markdown",
      "source": [
        "We use the to_datetime() function in order to transform the 'pickup_datetime','dropoff_datetime'rows into datetime objects."
      ],
      "metadata": {
        "id": "j2g8kIPyMFu-"
      }
    },
    {
      "cell_type": "code",
      "source": [
        "dataSet['pickup_datetime'] = pd.to_datetime(dataSet['pickup_datetime'])\n",
        "dataSet['dropoff_datetime'] = pd.to_datetime(dataSet['dropoff_datetime'])"
      ],
      "metadata": {
        "id": "6n9u7QmT9Aiv"
      },
      "execution_count": null,
      "outputs": []
    },
    {
      "cell_type": "markdown",
      "source": [
        "We do the same functionality for the test data set."
      ],
      "metadata": {
        "id": "zWsH5W4wMakt"
      }
    },
    {
      "cell_type": "code",
      "source": [
        "testSet['pickup_datetime'] = pd.to_datetime(testSet['pickup_datetime'])"
      ],
      "metadata": {
        "id": "ptz4VwxDJ8Um"
      },
      "execution_count": null,
      "outputs": []
    },
    {
      "cell_type": "markdown",
      "source": [
        "Then we break the 'pickup_datetime'and 'dropoff_datetime' column in multiple columns, as instructed in the paper of the project."
      ],
      "metadata": {
        "id": "k1vCFXG4MhnJ"
      }
    },
    {
      "cell_type": "code",
      "source": [
        "dataSetConverter(dataSet,dataSet['pickup_datetime'],\"pickup\")\n",
        "dataSetConverter(dataSet,dataSet['dropoff_datetime'],\"dropoff\")"
      ],
      "metadata": {
        "id": "YOq-dAIAWntR"
      },
      "execution_count": null,
      "outputs": []
    },
    {
      "cell_type": "markdown",
      "source": [
        "We do the same functionality for the test data set."
      ],
      "metadata": {
        "id": "1MfJzbaqMjoQ"
      }
    },
    {
      "cell_type": "code",
      "source": [
        "dataSetConverter(testSet,testSet['pickup_datetime'],\"pickup\")"
      ],
      "metadata": {
        "id": "pLYsCvUZKAGq"
      },
      "execution_count": null,
      "outputs": []
    },
    {
      "cell_type": "markdown",
      "source": [
        "The following code plots the histograms needed."
      ],
      "metadata": {
        "id": "4yShD-lWM00L"
      }
    },
    {
      "cell_type": "code",
      "source": [
        "import matplotlib.pyplot as plt\n",
        "\n",
        "dataSet['pickup_day_name'].value_counts().plot(kind='bar')\n",
        "plt.show()\n",
        "dataSet['dropoff_day_name'].value_counts().plot(kind='bar')\n",
        "plt.show()\n",
        "dataSet['pickup_day_period'].value_counts().plot(kind='bar')\n",
        "plt.show()\n",
        "dataSet['dropoff_day_period'].value_counts().plot(kind='bar')\n",
        "plt.show()\n",
        "dataSet['pickup_month'].value_counts().plot(kind='bar')\n",
        "plt.show()\n",
        "dataSet['dropoff_month'].value_counts().plot(kind='bar')\n",
        "plt.show()"
      ],
      "metadata": {
        "colab": {
          "base_uri": "https://localhost:8080/",
          "height": 1000
        },
        "id": "Co6QiHfJeeG2",
        "outputId": "8d69d8a8-d5b5-408d-b2d1-21f84d17ff6c"
      },
      "execution_count": null,
      "outputs": [
        {
          "output_type": "display_data",
          "data": {
            "text/plain": [
              "<Figure size 432x288 with 1 Axes>"
            ],
            "image/png": "[encoded data removed]"
          },
          "metadata": {
            "needs_background": "light"
          }
        },
        {
          "output_type": "display_data",
          "data": {
            "text/plain": [
              "<Figure size 432x288 with 1 Axes>"
            ],
            "image/png": "[encoded data removed]"
          },
          "metadata": {
            "needs_background": "light"
          }
        },
        {
          "output_type": "display_data",
          "data": {
            "text/plain": [
              "<Figure size 432x288 with 1 Axes>"
            ],
            "image/png": "[encoded data removed]"
          },
          "metadata": {
            "needs_background": "light"
          }
        },
        {
          "output_type": "display_data",
          "data": {
            "text/plain": [
              "<Figure size 432x288 with 1 Axes>"
            ],
            "image/png": "[encoded data removed]"
          },
          "metadata": {
            "needs_background": "light"
          }
        },
        {
          "output_type": "display_data",
          "data": {
            "text/plain": [
              "<Figure size 432x288 with 1 Axes>"
            ],
            "image/png": "[encoded data removed]"
          },
          "metadata": {
            "needs_background": "light"
          }
        },
        {
          "output_type": "display_data",
          "data": {
            "text/plain": [
              "<Figure size 432x288 with 1 Axes>"
            ],
            "image/png": "[encoded data removed]"
          },
          "metadata": {
            "needs_background": "light"
          }
        }
      ]
    },
    {
      "cell_type": "markdown",
      "source": [
        "We plot the trips duration grouped by the hour that the pickup occured, as instructed in the paper. We can see that the biggest durations occur on working-hours."
      ],
      "metadata": {
        "id": "Mw7N82CJNikX"
      }
    },
    {
      "cell_type": "code",
      "source": [
        "grouping = dataSet.groupby(['pickup_hour'])\n",
        "average = grouping['trip_duration'].mean()\n",
        "average.plot.bar()"
      ],
      "metadata": {
        "id": "8HKpsHsYmIrY",
        "colab": {
          "base_uri": "https://localhost:8080/",
          "height": 300
        },
        "outputId": "cec488fb-56e2-47e8-a021-665ffeb16f0e"
      },
      "execution_count": null,
      "outputs": [
        {
          "output_type": "execute_result",
          "data": {
            "text/plain": [
              "<matplotlib.axes._subplots.AxesSubplot at 0x7fca9e5f03d0>"
            ]
          },
          "metadata": {},
          "execution_count": 19
        },
        {
          "output_type": "display_data",
          "data": {
            "text/plain": [
              "<Figure size 432x288 with 1 Axes>"
            ],
            "image/png": "[encoded data removed]"
          },
          "metadata": {
            "needs_background": "light"
          }
        }
      ]
    },
    {
      "cell_type": "markdown",
      "source": [
        "We plot the trips duration grouped by the day period that the pickup occured, as instructed in the paper. We can see that the biggest durations occur on evening(working-hours)."
      ],
      "metadata": {
        "id": "Gj8I8LpYTGTq"
      }
    },
    {
      "cell_type": "code",
      "source": [
        "grouping = dataSet.groupby(['pickup_day_period'])\n",
        "average = grouping['trip_duration'].mean()\n",
        "average.plot.bar()"
      ],
      "metadata": {
        "id": "z8IDgz8f4bwd",
        "colab": {
          "base_uri": "https://localhost:8080/",
          "height": 339
        },
        "outputId": "6a305425-29ca-4e55-8449-ec408d73436a"
      },
      "execution_count": null,
      "outputs": [
        {
          "output_type": "execute_result",
          "data": {
            "text/plain": [
              "<matplotlib.axes._subplots.AxesSubplot at 0x7fcaaa49b550>"
            ]
          },
          "metadata": {},
          "execution_count": 20
        },
        {
          "output_type": "display_data",
          "data": {
            "text/plain": [
              "<Figure size 432x288 with 1 Axes>"
            ],
            "image/png": "[encoded data removed]"
          },
          "metadata": {
            "needs_background": "light"
          }
        }
      ]
    },
    {
      "cell_type": "markdown",
      "source": [
        "We plot the trips duration grouped by the hour that the pickup occured, as instructed in the paper. We can see that the biggest durations occur on the work days."
      ],
      "metadata": {
        "id": "hjzRIgcqTQ5s"
      }
    },
    {
      "cell_type": "code",
      "source": [
        "grouping = dataSet.groupby(['pickup_day_name'])\n",
        "average = grouping['trip_duration'].mean()\n",
        "average.plot.bar()"
      ],
      "metadata": {
        "colab": {
          "base_uri": "https://localhost:8080/",
          "height": 345
        },
        "id": "CDJslo1Y7j59",
        "outputId": "3824d83d-befa-4e25-ac8e-a4100d523303"
      },
      "execution_count": null,
      "outputs": [
        {
          "output_type": "execute_result",
          "data": {
            "text/plain": [
              "<matplotlib.axes._subplots.AxesSubplot at 0x7fcaa985a810>"
            ]
          },
          "metadata": {},
          "execution_count": 21
        },
        {
          "output_type": "display_data",
          "data": {
            "text/plain": [
              "<Figure size 432x288 with 1 Axes>"
            ],
            "image/png": "[encoded data removed]"
          },
          "metadata": {
            "needs_background": "light"
          }
        }
      ]
    },
    {
      "cell_type": "markdown",
      "source": [
        "**4)** We then plot a histogram for the 'trip_duration' column."
      ],
      "metadata": {
        "id": "3McmUbUHNr1N"
      }
    },
    {
      "cell_type": "code",
      "source": [
        "plt.hist(dataSet['trip_duration'],bins=100)\n"
      ],
      "metadata": {
        "colab": {
          "base_uri": "https://localhost:8080/",
          "height": 872
        },
        "id": "LKrm_Rbs9xN9",
        "outputId": "2a404eea-f914-409c-8414-52fae44bd46b"
      },
      "execution_count": null,
      "outputs": [
        {
          "output_type": "execute_result",
          "data": {
            "text/plain": [
              "(array([ 3151.,  2194.,  3189.,  5783.,  8612., 11904., 16120., 18622.,\n",
              "        21188., 23428., 26618., 26539., 27516., 29401., 28791., 28898.,\n",
              "        28515., 29878., 28323., 27763., 28386., 26634., 26178., 25626.,\n",
              "        25706., 24006., 23001., 23592., 21834., 21108., 20316., 20357.,\n",
              "        18697., 18250., 18189., 16880., 16389., 16121., 14950., 14200.,\n",
              "        13938., 13462., 12426., 11896., 11908., 11060., 10601., 10325.,\n",
              "        10143.,  9263.,  8990.,  8754.,  8034.,  7774.,  7354.,  7428.,\n",
              "         6756.,  6579.,  6471.,  5889.,  5780.,  5487.,  5532.,  5029.,\n",
              "         4814.,  4688.,  4413.,  4065.,  3962.,  3680.,  3749.,  3451.,\n",
              "         3434.,  3248.,  3027.,  3018.,  2849.,  2699.,  2549.,  2493.,\n",
              "         2332.,  2258.,  2210.,  2012.,  1957.,  1874.,  1905.,  1729.,\n",
              "         1663.,  1633.,  1573.,  1359.,  1354.,  1422.,  1325.,  1256.,\n",
              "         1217.,  1114.,  1130.,  1141.]),\n",
              " array([1.00000e+00, 2.52900e+01, 4.95800e+01, 7.38700e+01, 9.81600e+01,\n",
              "        1.22450e+02, 1.46740e+02, 1.71030e+02, 1.95320e+02, 2.19610e+02,\n",
              "        2.43900e+02, 2.68190e+02, 2.92480e+02, 3.16770e+02, 3.41060e+02,\n",
              "        3.65350e+02, 3.89640e+02, 4.13930e+02, 4.38220e+02, 4.62510e+02,\n",
              "        4.86800e+02, 5.11090e+02, 5.35380e+02, 5.59670e+02, 5.83960e+02,\n",
              "        6.08250e+02, 6.32540e+02, 6.56830e+02, 6.81120e+02, 7.05410e+02,\n",
              "        7.29700e+02, 7.53990e+02, 7.78280e+02, 8.02570e+02, 8.26860e+02,\n",
              "        8.51150e+02, 8.75440e+02, 8.99730e+02, 9.24020e+02, 9.48310e+02,\n",
              "        9.72600e+02, 9.96890e+02, 1.02118e+03, 1.04547e+03, 1.06976e+03,\n",
              "        1.09405e+03, 1.11834e+03, 1.14263e+03, 1.16692e+03, 1.19121e+03,\n",
              "        1.21550e+03, 1.23979e+03, 1.26408e+03, 1.28837e+03, 1.31266e+03,\n",
              "        1.33695e+03, 1.36124e+03, 1.38553e+03, 1.40982e+03, 1.43411e+03,\n",
              "        1.45840e+03, 1.48269e+03, 1.50698e+03, 1.53127e+03, 1.55556e+03,\n",
              "        1.57985e+03, 1.60414e+03, 1.62843e+03, 1.65272e+03, 1.67701e+03,\n",
              "        1.70130e+03, 1.72559e+03, 1.74988e+03, 1.77417e+03, 1.79846e+03,\n",
              "        1.82275e+03, 1.84704e+03, 1.87133e+03, 1.89562e+03, 1.91991e+03,\n",
              "        1.94420e+03, 1.96849e+03, 1.99278e+03, 2.01707e+03, 2.04136e+03,\n",
              "        2.06565e+03, 2.08994e+03, 2.11423e+03, 2.13852e+03, 2.16281e+03,\n",
              "        2.18710e+03, 2.21139e+03, 2.23568e+03, 2.25997e+03, 2.28426e+03,\n",
              "        2.30855e+03, 2.33284e+03, 2.35713e+03, 2.38142e+03, 2.40571e+03,\n",
              "        2.43000e+03]),\n",
              " <a list of 100 Patch objects>)"
            ]
          },
          "metadata": {},
          "execution_count": 22
        },
        {
          "output_type": "display_data",
          "data": {
            "text/plain": [
              "<Figure size 432x288 with 1 Axes>"
            ],
            "image/png": "[encoded data removed]"
          },
          "metadata": {
            "needs_background": "light"
          }
        }
      ]
    },
    {
      "cell_type": "markdown",
      "source": [
        "Then we insert in the data set a new column, 'log_trip_duration' and we plot it as a histogram as well."
      ],
      "metadata": {
        "id": "-xMs_OHbN3zK"
      }
    },
    {
      "cell_type": "code",
      "source": [
        "dataSet.insert(1,\"log_trip_duration\",np.log(dataSet['trip_duration']))\n",
        "plt.hist(dataSet['log_trip_duration'],bins=100)"
      ],
      "metadata": {
        "colab": {
          "base_uri": "https://localhost:8080/",
          "height": 994
        },
        "id": "Mn2juDY8AP9t",
        "outputId": "6e3188e7-de6f-4da4-96ff-84eda8ec3572"
      },
      "execution_count": null,
      "outputs": [
        {
          "output_type": "execute_result",
          "data": {
            "text/plain": [
              "(array([2.8000e+01, 0.0000e+00, 0.0000e+00, 0.0000e+00, 0.0000e+00,\n",
              "        0.0000e+00, 0.0000e+00, 0.0000e+00, 1.2700e+02, 0.0000e+00,\n",
              "        0.0000e+00, 0.0000e+00, 0.0000e+00, 0.0000e+00, 2.2300e+02,\n",
              "        0.0000e+00, 0.0000e+00, 2.3000e+02, 0.0000e+00, 0.0000e+00,\n",
              "        2.1400e+02, 0.0000e+00, 1.4300e+02, 0.0000e+00, 1.6300e+02,\n",
              "        0.0000e+00, 1.5200e+02, 0.0000e+00, 1.7900e+02, 1.3700e+02,\n",
              "        1.2700e+02, 1.1100e+02, 1.2300e+02, 1.3200e+02, 1.0900e+02,\n",
              "        9.1000e+01, 1.1100e+02, 1.9200e+02, 9.0000e+01, 1.7500e+02,\n",
              "        1.9000e+02, 1.8600e+02, 1.7300e+02, 1.6900e+02, 2.8500e+02,\n",
              "        2.5700e+02, 2.5100e+02, 2.7500e+02, 3.0300e+02, 3.9900e+02,\n",
              "        3.8000e+02, 4.7600e+02, 6.3700e+02, 7.0300e+02, 8.0700e+02,\n",
              "        1.0890e+03, 1.4810e+03, 1.4930e+03, 2.1910e+03, 2.5710e+03,\n",
              "        3.3560e+03, 3.7470e+03, 4.6710e+03, 5.8860e+03, 7.1960e+03,\n",
              "        8.9240e+03, 1.0668e+04, 1.2223e+04, 1.4166e+04, 1.7295e+04,\n",
              "        1.9259e+04, 2.1673e+04, 2.5674e+04, 2.7603e+04, 3.0745e+04,\n",
              "        3.3763e+04, 3.5768e+04, 3.9333e+04, 4.1176e+04, 4.4520e+04,\n",
              "        4.5286e+04, 4.7677e+04, 4.7763e+04, 4.9416e+04, 4.8689e+04,\n",
              "        4.8121e+04, 4.8287e+04, 4.5574e+04, 4.3298e+04, 4.0811e+04,\n",
              "        3.7938e+04, 3.4639e+04, 3.0969e+04, 2.7455e+04, 2.3805e+04,\n",
              "        2.0164e+04, 1.7079e+04, 1.3960e+04, 1.1334e+04, 9.2510e+03]),\n",
              " array([0.        , 0.07795647, 0.15591293, 0.2338694 , 0.31182586,\n",
              "        0.38978233, 0.46773879, 0.54569526, 0.62365172, 0.70160819,\n",
              "        0.77956465, 0.85752112, 0.93547758, 1.01343405, 1.09139052,\n",
              "        1.16934698, 1.24730345, 1.32525991, 1.40321638, 1.48117284,\n",
              "        1.55912931, 1.63708577, 1.71504224, 1.7929987 , 1.87095517,\n",
              "        1.94891163, 2.0268681 , 2.10482456, 2.18278103, 2.2607375 ,\n",
              "        2.33869396, 2.41665043, 2.49460689, 2.57256336, 2.65051982,\n",
              "        2.72847629, 2.80643275, 2.88438922, 2.96234568, 3.04030215,\n",
              "        3.11825861, 3.19621508, 3.27417155, 3.35212801, 3.43008448,\n",
              "        3.50804094, 3.58599741, 3.66395387, 3.74191034, 3.8198668 ,\n",
              "        3.89782327, 3.97577973, 4.0537362 , 4.13169266, 4.20964913,\n",
              "        4.28760559, 4.36556206, 4.44351853, 4.52147499, 4.59943146,\n",
              "        4.67738792, 4.75534439, 4.83330085, 4.91125732, 4.98921378,\n",
              "        5.06717025, 5.14512671, 5.22308318, 5.30103964, 5.37899611,\n",
              "        5.45695258, 5.53490904, 5.61286551, 5.69082197, 5.76877844,\n",
              "        5.8467349 , 5.92469137, 6.00264783, 6.0806043 , 6.15856076,\n",
              "        6.23651723, 6.31447369, 6.39243016, 6.47038663, 6.54834309,\n",
              "        6.62629956, 6.70425602, 6.78221249, 6.86016895, 6.93812542,\n",
              "        7.01608188, 7.09403835, 7.17199481, 7.24995128, 7.32790774,\n",
              "        7.40586421, 7.48382067, 7.56177714, 7.63973361, 7.71769007,\n",
              "        7.79564654]),\n",
              " <a list of 100 Patch objects>)"
            ]
          },
          "metadata": {},
          "execution_count": 14
        },
        {
          "output_type": "display_data",
          "data": {
            "text/plain": [
              "<Figure size 432x288 with 1 Axes>"
            ],
            "image/png": "[encoded data removed]"
          },
          "metadata": {
            "needs_background": "light"
          }
        }
      ]
    },
    {
      "cell_type": "markdown",
      "source": [
        "We do the same insertion for the target data set."
      ],
      "metadata": {
        "id": "H7KrTnOYOC1q"
      }
    },
    {
      "cell_type": "code",
      "source": [
        "targetSet.insert(1,\"log_trip_duration\",np.log(targetSet['trip_duration']))"
      ],
      "metadata": {
        "id": "G6rjM6oFLLlJ"
      },
      "execution_count": null,
      "outputs": []
    },
    {
      "cell_type": "markdown",
      "source": [
        "**5)** We plot the trips duration grouped by the vendors id, as instructed in the paper."
      ],
      "metadata": {
        "id": "GJirYwUiOH9J"
      }
    },
    {
      "cell_type": "code",
      "source": [
        "vendorGrouping = dataSet.groupby(['vendor_id'])\n",
        "average = vendorGrouping['trip_duration'].mean()\n",
        "average.plot.bar()"
      ],
      "metadata": {
        "id": "W52pW8-6Any3",
        "colab": {
          "base_uri": "https://localhost:8080/",
          "height": 294
        },
        "outputId": "184a6242-395d-477b-d606-1894c696dfd6"
      },
      "execution_count": null,
      "outputs": [
        {
          "output_type": "execute_result",
          "data": {
            "text/plain": [
              "<matplotlib.axes._subplots.AxesSubplot at 0x7fcaa2248a10>"
            ]
          },
          "metadata": {},
          "execution_count": 25
        },
        {
          "output_type": "display_data",
          "data": {
            "text/plain": [
              "<Figure size 432x288 with 1 Axes>"
            ],
            "image/png": "[encoded data removed]"
          },
          "metadata": {
            "needs_background": "light"
          }
        }
      ]
    },
    {
      "cell_type": "markdown",
      "source": [
        "**6)** We plot the trips duration grouped by the amount of passengers that a trip consists of, as instructed in the paper. We can see that the longest trips are usually the ones with 4 passengers."
      ],
      "metadata": {
        "id": "Ir96VDUvOdtT"
      }
    },
    {
      "cell_type": "code",
      "source": [
        "passengerGrouping = dataSet.groupby(['passenger_count'])\n",
        "average = passengerGrouping['trip_duration'].mean()\n",
        "average.plot.bar()"
      ],
      "metadata": {
        "colab": {
          "base_uri": "https://localhost:8080/",
          "height": 293
        },
        "id": "daGsZEqq-jwK",
        "outputId": "7796c4e8-0db4-4e3c-f41f-1696957d3b45"
      },
      "execution_count": null,
      "outputs": [
        {
          "output_type": "execute_result",
          "data": {
            "text/plain": [
              "<matplotlib.axes._subplots.AxesSubplot at 0x7fcaa1233a90>"
            ]
          },
          "metadata": {},
          "execution_count": 26
        },
        {
          "output_type": "display_data",
          "data": {
            "text/plain": [
              "<Figure size 432x288 with 1 Axes>"
            ],
            "image/png": "[encoded data removed]"
          },
          "metadata": {
            "needs_background": "light"
          }
        }
      ]
    },
    {
      "cell_type": "markdown",
      "source": [
        "**7)** We compute the manhattan distance of each row of the data set, and insert the new column as instructed in the paper."
      ],
      "metadata": {
        "id": "sb_reEaVPENA"
      }
    },
    {
      "cell_type": "code",
      "source": [
        "from sklearn.metrics.pairwise import manhattan_distances\n",
        "\n",
        "distances = []\n",
        "\n",
        "for index, row in dataSet.iterrows():\n",
        "  distances.append(manhattan_distances([[row['pickup_longitude'],row['pickup_latitude']]],[[row['dropoff_longitude'],row['dropoff_latitude']]])[0][0])\n",
        "\n",
        "dataSet.insert(1,\"manhattan_distance\",distances)"
      ],
      "metadata": {
        "id": "16GhHh60ADkO"
      },
      "execution_count": null,
      "outputs": []
    },
    {
      "cell_type": "markdown",
      "source": [
        "We then do the same functionality for the test data set."
      ],
      "metadata": {
        "id": "AA0FmWvCPNfv"
      }
    },
    {
      "cell_type": "code",
      "source": [
        "distances = []\n",
        "\n",
        "for index, row in testSet.iterrows():\n",
        "  distances.append(manhattan_distances([[row['pickup_longitude'],row['pickup_latitude']]],[[row['dropoff_longitude'],row['dropoff_latitude']]])[0][0])\n",
        "\n",
        "testSet.insert(1,\"manhattan_distance\",distances)"
      ],
      "metadata": {
        "id": "1t4rTlubVcum"
      },
      "execution_count": null,
      "outputs": []
    },
    {
      "cell_type": "markdown",
      "source": [
        "We plot the distances of the trips grouped by the week day that the pickup occured. We can see that the longest distances occured on Sundays because they are the days when most roadtrips,etc occur."
      ],
      "metadata": {
        "id": "SeJboWYVPWOu"
      }
    },
    {
      "cell_type": "code",
      "source": [
        "dayGrouping = dataSet.groupby(['pickup_day_name'])\n",
        "average = dayGrouping['manhattan_distance'].mean()\n",
        "average.plot.bar()"
      ],
      "metadata": {
        "colab": {
          "base_uri": "https://localhost:8080/",
          "height": 345
        },
        "id": "4Wlmk8YLLm_T",
        "outputId": "7243c58a-7945-4171-d4e4-1af26bd961ec"
      },
      "execution_count": null,
      "outputs": [
        {
          "output_type": "execute_result",
          "data": {
            "text/plain": [
              "<matplotlib.axes._subplots.AxesSubplot at 0x7fca995a05d0>"
            ]
          },
          "metadata": {},
          "execution_count": 29
        },
        {
          "output_type": "display_data",
          "data": {
            "text/plain": [
              "<Figure size 432x288 with 1 Axes>"
            ],
            "image/png": "[encoded data removed]"
          },
          "metadata": {
            "needs_background": "light"
          }
        }
      ]
    },
    {
      "cell_type": "markdown",
      "source": [
        "Then we scatter plot the 'trip_duration' and 'manhattan_distance' columns. We can see that the longest the duration of the trip, the biggest the distance of the trip, which was expected."
      ],
      "metadata": {
        "id": "h8zqv1BCPwEn"
      }
    },
    {
      "cell_type": "code",
      "source": [
        "plt.scatter(dataSet['trip_duration'],dataSet['manhattan_distance'])\n",
        "plt.xlabel(\"Manhattan distance\")\n",
        "plt.ylabel(\"Trip duration\")\n",
        "plt.show()"
      ],
      "metadata": {
        "colab": {
          "base_uri": "https://localhost:8080/",
          "height": 279
        },
        "id": "BLk4CuBsNi5s",
        "outputId": "62fd510d-2179-4bc0-bce5-de99cd227b10"
      },
      "execution_count": null,
      "outputs": [
        {
          "output_type": "display_data",
          "data": {
            "text/plain": [
              "<Figure size 432x288 with 1 Axes>"
            ],
            "image/png": "[encoded data removed]"
          },
          "metadata": {
            "needs_background": "light"
          }
        }
      ]
    },
    {
      "cell_type": "markdown",
      "source": [
        "**8)** We compute the average speed of all rows in the data frame and insert the new column in the set."
      ],
      "metadata": {
        "id": "A0W1mhPPQklQ"
      }
    },
    {
      "cell_type": "code",
      "source": [
        "averageSpeed = []\n",
        "\n",
        "for index, row in dataSet.iterrows():\n",
        "  averageSpeed.append(row['manhattan_distance']/row['trip_duration'])\n",
        "\n",
        "dataSet.insert(1,\"average_speed\",averageSpeed)  "
      ],
      "metadata": {
        "id": "2ugQEF6eQHgK"
      },
      "execution_count": null,
      "outputs": []
    },
    {
      "cell_type": "markdown",
      "source": [
        "Then we plot the average speed of the trips grouped by the week day that the pickup occured. We can see that the most average speed occured on Sundays, which is probably because it is the less busiest."
      ],
      "metadata": {
        "id": "qktAk5fYQtgx"
      }
    },
    {
      "cell_type": "code",
      "source": [
        "dayGrouping = dataSet.groupby(['pickup_day_name'])\n",
        "average = dayGrouping['average_speed'].mean()\n",
        "average.plot.bar()"
      ],
      "metadata": {
        "colab": {
          "base_uri": "https://localhost:8080/",
          "height": 356
        },
        "id": "fCLTVJpdR43F",
        "outputId": "dc3f088f-caf0-4494-aa45-45158b026410"
      },
      "execution_count": null,
      "outputs": [
        {
          "output_type": "execute_result",
          "data": {
            "text/plain": [
              "<matplotlib.axes._subplots.AxesSubplot at 0x7fca9953ff10>"
            ]
          },
          "metadata": {},
          "execution_count": 32
        },
        {
          "output_type": "display_data",
          "data": {
            "text/plain": [
              "<Figure size 432x288 with 1 Axes>"
            ],
            "image/png": "[encoded data removed]"
          },
          "metadata": {
            "needs_background": "light"
          }
        }
      ]
    },
    {
      "cell_type": "markdown",
      "source": [
        "Then we plot the average speed of the trips grouped by the day hour that the pickup occured. We can see that the most average speed occured on hours that aren't that busy(non-working hours)."
      ],
      "metadata": {
        "id": "tWVjJk3pRYwN"
      }
    },
    {
      "cell_type": "code",
      "source": [
        "timeGrouping = dataSet.groupby(['pickup_hour'])\n",
        "average = timeGrouping['average_speed'].mean()\n",
        "average.plot.bar()"
      ],
      "metadata": {
        "colab": {
          "base_uri": "https://localhost:8080/",
          "height": 311
        },
        "id": "YwARllKdR__3",
        "outputId": "3bbea48f-9c90-47cd-f93e-6b9224de7537"
      },
      "execution_count": null,
      "outputs": [
        {
          "output_type": "execute_result",
          "data": {
            "text/plain": [
              "<matplotlib.axes._subplots.AxesSubplot at 0x7fca696fb450>"
            ]
          },
          "metadata": {},
          "execution_count": 33
        },
        {
          "output_type": "display_data",
          "data": {
            "text/plain": [
              "<Figure size 432x288 with 1 Axes>"
            ],
            "image/png": "[encoded data removed]"
          },
          "metadata": {
            "needs_background": "light"
          }
        }
      ]
    },
    {
      "cell_type": "markdown",
      "source": [
        "Then we plot the average speed of the trips grouped by the month that the pickup occured."
      ],
      "metadata": {
        "id": "or_IM4CWRm7L"
      }
    },
    {
      "cell_type": "code",
      "source": [
        "monthGrouping = dataSet.groupby(['pickup_month'])\n",
        "average = monthGrouping['average_speed'].mean()\n",
        "average.plot.bar()"
      ],
      "metadata": {
        "colab": {
          "base_uri": "https://localhost:8080/",
          "height": 342
        },
        "id": "Ie-asu1CSFL1",
        "outputId": "0252c388-45e2-4784-de8a-cba353c74a42"
      },
      "execution_count": null,
      "outputs": [
        {
          "output_type": "execute_result",
          "data": {
            "text/plain": [
              "<matplotlib.axes._subplots.AxesSubplot at 0x7fca694e0410>"
            ]
          },
          "metadata": {},
          "execution_count": 34
        },
        {
          "output_type": "display_data",
          "data": {
            "text/plain": [
              "<Figure size 432x288 with 1 Axes>"
            ],
            "image/png": "[encoded data removed]"
          },
          "metadata": {
            "needs_background": "light"
          }
        }
      ]
    },
    {
      "cell_type": "markdown",
      "source": [
        "Then we drop the 'average_speed' column as we do not need it anymore, and was not instructed in the paper."
      ],
      "metadata": {
        "id": "2OkHCWHBR01G"
      }
    },
    {
      "cell_type": "code",
      "source": [
        "dataSet = dataSet.drop('average_speed',1)"
      ],
      "metadata": {
        "colab": {
          "base_uri": "https://localhost:8080/"
        },
        "id": "K1e9kh5hRIMK",
        "outputId": "42fa7547-f353-4594-ee76-3d5ea4883dea"
      },
      "execution_count": null,
      "outputs": [
        {
          "output_type": "stream",
          "name": "stderr",
          "text": [
            "/usr/local/lib/python3.7/dist-packages/ipykernel_launcher.py:1: FutureWarning: In a future version of pandas all arguments of DataFrame.drop except for the argument 'labels' will be keyword-only\n",
            "  \"\"\"Entry point for launching an IPython kernel.\n"
          ]
        }
      ]
    },
    {
      "cell_type": "markdown",
      "source": [
        "**9)** Finally we scatter plot the pickup longitude and latitude of all trips. We can see that most of the trips occured in the \"center\" of the map."
      ],
      "metadata": {
        "id": "mduDMbi7R9Ib"
      }
    },
    {
      "cell_type": "code",
      "source": [
        "plt.scatter(dataSet['pickup_latitude'],dataSet['pickup_longitude'])\n",
        "plt.ylabel(\"pickup_longitude\")\n",
        "plt.xlabel(\"pickup_latitude\")\n",
        "plt.show()"
      ],
      "metadata": {
        "colab": {
          "base_uri": "https://localhost:8080/",
          "height": 280
        },
        "id": "KMptHPUTSZd3",
        "outputId": "df98a402-005e-41a1-959c-c969ed65aa15"
      },
      "execution_count": null,
      "outputs": [
        {
          "output_type": "display_data",
          "data": {
            "text/plain": [
              "<Figure size 432x288 with 1 Axes>"
            ],
            "image/png": "[encoded data removed]"
          },
          "metadata": {
            "needs_background": "light"
          }
        }
      ]
    },
    {
      "cell_type": "markdown",
      "source": [
        "Same functionality and results for the dropoffs of the same trips."
      ],
      "metadata": {
        "id": "oab7POr7SKx5"
      }
    },
    {
      "cell_type": "code",
      "source": [
        "plt.scatter(dataSet['dropoff_latitude'],dataSet['dropoff_longitude'])\n",
        "plt.ylabel(\"dropoff_longitude\")\n",
        "plt.xlabel(\"dropoff_latitude\")\n",
        "plt.show()"
      ],
      "metadata": {
        "colab": {
          "base_uri": "https://localhost:8080/",
          "height": 280
        },
        "id": "A00g9wh9S93D",
        "outputId": "45c4def2-919a-497f-a147-240e82e13b72"
      },
      "execution_count": null,
      "outputs": [
        {
          "output_type": "display_data",
          "data": {
            "text/plain": [
              "<Figure size 432x288 with 1 Axes>"
            ],
            "image/png": "[encoded data removed]"
          },
          "metadata": {
            "needs_background": "light"
          }
        }
      ]
    },
    {
      "cell_type": "markdown",
      "source": [
        "**Συσταδοποίηση και πρόβλεψη διάρκειας ταξιδιού.**"
      ],
      "metadata": {
        "id": "JNbIw_-tSQr4"
      }
    },
    {
      "cell_type": "markdown",
      "source": [
        "We run the following code with the first 1000 rows of our dataset, for time-efficiency. I have also run all the cells until the grid search with the whole dataset and the results were more clear, but the grid search takes way too much time with the whole dataset. For this reason, we reduced the dataset and kept a usable amount of it."
      ],
      "metadata": {
        "id": "5tEm2tVR67Kp"
      }
    },
    {
      "cell_type": "markdown",
      "source": [
        "**1)** First we use the elbow function in order to find the optimal number of clusters. We plot the results and keep the optimal number."
      ],
      "metadata": {
        "id": "iFk_iisQ4dmh"
      }
    },
    {
      "cell_type": "code",
      "source": [
        "from sklearn.decomposition import PCA\n",
        "from sklearn.cluster import KMeans\n",
        "\n",
        "smallDataSet = dataSet.head(1000)\n",
        "smallTestSet = testSet.head(1000)\n",
        "smallTargetSet = targetSet.head(1000)\n",
        "\n",
        "X = pd.concat([smallDataSet['pickup_longitude'],smallDataSet['pickup_latitude']],axis=1,keys=['pickup_longitude','pickup_latitude'])\n",
        "\n",
        "sse = []\n",
        "for k in range(1,11):\n",
        "  kmeans = KMeans(n_clusters=k)\n",
        "  kmeans.fit(X)\n",
        "  sse.append(kmeans.inertia_)\n",
        "\n",
        "plt.style.use(\"fivethirtyeight\")\n",
        "plt.plot(range(1,11),sse)\n",
        "plt.xticks(range(1,11))\n",
        "plt.xlabel(\"Number of Clusters\")\n",
        "plt.ylabel(\"SSE\")\n",
        "plt.show()"
      ],
      "metadata": {
        "colab": {
          "base_uri": "https://localhost:8080/",
          "height": 304
        },
        "id": "pXuDTZPVIluT",
        "outputId": "7a3b936d-1bac-41a4-d259-8508f668afaa"
      },
      "execution_count": null,
      "outputs": [
        {
          "output_type": "display_data",
          "data": {
            "text/plain": [
              "<Figure size 432x288 with 1 Axes>"
            ],
            "image/png": "[encoded data removed]"
          },
          "metadata": {}
        }
      ]
    },
    {
      "cell_type": "markdown",
      "source": [
        "Then, we execute the kMeans algorithm with number of clusters equal to the optimal number that we can extract from the above plot. As we can see, the items are clustered optimally between the 4 clusters that we initialized. Supposing we used the whole dataset, the results would be even clearer."
      ],
      "metadata": {
        "id": "Vi8sjg4c5FBr"
      }
    },
    {
      "cell_type": "code",
      "source": [
        "kmeansModel = KMeans(n_clusters = 4).fit(X)\n",
        "labels = np.asarray(kmeansModel.labels_)\n",
        "\n",
        "colors = ['green','yellow','red','blue']\n",
        "\n",
        "for index in range(4):\n",
        "  label = X.iloc[np.where(labels == index)[0]]\n",
        "  plt.scatter(label.iloc[:,0],label.iloc[:,1],color=colors[index],edgecolors='white')\n",
        "\n",
        "centroids = kmeansModel.cluster_centers_\n",
        "plt.scatter(centroids[:,0],centroids[:,1],color=colors[index],edgecolors='black')\n",
        "plt.show()"
      ],
      "metadata": {
        "colab": {
          "base_uri": "https://localhost:8080/",
          "height": 282
        },
        "id": "6QlUhjfF-Tsk",
        "outputId": "15a4af9c-50b7-4afc-dcd5-31e76e865172"
      },
      "execution_count": null,
      "outputs": [
        {
          "output_type": "display_data",
          "data": {
            "text/plain": [
              "<Figure size 432x288 with 1 Axes>"
            ],
            "image/png": "[encoded data removed]"
          },
          "metadata": {}
        }
      ]
    },
    {
      "cell_type": "markdown",
      "source": [
        "**2)** The following function transforms all strings from every row of the dataset (columns that we need) into numbers in order for the following part of the program to work."
      ],
      "metadata": {
        "id": "I3MG1IzD5lb9"
      }
    },
    {
      "cell_type": "code",
      "source": [
        "def digitization(dataFrame):\n",
        "\n",
        "  dataFrame = dataFrame.replace([\"Monday\"],1)\n",
        "  dataFrame = dataFrame.replace([\"Tuesday\"],2)\n",
        "  dataFrame = dataFrame.replace([\"Wednesday\"],3)\n",
        "  dataFrame = dataFrame.replace([\"Thursday\"],4)\n",
        "  dataFrame = dataFrame.replace([\"Friday\"],5)\n",
        "  dataFrame = dataFrame.replace([\"Saturday\"],6)\n",
        "  dataFrame = dataFrame.replace([\"Sunday\"],7)\n",
        "\n",
        "  dataFrame = dataFrame.replace([\"January\"],1)\n",
        "  dataFrame = dataFrame.replace([\"February\"],2)\n",
        "  dataFrame = dataFrame.replace([\"March\"],3)\n",
        "  dataFrame = dataFrame.replace([\"April\"],4)\n",
        "  dataFrame = dataFrame.replace([\"May\"],5)\n",
        "  dataFrame = dataFrame.replace([\"June\"],6)\n",
        "  dataFrame = dataFrame.replace([\"July\"],7)\n",
        "  dataFrame = dataFrame.replace([\"August\"],8)\n",
        "  dataFrame = dataFrame.replace([\"September\"],9)\n",
        "  dataFrame = dataFrame.replace([\"Octomber\"],10)\n",
        "  dataFrame = dataFrame.replace([\"November\"],11)\n",
        "  dataFrame = dataFrame.replace([\"December\"],12)\n",
        "\n",
        "  dataFrame = dataFrame.replace([\"Summer\"],1)\n",
        "  dataFrame = dataFrame.replace([\"Winter\"],2)\n",
        "  dataFrame = dataFrame.replace([\"Spring\"],3)\n",
        "  dataFrame = dataFrame.replace([\"Fall\"],4)\n",
        "\n",
        "  dataFrame = dataFrame.replace([\"Morning\"],1)\n",
        "  dataFrame = dataFrame.replace([\"Afternoon\"],2)\n",
        "  dataFrame = dataFrame.replace([\"Evening\"],3)\n",
        "  dataFrame = dataFrame.replace([\"Late Night\"],4)\n",
        "\n",
        "  return dataFrame"
      ],
      "metadata": {
        "id": "IyXn9_HC3lGC"
      },
      "execution_count": null,
      "outputs": []
    },
    {
      "cell_type": "markdown",
      "source": [
        "We initialize two sub-datasets that will be used for the random forests regression algorithm. Those sub-datasets include only the columns that we need, according to the paper."
      ],
      "metadata": {
        "id": "CPhkJczx5yCs"
      }
    },
    {
      "cell_type": "code",
      "source": [
        "from sklearn.ensemble import RandomForestRegressor\n",
        "from sklearn.datasets import make_regression\n",
        "\n",
        "subDataSet = smallDataSet[\n",
        "                     [\"vendor_id\", \n",
        "                      \"passenger_count\", \n",
        "                      \"pickup_longitude\", \n",
        "                      \"pickup_latitude\", \n",
        "                      \"dropoff_longitude\", \n",
        "                      \"dropoff_latitude\", \n",
        "                      \"pickup_day_name\", \n",
        "                      \"pickup_month\", \n",
        "                      \"pickup_season\", \n",
        "                      \"pickup_day_period\", \n",
        "                      \"pickup_hour\", \n",
        "                      \"manhattan_distance\"]\n",
        "                     ]\n",
        "\n",
        "subTestSet = smallTestSet[\n",
        "                     [\"vendor_id\", \n",
        "                      \"passenger_count\", \n",
        "                      \"pickup_longitude\", \n",
        "                      \"pickup_latitude\", \n",
        "                      \"dropoff_longitude\", \n",
        "                      \"dropoff_latitude\", \n",
        "                      \"pickup_day_name\", \n",
        "                      \"pickup_month\", \n",
        "                      \"pickup_season\", \n",
        "                      \"pickup_day_period\", \n",
        "                      \"pickup_hour\", \n",
        "                      \"manhattan_distance\"]\n",
        "                     ]\n",
        "\n",
        "subDataSet = digitization(subDataSet)\n",
        "subTestSet = digitization(subTestSet)\n",
        "\n",
        "ar = dataSet['log_trip_duration'].head(1000).to_numpy()\n",
        "ar = ar.flatten()"
      ],
      "metadata": {
        "id": "lFBT6x3MV5vx"
      },
      "execution_count": null,
      "outputs": []
    },
    {
      "cell_type": "markdown",
      "source": [
        "We train a random forest model, and use it in order to predict the results, using the test dataset."
      ],
      "metadata": {
        "id": "NOuhzfXE6Bi0"
      }
    },
    {
      "cell_type": "code",
      "source": [
        "regr = RandomForestRegressor(max_depth=2, random_state=0)\n",
        "\n",
        "regr.fit(subDataSet,ar)\n",
        "predictions = regr.predict(subTestSet)"
      ],
      "metadata": {
        "id": "SDJdezbWG1I-"
      },
      "execution_count": null,
      "outputs": []
    },
    {
      "cell_type": "markdown",
      "source": [
        "Then we compare the results with the correct column, that is included in the target dataset, and print the Mean-Absolute-Error and Mean-Squared-Error."
      ],
      "metadata": {
        "id": "8BOY6CDV6Jil"
      }
    },
    {
      "cell_type": "code",
      "source": [
        "import sklearn.metrics as metrics\n",
        "\n",
        "mae = metrics.mean_absolute_error(predictions,smallTargetSet['log_trip_duration'])\n",
        "mse = metrics.mean_squared_error(predictions,smallTargetSet['log_trip_duration'])\n",
        "\n",
        "print(\"MAE:\",mae)\n",
        "print(\"MSE:\", mse)"
      ],
      "metadata": {
        "colab": {
          "base_uri": "https://localhost:8080/"
        },
        "id": "qQu1Ssm0G2Qs",
        "outputId": "4b0d1015-8619-4866-9d2a-fbb65b2ee89e"
      },
      "execution_count": null,
      "outputs": [
        {
          "output_type": "stream",
          "name": "stdout",
          "text": [
            "MAE: 0.37804078754417675\n",
            "MSE: 0.26066370192160115\n"
          ]
        }
      ]
    },
    {
      "cell_type": "markdown",
      "source": [
        "**3)** In this part we train a grid search model in order to find the best parameters that we should use with our dataset, in order to minimize both our errors."
      ],
      "metadata": {
        "id": "5TmrGEyI6V2M"
      }
    },
    {
      "cell_type": "code",
      "source": [
        "from sklearn.model_selection import GridSearchCV\n",
        "\n",
        "params = {\n",
        "    'max_depth': [80, 90, 100, 110],\n",
        "    'max_features': [2, 3],\n",
        "    'n_estimators': [100, 200, 300, 1000]\n",
        "}\n",
        "\n",
        "grid_search = GridSearchCV(estimator = regr,param_grid = params)\n",
        "grid_search.fit(subDataSet,ar)\n",
        "\n",
        "grid_search.best_params_"
      ],
      "metadata": {
        "colab": {
          "base_uri": "https://localhost:8080/"
        },
        "id": "cfj_DyZG4VEj",
        "outputId": "43c22e53-0c48-4c72-a585-615707c70470"
      },
      "execution_count": null,
      "outputs": [
        {
          "output_type": "execute_result",
          "data": {
            "text/plain": [
              "{'max_depth': 80, 'max_features': 3, 'n_estimators': 300}"
            ]
          },
          "metadata": {},
          "execution_count": 53
        }
      ]
    },
    {
      "cell_type": "markdown",
      "source": [
        "**4)** We then again train a random forest model, predict again using the test set and print both our errors. We can see that both the Mean-Absolute-Error and Mean-Squared-Error were reduced. We expected this to happen though, as we intentionally used grid search so that we could re-train the model using the optimal parameters."
      ],
      "metadata": {
        "id": "mnTE-O476hPW"
      }
    },
    {
      "cell_type": "code",
      "source": [
        "regr = RandomForestRegressor(max_depth=80, max_features=3, n_estimators=300)\n",
        "\n",
        "regr.fit(subDataSet,ar)\n",
        "predictions = regr.predict(subTestSet)\n",
        "\n",
        "mae = metrics.mean_absolute_error(predictions,smallTargetSet['log_trip_duration'])\n",
        "mse = metrics.mean_squared_error(predictions,smallTargetSet['log_trip_duration'])\n",
        "\n",
        "print(\"MAE:\",mae)\n",
        "print(\"MSE:\", mse)"
      ],
      "metadata": {
        "colab": {
          "base_uri": "https://localhost:8080/"
        },
        "id": "5w3kHaTMAGfA",
        "outputId": "b08c6ae3-c676-4739-fab5-2b5d6c65af9a"
      },
      "execution_count": null,
      "outputs": [
        {
          "output_type": "stream",
          "name": "stdout",
          "text": [
            "MAE: 0.34454737983625294\n",
            "MSE: 0.22034719943905276\n"
          ]
        }
      ]
    }
  ]
}