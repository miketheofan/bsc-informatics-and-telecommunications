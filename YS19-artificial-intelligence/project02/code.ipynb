{
  "nbformat": 4,
  "nbformat_minor": 0,
  "metadata": {
    "colab": {
      "provenance": []
    },
    "kernelspec": {
      "name": "python3",
      "display_name": "Python 3"
    },
    "language_info": {
      "name": "python"
    }
  },
  "cells": [
    {
      "cell_type": "code",
      "execution_count": 1,
      "metadata": {
        "id": "mzK9I_ELFs6s",
        "colab": {
          "base_uri": "https://localhost:8080/"
        },
        "outputId": "be7f5b1c-8974-442d-eb05-f634d0e517b8"
      },
      "outputs": [
        {
          "output_type": "stream",
          "name": "stdout",
          "text": [
            "Mounted at /content/gdrive\n"
          ]
        }
      ],
      "source": [
        "from google.colab import drive\n",
        "drive.mount('/content/gdrive')"
      ]
    },
    {
      "cell_type": "code",
      "source": [
        "import warnings\n",
        "\"\"\" We use this in order for the results to be more visible \"\"\" \n",
        "warnings.filterwarnings('ignore')"
      ],
      "metadata": {
        "id": "ekI7pCosx4Fb"
      },
      "execution_count": 2,
      "outputs": []
    },
    {
      "cell_type": "code",
      "source": [
        "import nltk\n",
        "nltk.download('wordnet')\n",
        "nltk.download('omw-1.4')\n",
        "nltk.download('punkt')"
      ],
      "metadata": {
        "colab": {
          "base_uri": "https://localhost:8080/"
        },
        "id": "L5t5DSI8x5Mx",
        "outputId": "b4aaf300-b318-4530-a964-00be57fd499e"
      },
      "execution_count": 3,
      "outputs": [
        {
          "output_type": "stream",
          "name": "stderr",
          "text": [
            "[nltk_data] Downloading package wordnet to /root/nltk_data...\n",
            "[nltk_data] Downloading package omw-1.4 to /root/nltk_data...\n",
            "[nltk_data] Downloading package punkt to /root/nltk_data...\n",
            "[nltk_data]   Unzipping tokenizers/punkt.zip.\n"
          ]
        },
        {
          "output_type": "execute_result",
          "data": {
            "text/plain": [
              "True"
            ]
          },
          "metadata": {},
          "execution_count": 3
        }
      ]
    },
    {
      "cell_type": "markdown",
      "source": [
        "We download the glove data set"
      ],
      "metadata": {
        "id": "JMVdLvVqisrF"
      }
    },
    {
      "cell_type": "code",
      "source": [
        "# download glove files\n",
        "!wget https://nlp.stanford.edu/data/glove.42B.300d.zip\n",
        "!unzip glove.42B.300d.zip"
      ],
      "metadata": {
        "colab": {
          "base_uri": "https://localhost:8080/"
        },
        "id": "rA-pX30J-taI",
        "outputId": "68cae432-81cb-45ed-96fd-5959ee1cc6cd"
      },
      "execution_count": 4,
      "outputs": [
        {
          "output_type": "stream",
          "name": "stdout",
          "text": [
            "--2022-12-18 09:10:00--  https://nlp.stanford.edu/data/glove.42B.300d.zip\n",
            "Resolving nlp.stanford.edu (nlp.stanford.edu)... 171.64.67.140\n",
            "Connecting to nlp.stanford.edu (nlp.stanford.edu)|171.64.67.140|:443... connected.\n",
            "HTTP request sent, awaiting response... 301 Moved Permanently\n",
            "Location: https://downloads.cs.stanford.edu/nlp/data/glove.42B.300d.zip [following]\n",
            "--2022-12-18 09:10:01--  https://downloads.cs.stanford.edu/nlp/data/glove.42B.300d.zip\n",
            "Resolving downloads.cs.stanford.edu (downloads.cs.stanford.edu)... 171.64.64.22\n",
            "Connecting to downloads.cs.stanford.edu (downloads.cs.stanford.edu)|171.64.64.22|:443... connected.\n",
            "HTTP request sent, awaiting response... 200 OK\n",
            "Length: 1877800501 (1.7G) [application/zip]\n",
            "Saving to: ‘glove.42B.300d.zip’\n",
            "\n",
            "glove.42B.300d.zip  100%[===================>]   1.75G  5.02MB/s    in 5m 53s  \n",
            "\n",
            "2022-12-18 09:15:54 (5.08 MB/s) - ‘glove.42B.300d.zip’ saved [1877800501/1877800501]\n",
            "\n",
            "Archive:  glove.42B.300d.zip\n",
            "  inflating: glove.42B.300d.txt      \n"
          ]
        }
      ]
    },
    {
      "cell_type": "code",
      "source": [
        "EMBEDDING_SIZE = 300\n",
        "gloveFile = \"glove.42B.\"+str(EMBEDDING_SIZE)+'d.txt'"
      ],
      "metadata": {
        "id": "newu9KdY-wde"
      },
      "execution_count": 5,
      "outputs": []
    },
    {
      "cell_type": "markdown",
      "source": [
        "We read the moview review data set and store it"
      ],
      "metadata": {
        "id": "d_aB12RUixi_"
      }
    },
    {
      "cell_type": "code",
      "source": [
        "import pandas as pd\n",
        "\n",
        "df = pd.read_csv(\"/content/gdrive/MyDrive/AI2/project01/imdb-reviews.csv\",sep='\\t')"
      ],
      "metadata": {
        "id": "yNLuymHsx69w"
      },
      "execution_count": 6,
      "outputs": []
    },
    {
      "cell_type": "markdown",
      "source": [
        "We implement the function that we use in order to prepare the data for prediction"
      ],
      "metadata": {
        "id": "dNObDET1i5H6"
      }
    },
    {
      "cell_type": "code",
      "source": [
        "def Preparation(dataframe):\n",
        "  df = dataframe[['rating','review']]\n",
        "  # Replace all rating values with either 1 or 0\n",
        "  df = df.replace({\n",
        "    'rating' : {\n",
        "        1.0 : 0.0,\n",
        "        2.0 : 0.0,\n",
        "        3.0 : 0.0,\n",
        "        4.0 : 0.0,\n",
        "        7.0 : 1.0,\n",
        "        8.0 : 1.0,\n",
        "        9.0 : 1.0,\n",
        "        10.0 : 1.0,  \n",
        "    }\n",
        "  })\n",
        "  dummy_list = []\n",
        "\n",
        "  # clean all stopwords and symbols from reviews using the clean function that we implemented\n",
        "  text_column = df['review']\n",
        "  for value in text_column.values:\n",
        "    value = Clean(value)\n",
        "    dummy_list.append(value)\n",
        "\n",
        "  df['review'] = dummy_list\n",
        "\n",
        "  # tokenize all reviews\n",
        "  fixedReviews = Tokenization(df['review'])\n",
        "  # apply stemming on all reviews\n",
        "  fixedReviews = Stemming(fixedReviews)\n",
        "  # lemmatize all reviews\n",
        "  fixedReviews = Lemmatization(fixedReviews)\n",
        "\n",
        "  df['review'] = fixedReviews\n",
        "\n",
        "  return df"
      ],
      "metadata": {
        "id": "po4uZL67x8jN"
      },
      "execution_count": 7,
      "outputs": []
    },
    {
      "cell_type": "markdown",
      "source": [
        "We implement a function that cleans up a review from all the stopwords and any symbol"
      ],
      "metadata": {
        "id": "uufhcQyajAAs"
      }
    },
    {
      "cell_type": "code",
      "source": [
        "import numpy as np\n",
        "import re\n",
        "\n",
        "stopwords = [\"i\", \"me\", \"my\", \"myself\", \"we\", \"our\", \"ours\", \"ourselves\", \"you\", \"your\", \"yours\", \"yourself\", \"yourselves\", \"he\", \"him\", \"his\", \"himself\", \"she\", \"her\", \"hers\", \"herself\", \"it\", \"its\", \"itself\", \"they\", \"them\", \"their\", \"theirs\", \"themselves\", \"what\", \"which\", \"who\", \"whom\", \"this\", \"that\", \"these\", \"those\", \"am\", \"is\", \"are\", \"was\", \"were\", \"be\", \"been\", \"being\", \"have\", \"has\", \"had\", \"having\", \"do\", \"does\", \"did\", \"doing\", \"a\", \"an\", \"the\", \"and\", \"but\", \"if\", \"or\", \"because\", \"as\", \"until\", \"while\", \"of\", \"at\", \"by\", \"for\", \"with\", \"about\", \"against\", \"between\", \"into\", \"through\", \"during\", \"before\", \"after\", \"above\", \"below\", \"to\", \"from\", \"up\", \"down\", \"in\", \"out\", \"on\", \"off\", \"over\", \"under\", \"again\", \"further\", \"then\", \"once\", \"here\", \"there\", \"when\", \"where\", \"why\", \"how\", \"all\", \"any\", \"both\", \"each\", \"few\", \"more\", \"most\", \"other\", \"some\", \"such\", \"no\", \"nor\", \"not\", \"only\", \"own\", \"same\", \"so\", \"than\", \"too\", \"very\", \"s\", \"t\", \"can\", \"will\", \"just\", \"don\", \"should\", \"now\"]\n",
        "emoji_pattern = re.compile(\"[\"\n",
        "        u\"\\U0001F600-\\U0001F64F\"  # emoticons\n",
        "        u\"\\U0001F300-\\U0001F5FF\"  # symbols & pictographs\n",
        "        u\"\\U0001F680-\\U0001F6FF\"  # transport & map symbols\n",
        "        u\"\\U0001F1E0-\\U0001F1FF\"  # flags\n",
        "                           \"]+\", flags=re.UNICODE)\n",
        "\n",
        "def Clean(review):\n",
        "    if type(review) == np.float:\n",
        "        return \"\"\n",
        "    temp = review.lower()\n",
        "    temp = re.sub(\"'\", \"\", temp) # to avoid removing contractions in english\n",
        "    temp = re.sub(\"@[A-Za-z0-9_]+\",\"\", temp) # remove mentions\n",
        "    temp = re.sub(\"#[A-Za-z0-9_]+\",\"\", temp) # remove hashtags\n",
        "    temp = re.sub(r'http\\S+', '', temp) # remove links\n",
        "    temp = re.sub(r\"www.\\S+\", \"\", temp) # remove links\n",
        "    temp = re.sub('[()!?]', ' ', temp) # remove punctuations \n",
        "    temp = re.sub('\\[.*?\\]',' ', temp) # remove punctuations \n",
        "    temp = re.sub(\"[^a-z0-9]\",\" \", temp) # remove non-alphanumeric characters\n",
        "    temp = temp.split() # split text\n",
        "    temp = [w for w in temp if not w in stopwords] # remove stopwords\n",
        "    temp = \" \".join(word for word in temp) # re-create text\n",
        "    emoji_pattern.sub(r'', temp) # remove emojis and emoticons\n",
        "    return temp"
      ],
      "metadata": {
        "id": "0Uya6tByx9-n"
      },
      "execution_count": 8,
      "outputs": []
    },
    {
      "cell_type": "markdown",
      "source": [
        "The following is a function that implements the process of Tokenization"
      ],
      "metadata": {
        "id": "ydCaUn9TjJru"
      }
    },
    {
      "cell_type": "code",
      "source": [
        "from nltk import sent_tokenize\n",
        "from nltk import word_tokenize\n",
        "\n",
        "def Tokenization(data):\n",
        "  tokenizedReviews = []\n",
        "  for value in data:\n",
        "    value = nltk.sent_tokenize(value)\n",
        "    tokenizedReviews.append(value)\n",
        "\n",
        "  return tokenizedReviews"
      ],
      "metadata": {
        "id": "sOm5t5pSx_Z5"
      },
      "execution_count": 9,
      "outputs": []
    },
    {
      "cell_type": "markdown",
      "source": [
        "The following is a function that implements the process of Stemming"
      ],
      "metadata": {
        "id": "ihsucz0djN68"
      }
    },
    {
      "cell_type": "code",
      "source": [
        "from nltk.stem.snowball import SnowballStemmer\n",
        "\n",
        "def Stemming(data):\n",
        "  stemmer = SnowballStemmer(language = \"english\")\n",
        "\n",
        "  stemmedReviews = []\n",
        "  for value in data:\n",
        "    dummyList = []\n",
        "    for word in value:\n",
        "      word = stemmer.stem(word)\n",
        "      dummyList.append(word)\n",
        "    stemmedReviews.append(dummyList)\n",
        "\n",
        "  return stemmedReviews"
      ],
      "metadata": {
        "id": "wNMqlQj_yA4n"
      },
      "execution_count": 10,
      "outputs": []
    },
    {
      "cell_type": "markdown",
      "source": [
        "The following is a function that implements the process of Lemmatization"
      ],
      "metadata": {
        "id": "grjx3M8OjSPl"
      }
    },
    {
      "cell_type": "code",
      "source": [
        "import nltk\n",
        "from nltk.stem import WordNetLemmatizer \n",
        "\n",
        "def Lemmatization(data):\n",
        "  lemmatizer = WordNetLemmatizer()\n",
        "\n",
        "  lemmatizedReviews = []\n",
        "\n",
        "  for value in data:\n",
        "    value = ' '.join([lemmatizer.lemmatize(w) for w in value])\n",
        "    lemmatizedReviews.append(value)\n",
        "\n",
        "  return lemmatizedReviews"
      ],
      "metadata": {
        "id": "Id057304yCNO"
      },
      "execution_count": 11,
      "outputs": []
    },
    {
      "cell_type": "markdown",
      "source": [
        "We use the preparation function that we implemented in order to get the data ready for the process"
      ],
      "metadata": {
        "id": "FlhXJzc2jW4E"
      }
    },
    {
      "cell_type": "code",
      "source": [
        "fixedDf = Preparation(df)\n",
        "\n",
        "reviews = fixedDf['review'] #Keep everything but rating\n",
        "ratings = fixedDf['rating'] #Only keep rating"
      ],
      "metadata": {
        "id": "NDBf33ogyDuA"
      },
      "execution_count": 12,
      "outputs": []
    },
    {
      "cell_type": "code",
      "source": [
        "fixedDf"
      ],
      "metadata": {
        "colab": {
          "base_uri": "https://localhost:8080/",
          "height": 424
        },
        "id": "gUzZ_SPSyEo-",
        "outputId": "d007c9f0-c288-4488-e15d-39f4abc3d967"
      },
      "execution_count": 13,
      "outputs": [
        {
          "output_type": "execute_result",
          "data": {
            "text/plain": [
              "       rating                                             review\n",
              "0         1.0  thought quiet good movie fun watch liked best ...\n",
              "1         1.0  wagon master unique film amongst john fords wo...\n",
              "2         1.0  film near perfect film john ford made film mag...\n",
              "3         0.0  gave 4 stars lot interesting themes many alrea...\n",
              "4         1.0  movie really genuine random really hard find m...\n",
              "...       ...                                                ...\n",
              "45003     0.0  dont even know begin br br worth typing review...\n",
              "45004     0.0  one worst movies saw 90s id often use benchmar...\n",
              "45005     0.0  baldwin really stooped low make movies script ...\n",
              "45006     0.0  liked watching mel gibson million dollar hotel...\n",
              "45007     1.0  easily best cinematic version william faulkner...\n",
              "\n",
              "[45008 rows x 2 columns]"
            ],
            "text/html": [
              "\n",
              "  <div id=\"df-92a26533-4132-4196-a2a1-5c9c053e2132\">\n",
              "    <div class=\"colab-df-container\">\n",
              "      <div>\n",
              "<style scoped>\n",
              "    .dataframe tbody tr th:only-of-type {\n",
              "        vertical-align: middle;\n",
              "    }\n",
              "\n",
              "    .dataframe tbody tr th {\n",
              "        vertical-align: top;\n",
              "    }\n",
              "\n",
              "    .dataframe thead th {\n",
              "        text-align: right;\n",
              "    }\n",
              "</style>\n",
              "<table border=\"1\" class=\"dataframe\">\n",
              "  <thead>\n",
              "    <tr style=\"text-align: right;\">\n",
              "      <th></th>\n",
              "      <th>rating</th>\n",
              "      <th>review</th>\n",
              "    </tr>\n",
              "  </thead>\n",
              "  <tbody>\n",
              "    <tr>\n",
              "      <th>0</th>\n",
              "      <td>1.0</td>\n",
              "      <td>thought quiet good movie fun watch liked best ...</td>\n",
              "    </tr>\n",
              "    <tr>\n",
              "      <th>1</th>\n",
              "      <td>1.0</td>\n",
              "      <td>wagon master unique film amongst john fords wo...</td>\n",
              "    </tr>\n",
              "    <tr>\n",
              "      <th>2</th>\n",
              "      <td>1.0</td>\n",
              "      <td>film near perfect film john ford made film mag...</td>\n",
              "    </tr>\n",
              "    <tr>\n",
              "      <th>3</th>\n",
              "      <td>0.0</td>\n",
              "      <td>gave 4 stars lot interesting themes many alrea...</td>\n",
              "    </tr>\n",
              "    <tr>\n",
              "      <th>4</th>\n",
              "      <td>1.0</td>\n",
              "      <td>movie really genuine random really hard find m...</td>\n",
              "    </tr>\n",
              "    <tr>\n",
              "      <th>...</th>\n",
              "      <td>...</td>\n",
              "      <td>...</td>\n",
              "    </tr>\n",
              "    <tr>\n",
              "      <th>45003</th>\n",
              "      <td>0.0</td>\n",
              "      <td>dont even know begin br br worth typing review...</td>\n",
              "    </tr>\n",
              "    <tr>\n",
              "      <th>45004</th>\n",
              "      <td>0.0</td>\n",
              "      <td>one worst movies saw 90s id often use benchmar...</td>\n",
              "    </tr>\n",
              "    <tr>\n",
              "      <th>45005</th>\n",
              "      <td>0.0</td>\n",
              "      <td>baldwin really stooped low make movies script ...</td>\n",
              "    </tr>\n",
              "    <tr>\n",
              "      <th>45006</th>\n",
              "      <td>0.0</td>\n",
              "      <td>liked watching mel gibson million dollar hotel...</td>\n",
              "    </tr>\n",
              "    <tr>\n",
              "      <th>45007</th>\n",
              "      <td>1.0</td>\n",
              "      <td>easily best cinematic version william faulkner...</td>\n",
              "    </tr>\n",
              "  </tbody>\n",
              "</table>\n",
              "<p>45008 rows × 2 columns</p>\n",
              "</div>\n",
              "      <button class=\"colab-df-convert\" onclick=\"convertToInteractive('df-92a26533-4132-4196-a2a1-5c9c053e2132')\"\n",
              "              title=\"Convert this dataframe to an interactive table.\"\n",
              "              style=\"display:none;\">\n",
              "        \n",
              "  <svg xmlns=\"http://www.w3.org/2000/svg\" height=\"24px\"viewBox=\"0 0 24 24\"\n",
              "       width=\"24px\">\n",
              "    <path d=\"M0 0h24v24H0V0z\" fill=\"none\"/>\n",
              "    <path d=\"M18.56 5.44l.94 2.06.94-2.06 2.06-.94-2.06-.94-.94-2.06-.94 2.06-2.06.94zm-11 1L8.5 8.5l.94-2.06 2.06-.94-2.06-.94L8.5 2.5l-.94 2.06-2.06.94zm10 10l.94 2.06.94-2.06 2.06-.94-2.06-.94-.94-2.06-.94 2.06-2.06.94z\"/><path d=\"M17.41 7.96l-1.37-1.37c-.4-.4-.92-.59-1.43-.59-.52 0-1.04.2-1.43.59L10.3 9.45l-7.72 7.72c-.78.78-.78 2.05 0 2.83L4 21.41c.39.39.9.59 1.41.59.51 0 1.02-.2 1.41-.59l7.78-7.78 2.81-2.81c.8-.78.8-2.07 0-2.86zM5.41 20L4 18.59l7.72-7.72 1.47 1.35L5.41 20z\"/>\n",
              "  </svg>\n",
              "      </button>\n",
              "      \n",
              "  <style>\n",
              "    .colab-df-container {\n",
              "      display:flex;\n",
              "      flex-wrap:wrap;\n",
              "      gap: 12px;\n",
              "    }\n",
              "\n",
              "    .colab-df-convert {\n",
              "      background-color: #E8F0FE;\n",
              "      border: none;\n",
              "      border-radius: 50%;\n",
              "      cursor: pointer;\n",
              "      display: none;\n",
              "      fill: #1967D2;\n",
              "      height: 32px;\n",
              "      padding: 0 0 0 0;\n",
              "      width: 32px;\n",
              "    }\n",
              "\n",
              "    .colab-df-convert:hover {\n",
              "      background-color: #E2EBFA;\n",
              "      box-shadow: 0px 1px 2px rgba(60, 64, 67, 0.3), 0px 1px 3px 1px rgba(60, 64, 67, 0.15);\n",
              "      fill: #174EA6;\n",
              "    }\n",
              "\n",
              "    [theme=dark] .colab-df-convert {\n",
              "      background-color: #3B4455;\n",
              "      fill: #D2E3FC;\n",
              "    }\n",
              "\n",
              "    [theme=dark] .colab-df-convert:hover {\n",
              "      background-color: #434B5C;\n",
              "      box-shadow: 0px 1px 3px 1px rgba(0, 0, 0, 0.15);\n",
              "      filter: drop-shadow(0px 1px 2px rgba(0, 0, 0, 0.3));\n",
              "      fill: #FFFFFF;\n",
              "    }\n",
              "  </style>\n",
              "\n",
              "      <script>\n",
              "        const buttonEl =\n",
              "          document.querySelector('#df-92a26533-4132-4196-a2a1-5c9c053e2132 button.colab-df-convert');\n",
              "        buttonEl.style.display =\n",
              "          google.colab.kernel.accessAllowed ? 'block' : 'none';\n",
              "\n",
              "        async function convertToInteractive(key) {\n",
              "          const element = document.querySelector('#df-92a26533-4132-4196-a2a1-5c9c053e2132');\n",
              "          const dataTable =\n",
              "            await google.colab.kernel.invokeFunction('convertToInteractive',\n",
              "                                                     [key], {});\n",
              "          if (!dataTable) return;\n",
              "\n",
              "          const docLinkHtml = 'Like what you see? Visit the ' +\n",
              "            '<a target=\"_blank\" href=https://colab.research.google.com/notebooks/data_table.ipynb>data table notebook</a>'\n",
              "            + ' to learn more about interactive tables.';\n",
              "          element.innerHTML = '';\n",
              "          dataTable['output_type'] = 'display_data';\n",
              "          await google.colab.output.renderOutput(dataTable, element);\n",
              "          const docLink = document.createElement('div');\n",
              "          docLink.innerHTML = docLinkHtml;\n",
              "          element.appendChild(docLink);\n",
              "        }\n",
              "      </script>\n",
              "    </div>\n",
              "  </div>\n",
              "  "
            ]
          },
          "metadata": {},
          "execution_count": 13
        }
      ]
    },
    {
      "cell_type": "markdown",
      "source": [
        "We split the data in training and test set. Note for the grader: You can use the graders_data variable to store the data set you will need and then use the Preparation() function by just giving as input the variable. Then, you will only need to store the review column in the Y_train variable and the rating in the Y_test variable as implemented."
      ],
      "metadata": {
        "id": "Wk2rUagejdPV"
      }
    },
    {
      "cell_type": "code",
      "source": [
        "from sklearn.model_selection import train_test_split\n",
        "\n",
        "graders_data = None\n",
        "\n",
        "if(graders_data is not None):\n",
        "  X_train = list(reviews)\n",
        "  X_test = list(ratings)\n",
        "  \"\"\" \n",
        "    Code needed in order to initialize Y_train and Y_test using graders_data \n",
        "    TODO: Use the Preparation function\n",
        "  \"\"\"\n",
        "  graders_data = Preparation(graders_data)\n",
        "  Y_train = list(graders_data['review'])\n",
        "  Y_test = list(graders_data['rating'])\n",
        "else:\n",
        "  X_train, X_test, Y_train, Y_test = train_test_split(list(reviews), list(ratings), train_size=0.8)"
      ],
      "metadata": {
        "id": "D1cdSH3QyGN-"
      },
      "execution_count": 14,
      "outputs": []
    },
    {
      "cell_type": "markdown",
      "source": [
        "We split both the training and the testing set into tokens"
      ],
      "metadata": {
        "id": "cd3ANV4NjkSL"
      }
    },
    {
      "cell_type": "code",
      "source": [
        "X_train_tokens = [sent.lower().split() for sent in X_train]\n",
        "X_test_tokens = [sent.lower().split() for sent in X_test]"
      ],
      "metadata": {
        "id": "PuUQR8rE_DGU"
      },
      "execution_count": 15,
      "outputs": []
    },
    {
      "cell_type": "markdown",
      "source": [
        "The following function is used in order to find the average vector of a review given as input"
      ],
      "metadata": {
        "id": "vCOJfUezjrCz"
      }
    },
    {
      "cell_type": "code",
      "source": [
        "def findAverageVector(words, model, numFeatures):\n",
        "    featureVec = np.zeros((numFeatures),dtype=\"float32\")\n",
        "    wordCount = 0.\n",
        "\n",
        "    for word in words:\n",
        "      try:\n",
        "        wordFeature = model[word]\n",
        "      except KeyError:  # if the word is not in the dictionary\n",
        "        continue\n",
        "      else:\n",
        "        if wordFeature is not None:\n",
        "            wordCount = wordCount + 1.\n",
        "            featureVec = np.add(featureVec,wordFeature)\n",
        "    if wordCount > 0:\n",
        "      featureVec = np.divide(featureVec, wordCount)\n",
        "    return featureVec\n"
      ],
      "metadata": {
        "id": "1L1roSWk-kco"
      },
      "execution_count": 16,
      "outputs": []
    },
    {
      "cell_type": "markdown",
      "source": [
        "The following function is used in order to find the average feature vector for every text inside the \"text\" variable given as input"
      ],
      "metadata": {
        "id": "-t6U-42jkHXw"
      }
    },
    {
      "cell_type": "code",
      "source": [
        "def findTextsFeatureVectors(texts, model, numFeatures):\n",
        "    counter = 0\n",
        "    textsFeatureVectors = np.zeros((len(texts),numFeatures), dtype='float32') \n",
        "    \n",
        "    for text in texts:\n",
        "        textsFeatureVectors[counter] = findAverageVector(text, model, numFeatures)\n",
        "        counter = counter + 1\n",
        "    return textsFeatureVectors"
      ],
      "metadata": {
        "id": "ItHFH-ut-88s"
      },
      "execution_count": 17,
      "outputs": []
    },
    {
      "cell_type": "markdown",
      "source": [
        "The following function is used in order to create an embedding dictionary using a glove file given as input"
      ],
      "metadata": {
        "id": "3-DkFXv6k-Uh"
      }
    },
    {
      "cell_type": "code",
      "source": [
        "def createEmbeddingDict(gloveFile):\n",
        "    embeddingDict = {}\n",
        "    count = 0\n",
        "    with open(gloveFile,'r') as f: \n",
        "        for line in f: \n",
        "          count += 1\n",
        "          values=line.split()\n",
        "          word = values[0] \n",
        "          vector = np.asarray(values[1:], 'float32') \n",
        "          if vector.size == EMBEDDING_SIZE:\n",
        "            embeddingDict[word] = vector \n",
        "    return embeddingDict"
      ],
      "metadata": {
        "id": "6v2SmGwO_XHq"
      },
      "execution_count": 18,
      "outputs": []
    },
    {
      "cell_type": "markdown",
      "source": [
        "We create the embedding dictionary from the glove file"
      ],
      "metadata": {
        "id": "YyLTgPADlORb"
      }
    },
    {
      "cell_type": "code",
      "source": [
        "embedding_dict =  createEmbeddingDict(gloveFile)"
      ],
      "metadata": {
        "id": "VX9-WNpP_Urb"
      },
      "execution_count": 19,
      "outputs": []
    },
    {
      "cell_type": "markdown",
      "source": [
        "We create the train and test data feature vectors"
      ],
      "metadata": {
        "id": "H7qSpVKKlW8h"
      }
    },
    {
      "cell_type": "code",
      "source": [
        "trainDataVecs = findTextsFeatureVectors(X_train_tokens, embedding_dict, EMBEDDING_SIZE)\n",
        "testDataVecs  = findTextsFeatureVectors(X_test_tokens, embedding_dict, EMBEDDING_SIZE)"
      ],
      "metadata": {
        "id": "urV_ACm3_Orq"
      },
      "execution_count": 20,
      "outputs": []
    },
    {
      "cell_type": "markdown",
      "source": [
        "We create a tensor for each of the train and test data"
      ],
      "metadata": {
        "id": "9z9ame9KmX6Y"
      }
    },
    {
      "cell_type": "code",
      "source": [
        "import torch\n",
        "\n",
        "X_train_tensor = torch.tensor(trainDataVecs, dtype=torch.float)\n",
        "Y_train_tensor = torch.tensor(Y_train, dtype=torch.long)\n",
        "\n",
        "X_test_tensor = torch.tensor(testDataVecs, dtype=torch.float)\n",
        "Y_test_tensor = torch.tensor(Y_test, dtype=torch.long)"
      ],
      "metadata": {
        "id": "pR4Rbku4_d7X"
      },
      "execution_count": 21,
      "outputs": []
    },
    {
      "cell_type": "markdown",
      "source": [
        "The following is a class that represents the model that we are going to use\n",
        "\n"
      ],
      "metadata": {
        "id": "yoXf_UHNm4Ft"
      }
    },
    {
      "cell_type": "code",
      "source": [
        "import torch.nn as nn\n",
        "\n",
        "class Net(nn.Module):\n",
        "    def __init__(self, D_in, H1, H2, H3,D_out):\n",
        "        super(Net, self).__init__()\n",
        "        self.flatten = nn.Flatten()\n",
        "        self.model_stack =  nn.Sequential(\n",
        "                      nn.Linear(D_in, H1),          \n",
        "                      nn.ReLU(),\n",
        "                      nn.Dropout(0.5),\n",
        "                      nn.Linear(H1, H2),\n",
        "                      nn.ReLU(),\n",
        "                      nn.Dropout(0.25),\n",
        "                      nn.Linear(H2, H3),\n",
        "                      nn.ReLU(), \n",
        "                      nn.Dropout(0.1),\n",
        "                      nn.Linear(H3, D_out),\n",
        "                      )\n",
        "\n",
        "\n",
        "    def forward(self, x):\n",
        "        x = self.flatten(x)\n",
        "        logits = self.model_stack(x)\n",
        "        return logits"
      ],
      "metadata": {
        "id": "127Rn9HsI0Eb"
      },
      "execution_count": 22,
      "outputs": []
    },
    {
      "cell_type": "markdown",
      "source": [
        "We define the parameteres that we will need for our execution.\n",
        "We use three layers with sizes 64, 32, 16 and one output layer with size 3. We use 100 training epochs and the learning rate is 0,0025. Then we initialize our model, we initialize our loss function and finally our optimizer."
      ],
      "metadata": {
        "id": "EHUeFryCnSOF"
      }
    },
    {
      "cell_type": "code",
      "source": [
        "D_in = X_train_tensor.shape[1]\n",
        "H1 = 64\n",
        "H2 = 32\n",
        "H3 = 16\n",
        "D_out = 3\n",
        "\n",
        "TRAINING_EPOCHS = 100\n",
        "\n",
        "learning_rate = 0.0025\n",
        "\n",
        "nn_model = Net(D_in, H1, H2, H3,D_out)\n",
        "loss_func = nn.CrossEntropyLoss()\n",
        "nn_optimizer = torch.optim.SGD(nn_model.parameters(), lr=learning_rate,momentum=0.5)"
      ],
      "metadata": {
        "id": "5tnMH3ipI9RE"
      },
      "execution_count": 23,
      "outputs": []
    },
    {
      "cell_type": "markdown",
      "source": [
        "We initialize the data loader for both our training and testing set"
      ],
      "metadata": {
        "id": "uEEGU42anwJE"
      }
    },
    {
      "cell_type": "code",
      "source": [
        "train_dataset = torch.utils.data.TensorDataset(X_train_tensor, Y_train_tensor)\n",
        "train_loader = torch.utils.data.DataLoader(train_dataset, batch_size=16, shuffle=True)\n",
        "\n",
        "validation_dataset = torch.utils.data.TensorDataset(X_test_tensor, Y_test_tensor)\n",
        "validation_loader = torch.utils.data.DataLoader(validation_dataset, batch_size=16, shuffle=True)"
      ],
      "metadata": {
        "id": "FKw3rZzVJD8k"
      },
      "execution_count": 24,
      "outputs": []
    },
    {
      "cell_type": "markdown",
      "source": [
        "The following function is used in order to train our model"
      ],
      "metadata": {
        "id": "DK-0XjOdqvtg"
      }
    },
    {
      "cell_type": "code",
      "source": [
        "from sklearn.metrics import f1_score\n",
        "\n",
        "def train_model(model,criterion,trainLoader,validationLoader,optimizer,epochs = 200):\n",
        "  train_loss = []\n",
        "  valid_loss = []\n",
        "  \"\"\" For every epoch ( by default 200 ) \"\"\"\n",
        "  for epoch in range(epochs):\n",
        "    train_batch_losses = []\n",
        "    validation_batch_losses = []\n",
        "    correct = 0\n",
        "    count = 0\n",
        "    y_total_valid = []   # store the predictions of the the validation set\n",
        "    y_total_predict_valid = []      # store the labels of the the validation set\n",
        "    y_total_predict_train = []\n",
        "    y_total_train = []\n",
        "    \n",
        "    \"\"\" We first set the model to training mode \"\"\"\n",
        "    model.train()\n",
        "\n",
        "    for x_batch, y_batch in trainLoader:\n",
        "      \"\"\" We delete any previously stored gradients in the optimizer \"\"\"\n",
        "      optimizer.zero_grad()\n",
        "      z = model(x_batch)\n",
        "      loss = criterion(z, y_batch)\n",
        "      train_batch_losses.append(loss.data.item())\n",
        "      \"\"\" We perform backpropagation starting from the loss calculated in this epoch \"\"\"\n",
        "      loss.backward()\n",
        "      \"\"\" We update the model's weights based on the gradients calculated during backprop \"\"\"\n",
        "      optimizer.step()\n",
        "      \"\"\" We get the prediction based on the maximum possibility \"\"\"\n",
        "      _, y_pred_tags = torch.max(z, dim = 1) \n",
        "      y_total_predict_train = y_total_predict_train+ list(y_pred_tags)\n",
        "      y_total_train = y_total_train + (list(y_batch.detach().numpy()))\n",
        "\n",
        "    \"\"\" We set the model to evaluation mode \"\"\"\n",
        "    model.eval()\n",
        "\n",
        "    for x_batch, y_batch in validationLoader:\n",
        "      z = model(x_batch)\n",
        "      \"\"\" We compute the validation loss \"\"\"\n",
        "      loss = criterion(z, y_batch)\n",
        "      validation_batch_losses.append(loss.data.item()) \n",
        "      \"\"\" We get the label prediction based on the maximum possibility \"\"\"\n",
        "      _, label = torch.max(z,1)\n",
        "      \"\"\" We compute the total amount of predictions made \"\"\"\n",
        "      correct += (label==y_batch).sum().item() \n",
        "      count += len(y_batch)\n",
        "      y_total_predict_valid = y_total_predict_valid+ list(label)\n",
        "      y_total_valid= y_total_valid + list(y_batch.detach().numpy())\n",
        "\n",
        "    \"\"\" We compute the validation accurace based on the total correct predictions \"\"\"\n",
        "    accuracy = 100*(correct/(count))\n",
        "    \"\"\" We compute the train loss of the current epoch \"\"\"\n",
        "    current_train_loss = sum(train_batch_losses)/len(trainLoader)\n",
        "    \"\"\" We store the train loss in order to be able to plot the loss curves \"\"\"\n",
        "    train_loss.append(current_train_loss)\n",
        "    \"\"\" We compute compute the validation loss of this current epoch \"\"\"\n",
        "    current_valid_loss = sum(validation_batch_losses)/len(validationLoader)\n",
        "    \"\"\" We store the validation loss in order to plot the loss curves \"\"\"\n",
        "    valid_loss.append(current_valid_loss)\n",
        "    f1_score_train = f1_score(y_total_train,y_total_predict_train,average='weighted')\n",
        "    f1_score_valid = f1_score(y_total_valid,y_total_predict_valid,average='weighted')\n",
        "    print(f\"Epoch {epoch:3}: Train Loss = {current_train_loss:.5f} | Validation Loss = {current_valid_loss:.5f} | Accuracy = {accuracy:.4f} | Train-f1 = {f1_score_train:.4f} | Valid-F1 = {f1_score_valid:.4f}\")\n",
        "  return model,train_loss,valid_loss"
      ],
      "metadata": {
        "id": "J8LQMsU6M70H"
      },
      "execution_count": 25,
      "outputs": []
    },
    {
      "cell_type": "markdown",
      "source": [
        "We train the model"
      ],
      "metadata": {
        "id": "DVC2RTIOv4n5"
      }
    },
    {
      "cell_type": "code",
      "source": [
        "trained_model, train_loss,valid_loss = train_model(nn_model,loss_func,train_loader,validation_loader,nn_optimizer,TRAINING_EPOCHS)"
      ],
      "metadata": {
        "colab": {
          "base_uri": "https://localhost:8080/"
        },
        "id": "PhlUiPV8M97J",
        "outputId": "258634a9-b864-408a-b8b4-67955f84928d"
      },
      "execution_count": 26,
      "outputs": [
        {
          "output_type": "stream",
          "name": "stdout",
          "text": [
            "Epoch   0: Train Loss = 0.77554 | Validation Loss = 0.70182 | Accuracy = 49.7223 | Train-f1 = 0.4846 | Valid-F1 = 0.3304\n",
            "Epoch   1: Train Loss = 0.70177 | Validation Loss = 0.69564 | Accuracy = 49.7112 | Train-f1 = 0.5007 | Valid-F1 = 0.3301\n",
            "Epoch   2: Train Loss = 0.69721 | Validation Loss = 0.69379 | Accuracy = 50.2888 | Train-f1 = 0.5002 | Valid-F1 = 0.3365\n",
            "Epoch   3: Train Loss = 0.69599 | Validation Loss = 0.69408 | Accuracy = 49.7112 | Train-f1 = 0.4982 | Valid-F1 = 0.3301\n",
            "Epoch   4: Train Loss = 0.69526 | Validation Loss = 0.69403 | Accuracy = 49.7112 | Train-f1 = 0.5035 | Valid-F1 = 0.3301\n",
            "Epoch   5: Train Loss = 0.69532 | Validation Loss = 0.69330 | Accuracy = 50.2888 | Train-f1 = 0.4940 | Valid-F1 = 0.3365\n",
            "Epoch   6: Train Loss = 0.69460 | Validation Loss = 0.69321 | Accuracy = 49.7112 | Train-f1 = 0.5007 | Valid-F1 = 0.3301\n",
            "Epoch   7: Train Loss = 0.69480 | Validation Loss = 0.69524 | Accuracy = 49.7112 | Train-f1 = 0.4997 | Valid-F1 = 0.3301\n",
            "Epoch   8: Train Loss = 0.69426 | Validation Loss = 0.69327 | Accuracy = 50.2888 | Train-f1 = 0.5048 | Valid-F1 = 0.3365\n",
            "Epoch   9: Train Loss = 0.69474 | Validation Loss = 0.69357 | Accuracy = 50.2888 | Train-f1 = 0.4964 | Valid-F1 = 0.3365\n",
            "Epoch  10: Train Loss = 0.69433 | Validation Loss = 0.69639 | Accuracy = 50.2888 | Train-f1 = 0.5028 | Valid-F1 = 0.3365\n",
            "Epoch  11: Train Loss = 0.69456 | Validation Loss = 0.69422 | Accuracy = 49.7112 | Train-f1 = 0.4962 | Valid-F1 = 0.3301\n",
            "Epoch  12: Train Loss = 0.69422 | Validation Loss = 0.69289 | Accuracy = 50.2888 | Train-f1 = 0.5056 | Valid-F1 = 0.3365\n",
            "Epoch  13: Train Loss = 0.69419 | Validation Loss = 0.69389 | Accuracy = 50.2888 | Train-f1 = 0.5056 | Valid-F1 = 0.3365\n",
            "Epoch  14: Train Loss = 0.69373 | Validation Loss = 0.69216 | Accuracy = 50.2888 | Train-f1 = 0.5080 | Valid-F1 = 0.3365\n",
            "Epoch  15: Train Loss = 0.69393 | Validation Loss = 0.69172 | Accuracy = 50.2888 | Train-f1 = 0.5049 | Valid-F1 = 0.3365\n",
            "Epoch  16: Train Loss = 0.69300 | Validation Loss = 0.69125 | Accuracy = 49.7112 | Train-f1 = 0.5148 | Valid-F1 = 0.3301\n",
            "Epoch  17: Train Loss = 0.69243 | Validation Loss = 0.69022 | Accuracy = 50.2888 | Train-f1 = 0.5183 | Valid-F1 = 0.3365\n",
            "Epoch  18: Train Loss = 0.69017 | Validation Loss = 0.68387 | Accuracy = 68.1293 | Train-f1 = 0.5307 | Valid-F1 = 0.6586\n",
            "Epoch  19: Train Loss = 0.68458 | Validation Loss = 0.67127 | Accuracy = 60.2644 | Train-f1 = 0.5582 | Valid-F1 = 0.5313\n",
            "Epoch  20: Train Loss = 0.65718 | Validation Loss = 0.59482 | Accuracy = 76.2053 | Train-f1 = 0.6260 | Valid-F1 = 0.7608\n",
            "Epoch  21: Train Loss = 0.56910 | Validation Loss = 0.47725 | Accuracy = 79.2935 | Train-f1 = 0.7231 | Valid-F1 = 0.7921\n",
            "Epoch  22: Train Loss = 0.49595 | Validation Loss = 0.42249 | Accuracy = 81.6374 | Train-f1 = 0.7721 | Valid-F1 = 0.8156\n",
            "Epoch  23: Train Loss = 0.45766 | Validation Loss = 0.41061 | Accuracy = 81.5708 | Train-f1 = 0.7968 | Valid-F1 = 0.8135\n",
            "Epoch  24: Train Loss = 0.44133 | Validation Loss = 0.40201 | Accuracy = 82.0595 | Train-f1 = 0.8069 | Valid-F1 = 0.8187\n",
            "Epoch  25: Train Loss = 0.42628 | Validation Loss = 0.38553 | Accuracy = 83.2926 | Train-f1 = 0.8152 | Valid-F1 = 0.8319\n",
            "Epoch  26: Train Loss = 0.41597 | Validation Loss = 0.35483 | Accuracy = 84.7256 | Train-f1 = 0.8217 | Valid-F1 = 0.8473\n",
            "Epoch  27: Train Loss = 0.41053 | Validation Loss = 0.35761 | Accuracy = 84.8811 | Train-f1 = 0.8256 | Valid-F1 = 0.8486\n",
            "Epoch  28: Train Loss = 0.40478 | Validation Loss = 0.35753 | Accuracy = 84.6256 | Train-f1 = 0.8296 | Valid-F1 = 0.8458\n",
            "Epoch  29: Train Loss = 0.40096 | Validation Loss = 0.34847 | Accuracy = 85.1589 | Train-f1 = 0.8282 | Valid-F1 = 0.8514\n",
            "Epoch  30: Train Loss = 0.39646 | Validation Loss = 0.34479 | Accuracy = 85.3699 | Train-f1 = 0.8323 | Valid-F1 = 0.8536\n",
            "Epoch  31: Train Loss = 0.39185 | Validation Loss = 0.34278 | Accuracy = 85.4255 | Train-f1 = 0.8341 | Valid-F1 = 0.8543\n",
            "Epoch  32: Train Loss = 0.38719 | Validation Loss = 0.34221 | Accuracy = 85.2477 | Train-f1 = 0.8347 | Valid-F1 = 0.8522\n",
            "Epoch  33: Train Loss = 0.38606 | Validation Loss = 0.34472 | Accuracy = 84.9034 | Train-f1 = 0.8357 | Valid-F1 = 0.8488\n",
            "Epoch  34: Train Loss = 0.38428 | Validation Loss = 0.33652 | Accuracy = 85.4699 | Train-f1 = 0.8373 | Valid-F1 = 0.8547\n",
            "Epoch  35: Train Loss = 0.38215 | Validation Loss = 0.38272 | Accuracy = 83.2482 | Train-f1 = 0.8387 | Valid-F1 = 0.8309\n",
            "Epoch  36: Train Loss = 0.37933 | Validation Loss = 0.33279 | Accuracy = 85.7920 | Train-f1 = 0.8397 | Valid-F1 = 0.8579\n",
            "Epoch  37: Train Loss = 0.37649 | Validation Loss = 0.34665 | Accuracy = 84.4923 | Train-f1 = 0.8420 | Valid-F1 = 0.8440\n",
            "Epoch  38: Train Loss = 0.37847 | Validation Loss = 0.34483 | Accuracy = 85.5365 | Train-f1 = 0.8402 | Valid-F1 = 0.8553\n",
            "Epoch  39: Train Loss = 0.37541 | Validation Loss = 0.34215 | Accuracy = 85.0033 | Train-f1 = 0.8402 | Valid-F1 = 0.8497\n",
            "Epoch  40: Train Loss = 0.37526 | Validation Loss = 0.32947 | Accuracy = 85.8032 | Train-f1 = 0.8427 | Valid-F1 = 0.8580\n",
            "Epoch  41: Train Loss = 0.37286 | Validation Loss = 0.33578 | Accuracy = 85.6032 | Train-f1 = 0.8432 | Valid-F1 = 0.8559\n",
            "Epoch  42: Train Loss = 0.37028 | Validation Loss = 0.32961 | Accuracy = 85.9365 | Train-f1 = 0.8424 | Valid-F1 = 0.8592\n",
            "Epoch  43: Train Loss = 0.37320 | Validation Loss = 0.33010 | Accuracy = 85.8920 | Train-f1 = 0.8422 | Valid-F1 = 0.8589\n",
            "Epoch  44: Train Loss = 0.36880 | Validation Loss = 0.33098 | Accuracy = 85.7032 | Train-f1 = 0.8438 | Valid-F1 = 0.8568\n",
            "Epoch  45: Train Loss = 0.36977 | Validation Loss = 0.33130 | Accuracy = 85.9365 | Train-f1 = 0.8451 | Valid-F1 = 0.8591\n",
            "Epoch  46: Train Loss = 0.36791 | Validation Loss = 0.34593 | Accuracy = 84.8478 | Train-f1 = 0.8451 | Valid-F1 = 0.8479\n",
            "Epoch  47: Train Loss = 0.36799 | Validation Loss = 0.32696 | Accuracy = 85.9476 | Train-f1 = 0.8451 | Valid-F1 = 0.8594\n",
            "Epoch  48: Train Loss = 0.36609 | Validation Loss = 0.34511 | Accuracy = 85.0144 | Train-f1 = 0.8467 | Valid-F1 = 0.8496\n",
            "Epoch  49: Train Loss = 0.36538 | Validation Loss = 0.32500 | Accuracy = 86.0698 | Train-f1 = 0.8474 | Valid-F1 = 0.8607\n",
            "Epoch  50: Train Loss = 0.36574 | Validation Loss = 0.32798 | Accuracy = 85.9809 | Train-f1 = 0.8477 | Valid-F1 = 0.8598\n",
            "Epoch  51: Train Loss = 0.36365 | Validation Loss = 0.32677 | Accuracy = 85.8698 | Train-f1 = 0.8461 | Valid-F1 = 0.8587\n",
            "Epoch  52: Train Loss = 0.36328 | Validation Loss = 0.33267 | Accuracy = 85.4255 | Train-f1 = 0.8474 | Valid-F1 = 0.8538\n",
            "Epoch  53: Train Loss = 0.36266 | Validation Loss = 0.34371 | Accuracy = 85.1589 | Train-f1 = 0.8473 | Valid-F1 = 0.8512\n",
            "Epoch  54: Train Loss = 0.36028 | Validation Loss = 0.34649 | Accuracy = 84.9034 | Train-f1 = 0.8477 | Valid-F1 = 0.8481\n",
            "Epoch  55: Train Loss = 0.36248 | Validation Loss = 0.32511 | Accuracy = 86.1475 | Train-f1 = 0.8468 | Valid-F1 = 0.8615\n",
            "Epoch  56: Train Loss = 0.35903 | Validation Loss = 0.35649 | Accuracy = 84.1702 | Train-f1 = 0.8500 | Valid-F1 = 0.8406\n",
            "Epoch  57: Train Loss = 0.35788 | Validation Loss = 0.33492 | Accuracy = 85.3366 | Train-f1 = 0.8479 | Valid-F1 = 0.8530\n",
            "Epoch  58: Train Loss = 0.36013 | Validation Loss = 0.32349 | Accuracy = 86.0698 | Train-f1 = 0.8477 | Valid-F1 = 0.8606\n",
            "Epoch  59: Train Loss = 0.36021 | Validation Loss = 0.33407 | Accuracy = 85.5032 | Train-f1 = 0.8502 | Valid-F1 = 0.8547\n",
            "Epoch  60: Train Loss = 0.35973 | Validation Loss = 0.32719 | Accuracy = 86.0698 | Train-f1 = 0.8499 | Valid-F1 = 0.8607\n",
            "Epoch  61: Train Loss = 0.35943 | Validation Loss = 0.32614 | Accuracy = 86.0475 | Train-f1 = 0.8492 | Valid-F1 = 0.8604\n",
            "Epoch  62: Train Loss = 0.35695 | Validation Loss = 0.32375 | Accuracy = 85.9587 | Train-f1 = 0.8521 | Valid-F1 = 0.8595\n",
            "Epoch  63: Train Loss = 0.35628 | Validation Loss = 0.32716 | Accuracy = 86.0809 | Train-f1 = 0.8496 | Valid-F1 = 0.8608\n",
            "Epoch  64: Train Loss = 0.35553 | Validation Loss = 0.33915 | Accuracy = 85.0367 | Train-f1 = 0.8505 | Valid-F1 = 0.8496\n",
            "Epoch  65: Train Loss = 0.35446 | Validation Loss = 0.32514 | Accuracy = 86.1031 | Train-f1 = 0.8517 | Valid-F1 = 0.8610\n",
            "Epoch  66: Train Loss = 0.35511 | Validation Loss = 0.32466 | Accuracy = 85.9476 | Train-f1 = 0.8495 | Valid-F1 = 0.8593\n",
            "Epoch  67: Train Loss = 0.35554 | Validation Loss = 0.32210 | Accuracy = 86.3030 | Train-f1 = 0.8498 | Valid-F1 = 0.8630\n",
            "Epoch  68: Train Loss = 0.35474 | Validation Loss = 0.33617 | Accuracy = 85.3477 | Train-f1 = 0.8517 | Valid-F1 = 0.8531\n",
            "Epoch  69: Train Loss = 0.35436 | Validation Loss = 0.32771 | Accuracy = 85.4810 | Train-f1 = 0.8510 | Valid-F1 = 0.8544\n",
            "Epoch  70: Train Loss = 0.35282 | Validation Loss = 0.32228 | Accuracy = 86.1031 | Train-f1 = 0.8528 | Valid-F1 = 0.8610\n",
            "Epoch  71: Train Loss = 0.35268 | Validation Loss = 0.32531 | Accuracy = 85.9809 | Train-f1 = 0.8532 | Valid-F1 = 0.8598\n",
            "Epoch  72: Train Loss = 0.35213 | Validation Loss = 0.32348 | Accuracy = 86.0698 | Train-f1 = 0.8522 | Valid-F1 = 0.8606\n",
            "Epoch  73: Train Loss = 0.35321 | Validation Loss = 0.32043 | Accuracy = 86.3475 | Train-f1 = 0.8505 | Valid-F1 = 0.8634\n",
            "Epoch  74: Train Loss = 0.35457 | Validation Loss = 0.32121 | Accuracy = 86.2031 | Train-f1 = 0.8511 | Valid-F1 = 0.8619\n",
            "Epoch  75: Train Loss = 0.35439 | Validation Loss = 0.33743 | Accuracy = 84.7812 | Train-f1 = 0.8522 | Valid-F1 = 0.8470\n",
            "Epoch  76: Train Loss = 0.35092 | Validation Loss = 0.31972 | Accuracy = 86.0475 | Train-f1 = 0.8521 | Valid-F1 = 0.8604\n",
            "Epoch  77: Train Loss = 0.35138 | Validation Loss = 0.32301 | Accuracy = 86.1142 | Train-f1 = 0.8526 | Valid-F1 = 0.8611\n",
            "Epoch  78: Train Loss = 0.35106 | Validation Loss = 0.32211 | Accuracy = 86.3253 | Train-f1 = 0.8553 | Valid-F1 = 0.8632\n",
            "Epoch  79: Train Loss = 0.35054 | Validation Loss = 0.32215 | Accuracy = 86.1586 | Train-f1 = 0.8553 | Valid-F1 = 0.8616\n",
            "Epoch  80: Train Loss = 0.35026 | Validation Loss = 0.32215 | Accuracy = 86.2586 | Train-f1 = 0.8529 | Valid-F1 = 0.8626\n",
            "Epoch  81: Train Loss = 0.35229 | Validation Loss = 0.34145 | Accuracy = 85.0367 | Train-f1 = 0.8534 | Valid-F1 = 0.8498\n",
            "Epoch  82: Train Loss = 0.34930 | Validation Loss = 0.32417 | Accuracy = 86.1253 | Train-f1 = 0.8537 | Valid-F1 = 0.8612\n",
            "Epoch  83: Train Loss = 0.35040 | Validation Loss = 0.32000 | Accuracy = 86.2253 | Train-f1 = 0.8538 | Valid-F1 = 0.8622\n",
            "Epoch  84: Train Loss = 0.34857 | Validation Loss = 0.32496 | Accuracy = 85.9031 | Train-f1 = 0.8543 | Valid-F1 = 0.8589\n",
            "Epoch  85: Train Loss = 0.34994 | Validation Loss = 0.32268 | Accuracy = 85.7698 | Train-f1 = 0.8549 | Valid-F1 = 0.8577\n",
            "Epoch  86: Train Loss = 0.34791 | Validation Loss = 0.33685 | Accuracy = 84.7923 | Train-f1 = 0.8537 | Valid-F1 = 0.8469\n",
            "Epoch  87: Train Loss = 0.35028 | Validation Loss = 0.32031 | Accuracy = 86.0587 | Train-f1 = 0.8532 | Valid-F1 = 0.8605\n",
            "Epoch  88: Train Loss = 0.34731 | Validation Loss = 0.31795 | Accuracy = 86.3475 | Train-f1 = 0.8550 | Valid-F1 = 0.8635\n",
            "Epoch  89: Train Loss = 0.34999 | Validation Loss = 0.31915 | Accuracy = 86.1253 | Train-f1 = 0.8530 | Valid-F1 = 0.8611\n",
            "Epoch  90: Train Loss = 0.34842 | Validation Loss = 0.31977 | Accuracy = 86.1586 | Train-f1 = 0.8540 | Valid-F1 = 0.8616\n",
            "Epoch  91: Train Loss = 0.34899 | Validation Loss = 0.32553 | Accuracy = 85.9809 | Train-f1 = 0.8531 | Valid-F1 = 0.8597\n",
            "Epoch  92: Train Loss = 0.34726 | Validation Loss = 0.32141 | Accuracy = 86.2697 | Train-f1 = 0.8554 | Valid-F1 = 0.8627\n",
            "Epoch  93: Train Loss = 0.34604 | Validation Loss = 0.32188 | Accuracy = 85.9809 | Train-f1 = 0.8566 | Valid-F1 = 0.8598\n",
            "Epoch  94: Train Loss = 0.34772 | Validation Loss = 0.31889 | Accuracy = 86.1031 | Train-f1 = 0.8543 | Valid-F1 = 0.8610\n",
            "Epoch  95: Train Loss = 0.34469 | Validation Loss = 0.31915 | Accuracy = 85.9587 | Train-f1 = 0.8567 | Valid-F1 = 0.8596\n",
            "Epoch  96: Train Loss = 0.34793 | Validation Loss = 0.32161 | Accuracy = 86.1586 | Train-f1 = 0.8544 | Valid-F1 = 0.8615\n",
            "Epoch  97: Train Loss = 0.34430 | Validation Loss = 0.31799 | Accuracy = 86.2586 | Train-f1 = 0.8560 | Valid-F1 = 0.8626\n",
            "Epoch  98: Train Loss = 0.34566 | Validation Loss = 0.31882 | Accuracy = 86.2697 | Train-f1 = 0.8560 | Valid-F1 = 0.8626\n",
            "Epoch  99: Train Loss = 0.34484 | Validation Loss = 0.31913 | Accuracy = 86.0364 | Train-f1 = 0.8556 | Valid-F1 = 0.8603\n"
          ]
        }
      ]
    },
    {
      "cell_type": "markdown",
      "source": [
        "The following function is used in order to plot the loss curves"
      ],
      "metadata": {
        "id": "0_1J9fsev7_o"
      }
    },
    {
      "cell_type": "code",
      "source": [
        "import matplotlib.pyplot as plt\n",
        "\n",
        "def plotLossCurves(t_loss,v_loss,epochs = 100):\n",
        "  x = list(range(1,epochs+1))\n",
        "  plt.plot(x, t_loss, 'r',label='Train Loss')\n",
        "  plt.plot(x, v_loss, 'g',label='Test Loss')\n",
        "  plt.legend(loc='best')\n",
        "  plt.xlabel('Epochs')\n",
        "  plt.ylabel('Loss')\n",
        "  plt.title('Loss vs Epoch curves')\n",
        "  plt.show()"
      ],
      "metadata": {
        "id": "XqYuKiMVPtml"
      },
      "execution_count": 27,
      "outputs": []
    },
    {
      "cell_type": "markdown",
      "source": [
        "We plot the loss curves"
      ],
      "metadata": {
        "id": "3jljJuymv_Xl"
      }
    },
    {
      "cell_type": "code",
      "source": [
        "plotLossCurves(train_loss,valid_loss,TRAINING_EPOCHS) "
      ],
      "metadata": {
        "colab": {
          "base_uri": "https://localhost:8080/",
          "height": 295
        },
        "id": "ivnyvuRtPvaH",
        "outputId": "0a786c3e-e2aa-4566-c21a-0896ac837d1a"
      },
      "execution_count": 28,
      "outputs": [
        {
          "output_type": "display_data",
          "data": {
            "text/plain": [
              "<Figure size 432x288 with 1 Axes>"
            ],
            "image/png": "[encoded data removed]"
          },
          "metadata": {
            "needs_background": "light"
          }
        }
      ]
    },
    {
      "cell_type": "code",
      "source": [
        "y_test = trained_model(X_test_tensor) \n",
        "y_test_numpy = y_test.detach().numpy()"
      ],
      "metadata": {
        "id": "pEotwF9-P7xC"
      },
      "execution_count": 29,
      "outputs": []
    },
    {
      "cell_type": "markdown",
      "source": [
        "We plot the ROC curves"
      ],
      "metadata": {
        "id": "JZgOvISr6SbS"
      }
    },
    {
      "cell_type": "code",
      "source": [
        "from sklearn.metrics import roc_curve, auc\n",
        "from sklearn.metrics import precision_score, recall_score\n",
        "from sklearn.metrics import accuracy_score\n",
        "from sklearn.metrics import classification_report\n",
        "fpr = {}\n",
        "tpr = {}\n",
        "thresh ={}\n",
        "\n",
        "numberOfClasses = 3\n",
        "\n",
        "for i in range(numberOfClasses):    \n",
        "    fpr[i], tpr[i], thresh[i] = roc_curve(Y_test_tensor, y_test_numpy[:,i], pos_label=i)\n",
        "    \n",
        "plt.plot(fpr[0], tpr[0], linestyle='--',color='orange', label='Class 0 vs Rest')\n",
        "plt.plot(fpr[1], tpr[1], linestyle='--',color='green', label='Class 1 vs Rest')\n",
        "plt.plot(fpr[2], tpr[2], linestyle='--',color='blue', label='Class 2 vs Rest')\n",
        "plt.title('Multiclass ROC curve')\n",
        "plt.xlabel('False Positive Rate')\n",
        "plt.ylabel('True Positive rate')\n",
        "plt.legend(loc='best')\n",
        "plt.savefig('Multiclass ROC',dpi=300);  \n",
        "\n",
        "\"\"\" We get the labels of the predictions based on the label with the maximum possibility for each instance \"\"\"\n",
        "_, y_test_tags = torch.max(y_test, dim = 1)\n",
        "accuracy_countVec = accuracy_score(Y_test,y_test_tags) \n",
        "f1_score_countVec = f1_score(Y_test,y_test_tags,average='weighted')\n",
        "print(\" Accuracy: %.2f%%\" %(accuracy_countVec*100))\n",
        "print(\" f1 score: %.2f%%\" %(f1_score_countVec*100))\n",
        "print(' Precision: %.2f%%' % (precision_score(Y_test, y_test_tags,average='weighted')*100)) \n",
        "print(' Recall: %.2f%%' % (recall_score(Y_test, y_test_tags,average='weighted')*100))\n",
        "print(classification_report(Y_test, y_test_tags))"
      ],
      "metadata": {
        "colab": {
          "base_uri": "https://localhost:8080/",
          "height": 521
        },
        "id": "vg_SBk2qQEq1",
        "outputId": "c417bc9a-9dbc-4ac9-e505-df682854186a"
      },
      "execution_count": 30,
      "outputs": [
        {
          "output_type": "stream",
          "name": "stdout",
          "text": [
            " Accuracy: 86.04%\n",
            " f1 score: 86.03%\n",
            " Precision: 86.06%\n",
            " Recall: 86.04%\n",
            "              precision    recall  f1-score   support\n",
            "\n",
            "         0.0       0.85      0.87      0.86      4527\n",
            "         1.0       0.87      0.85      0.86      4475\n",
            "\n",
            "    accuracy                           0.86      9002\n",
            "   macro avg       0.86      0.86      0.86      9002\n",
            "weighted avg       0.86      0.86      0.86      9002\n",
            "\n"
          ]
        },
        {
          "output_type": "display_data",
          "data": {
            "text/plain": [
              "<Figure size 432x288 with 1 Axes>"
            ],
            "image/png": "[encoded data removed]"
          },
          "metadata": {
            "needs_background": "light"
          }
        }
      ]
    },
    {
      "cell_type": "markdown",
      "source": [
        "We split the data in training and test set. Note for the grader: You can use the graders_data variable to store the data set you will need and then use the Preparation() function by just giving as input the variable. Then, you will only need to store the review column in the Y_train variable and the rating in the Y_test variable as implemented."
      ],
      "metadata": {
        "id": "hJyvufVA6m0I"
      }
    },
    {
      "cell_type": "code",
      "source": [
        "from sklearn.model_selection import train_test_split\n",
        "\n",
        "graders_data = None\n",
        "\n",
        "if(graders_data is not None):\n",
        "  X_train = list(reviews)\n",
        "  X_test = list(ratings)\n",
        "  \"\"\" \n",
        "    Code needed in order to initialize Y_train and Y_test using graders_data \n",
        "    TODO: Use the Preparation function\n",
        "  \"\"\"\n",
        "  graders_data = Preparation(graders_data)\n",
        "  Y_train = list(graders_data['review'])\n",
        "  Y_test = list(graders_data['rating'])\n",
        "else:\n",
        "  X_train, X_test, Y_train, Y_test = train_test_split(list(reviews), list(ratings), train_size=0.8)"
      ],
      "metadata": {
        "id": "mHKICvw41Xhl"
      },
      "execution_count": 31,
      "outputs": []
    },
    {
      "cell_type": "markdown",
      "source": [
        "We split both the training and the testing set into tokens"
      ],
      "metadata": {
        "id": "SB8lN7qK613L"
      }
    },
    {
      "cell_type": "code",
      "source": [
        "X_train_tokens = [sent.lower().split() for sent in X_train]\n",
        "X_test_tokens = [sent.lower().split() for sent in X_test]"
      ],
      "metadata": {
        "id": "mLuwCExD1fSh"
      },
      "execution_count": 32,
      "outputs": []
    },
    {
      "cell_type": "markdown",
      "source": [
        "We initialize the TfidfVectorizer, fit it with all the reviews in the training set and transform them"
      ],
      "metadata": {
        "id": "flky8c8j64ah"
      }
    },
    {
      "cell_type": "code",
      "source": [
        "from sklearn.feature_extraction.text import TfidfVectorizer\n",
        "\n",
        "tfidf_vectorizer = TfidfVectorizer(ngram_range=(1,3),max_features=300)\n",
        "trainSet_transformed_tfidf = tfidf_vectorizer.fit_transform(X_train)\n",
        "validationSet_transformed_tfidf = tfidf_vectorizer.transform(X_test)"
      ],
      "metadata": {
        "id": "gYjukz4t1yxO"
      },
      "execution_count": 33,
      "outputs": []
    },
    {
      "cell_type": "markdown",
      "source": [
        "We create a tensor for each of the train and test data"
      ],
      "metadata": {
        "id": "KR2A3wt67LVE"
      }
    },
    {
      "cell_type": "code",
      "source": [
        "x_train_tensor = torch.tensor(trainSet_transformed_tfidf.toarray(), dtype=torch.float)\n",
        "y_train_tensor = torch.tensor(Y_train, dtype=torch.long)\n",
        "\n",
        "x_test_tensor = torch.tensor(validationSet_transformed_tfidf.toarray(), dtype=torch.float)\n",
        "y_test_tensor = torch.tensor(Y_test, dtype=torch.long)"
      ],
      "metadata": {
        "id": "ZnGHn2KH11fK"
      },
      "execution_count": 34,
      "outputs": []
    },
    {
      "cell_type": "markdown",
      "source": [
        "We define the parameteres that we will need for our execution. We use three layers with sizes 20, 10, 10 and one output layer with size 3. We use 100 training epochs and the learning rate is 0,1. Then we initialize our model, we initialize our loss function and finally our optimizer."
      ],
      "metadata": {
        "id": "R8QNbkxa7fOj"
      }
    },
    {
      "cell_type": "code",
      "source": [
        "D_in = x_train_tensor.shape[1]\n",
        "H1 = 20\n",
        "H2 = 10\n",
        "H3 = 10\n",
        "D_out = 3\n",
        "\n",
        "TRAINING_EPOCHS = 100\n",
        "\n",
        "learning_rate = 0.1\n",
        "\n",
        "nn_model = Net(D_in, H1, H2, H3,D_out)\n",
        "loss_func = nn.CrossEntropyLoss()\n",
        "nn_optimizer = torch.optim.SGD(nn_model.parameters(), lr=learning_rate)"
      ],
      "metadata": {
        "id": "Opkyfasi2gdV"
      },
      "execution_count": 35,
      "outputs": []
    },
    {
      "cell_type": "markdown",
      "source": [
        "We initialize the data loader for both our training and testing set"
      ],
      "metadata": {
        "id": "GUXwb0JW7uUv"
      }
    },
    {
      "cell_type": "code",
      "source": [
        "train_dataset = torch.utils.data.TensorDataset(x_train_tensor, y_train_tensor)\n",
        "train_loader = torch.utils.data.DataLoader(train_dataset, batch_size=16, shuffle=True)\n",
        "\n",
        "test_dataset = torch.utils.data.TensorDataset(x_test_tensor, y_test_tensor)\n",
        "test_loader = torch.utils.data.DataLoader(test_dataset, batch_size=16, shuffle=True)"
      ],
      "metadata": {
        "id": "QdfdizTV2g_t"
      },
      "execution_count": 36,
      "outputs": []
    },
    {
      "cell_type": "markdown",
      "source": [
        "We train the model"
      ],
      "metadata": {
        "id": "8tUAn5am7yGb"
      }
    },
    {
      "cell_type": "code",
      "source": [
        "trained_model, train_loss, test_loss = train_model(nn_model,loss_func,train_loader,test_loader,nn_optimizer,TRAINING_EPOCHS)"
      ],
      "metadata": {
        "colab": {
          "base_uri": "https://localhost:8080/"
        },
        "id": "5b2LutmP3ZhX",
        "outputId": "dea9479a-88d0-4a62-f359-74799c752c84"
      },
      "execution_count": 37,
      "outputs": [
        {
          "output_type": "stream",
          "name": "stdout",
          "text": [
            "Epoch   0: Train Loss = 0.70704 | Validation Loss = 0.71080 | Accuracy = 49.5668 | Train-f1 = 0.5074 | Valid-F1 = 0.3285\n",
            "Epoch   1: Train Loss = 0.58234 | Validation Loss = 0.47967 | Accuracy = 77.5272 | Train-f1 = 0.6912 | Valid-F1 = 0.7701\n",
            "Epoch   2: Train Loss = 0.49863 | Validation Loss = 0.41985 | Accuracy = 80.9931 | Train-f1 = 0.7678 | Valid-F1 = 0.8094\n",
            "Epoch   3: Train Loss = 0.46512 | Validation Loss = 0.42711 | Accuracy = 80.6487 | Train-f1 = 0.7889 | Valid-F1 = 0.8055\n",
            "Epoch   4: Train Loss = 0.45588 | Validation Loss = 0.41911 | Accuracy = 80.6154 | Train-f1 = 0.7960 | Valid-F1 = 0.8055\n",
            "Epoch   5: Train Loss = 0.44639 | Validation Loss = 0.40393 | Accuracy = 81.6485 | Train-f1 = 0.7977 | Valid-F1 = 0.8164\n",
            "Epoch   6: Train Loss = 0.44037 | Validation Loss = 0.39916 | Accuracy = 81.7929 | Train-f1 = 0.8023 | Valid-F1 = 0.8179\n",
            "Epoch   7: Train Loss = 0.43711 | Validation Loss = 0.39727 | Accuracy = 81.6596 | Train-f1 = 0.8028 | Valid-F1 = 0.8164\n",
            "Epoch   8: Train Loss = 0.43580 | Validation Loss = 0.39723 | Accuracy = 81.3708 | Train-f1 = 0.8037 | Valid-F1 = 0.8133\n",
            "Epoch   9: Train Loss = 0.43266 | Validation Loss = 0.39945 | Accuracy = 81.8152 | Train-f1 = 0.8062 | Valid-F1 = 0.8181\n",
            "Epoch  10: Train Loss = 0.42965 | Validation Loss = 0.41139 | Accuracy = 81.9040 | Train-f1 = 0.8091 | Valid-F1 = 0.8189\n",
            "Epoch  11: Train Loss = 0.42933 | Validation Loss = 0.40285 | Accuracy = 81.3153 | Train-f1 = 0.8066 | Valid-F1 = 0.8123\n",
            "Epoch  12: Train Loss = 0.42800 | Validation Loss = 0.39842 | Accuracy = 81.9485 | Train-f1 = 0.8084 | Valid-F1 = 0.8194\n",
            "Epoch  13: Train Loss = 0.42900 | Validation Loss = 0.39395 | Accuracy = 82.0818 | Train-f1 = 0.8075 | Valid-F1 = 0.8206\n",
            "Epoch  14: Train Loss = 0.42401 | Validation Loss = 0.40920 | Accuracy = 81.5041 | Train-f1 = 0.8111 | Valid-F1 = 0.8150\n",
            "Epoch  15: Train Loss = 0.42426 | Validation Loss = 0.39807 | Accuracy = 81.6374 | Train-f1 = 0.8116 | Valid-F1 = 0.8162\n",
            "Epoch  16: Train Loss = 0.42261 | Validation Loss = 0.39269 | Accuracy = 81.9040 | Train-f1 = 0.8115 | Valid-F1 = 0.8190\n",
            "Epoch  17: Train Loss = 0.41971 | Validation Loss = 0.39795 | Accuracy = 81.2597 | Train-f1 = 0.8126 | Valid-F1 = 0.8115\n",
            "Epoch  18: Train Loss = 0.42080 | Validation Loss = 0.40265 | Accuracy = 81.8485 | Train-f1 = 0.8112 | Valid-F1 = 0.8183\n",
            "Epoch  19: Train Loss = 0.42035 | Validation Loss = 0.42039 | Accuracy = 81.6818 | Train-f1 = 0.8137 | Valid-F1 = 0.8168\n",
            "Epoch  20: Train Loss = 0.41844 | Validation Loss = 0.42782 | Accuracy = 81.4930 | Train-f1 = 0.8127 | Valid-F1 = 0.8147\n",
            "Epoch  21: Train Loss = 0.41525 | Validation Loss = 0.40487 | Accuracy = 81.2597 | Train-f1 = 0.8140 | Valid-F1 = 0.8122\n",
            "Epoch  22: Train Loss = 0.41566 | Validation Loss = 0.40414 | Accuracy = 81.6374 | Train-f1 = 0.8164 | Valid-F1 = 0.8164\n",
            "Epoch  23: Train Loss = 0.41478 | Validation Loss = 0.39519 | Accuracy = 82.0040 | Train-f1 = 0.8152 | Valid-F1 = 0.8199\n",
            "Epoch  24: Train Loss = 0.41400 | Validation Loss = 0.39808 | Accuracy = 81.3597 | Train-f1 = 0.8164 | Valid-F1 = 0.8134\n",
            "Epoch  25: Train Loss = 0.41031 | Validation Loss = 0.40109 | Accuracy = 81.8707 | Train-f1 = 0.8193 | Valid-F1 = 0.8187\n",
            "Epoch  26: Train Loss = 0.41535 | Validation Loss = 0.39940 | Accuracy = 82.0040 | Train-f1 = 0.8167 | Valid-F1 = 0.8199\n",
            "Epoch  27: Train Loss = 0.41196 | Validation Loss = 0.40964 | Accuracy = 81.4152 | Train-f1 = 0.8164 | Valid-F1 = 0.8129\n",
            "Epoch  28: Train Loss = 0.40824 | Validation Loss = 0.39333 | Accuracy = 82.1706 | Train-f1 = 0.8199 | Valid-F1 = 0.8217\n",
            "Epoch  29: Train Loss = 0.40849 | Validation Loss = 0.40290 | Accuracy = 81.1264 | Train-f1 = 0.8193 | Valid-F1 = 0.8110\n",
            "Epoch  30: Train Loss = 0.41024 | Validation Loss = 0.40210 | Accuracy = 81.5152 | Train-f1 = 0.8193 | Valid-F1 = 0.8148\n",
            "Epoch  31: Train Loss = 0.40916 | Validation Loss = 0.41526 | Accuracy = 80.9376 | Train-f1 = 0.8191 | Valid-F1 = 0.8081\n",
            "Epoch  32: Train Loss = 0.40827 | Validation Loss = 0.40043 | Accuracy = 81.5152 | Train-f1 = 0.8209 | Valid-F1 = 0.8150\n",
            "Epoch  33: Train Loss = 0.40770 | Validation Loss = 0.39791 | Accuracy = 81.6374 | Train-f1 = 0.8208 | Valid-F1 = 0.8164\n",
            "Epoch  34: Train Loss = 0.40668 | Validation Loss = 0.40247 | Accuracy = 81.9151 | Train-f1 = 0.8201 | Valid-F1 = 0.8188\n",
            "Epoch  35: Train Loss = 0.40535 | Validation Loss = 0.39712 | Accuracy = 81.6485 | Train-f1 = 0.8194 | Valid-F1 = 0.8165\n",
            "Epoch  36: Train Loss = 0.40385 | Validation Loss = 0.40402 | Accuracy = 80.8820 | Train-f1 = 0.8230 | Valid-F1 = 0.8083\n",
            "Epoch  37: Train Loss = 0.40454 | Validation Loss = 0.40959 | Accuracy = 80.9376 | Train-f1 = 0.8216 | Valid-F1 = 0.8088\n",
            "Epoch  38: Train Loss = 0.40281 | Validation Loss = 0.40654 | Accuracy = 81.6818 | Train-f1 = 0.8191 | Valid-F1 = 0.8168\n",
            "Epoch  39: Train Loss = 0.40288 | Validation Loss = 0.39902 | Accuracy = 81.6152 | Train-f1 = 0.8222 | Valid-F1 = 0.8161\n",
            "Epoch  40: Train Loss = 0.40448 | Validation Loss = 0.40005 | Accuracy = 81.9707 | Train-f1 = 0.8212 | Valid-F1 = 0.8195\n",
            "Epoch  41: Train Loss = 0.39907 | Validation Loss = 0.40754 | Accuracy = 80.5710 | Train-f1 = 0.8243 | Valid-F1 = 0.8040\n",
            "Epoch  42: Train Loss = 0.40050 | Validation Loss = 0.42557 | Accuracy = 79.6934 | Train-f1 = 0.8257 | Valid-F1 = 0.7951\n",
            "Epoch  43: Train Loss = 0.40057 | Validation Loss = 0.40304 | Accuracy = 81.3819 | Train-f1 = 0.8238 | Valid-F1 = 0.8138\n",
            "Epoch  44: Train Loss = 0.40097 | Validation Loss = 0.39687 | Accuracy = 81.8374 | Train-f1 = 0.8235 | Valid-F1 = 0.8182\n",
            "Epoch  45: Train Loss = 0.39853 | Validation Loss = 0.39709 | Accuracy = 81.6485 | Train-f1 = 0.8231 | Valid-F1 = 0.8165\n",
            "Epoch  46: Train Loss = 0.40102 | Validation Loss = 0.39886 | Accuracy = 81.5152 | Train-f1 = 0.8242 | Valid-F1 = 0.8151\n",
            "Epoch  47: Train Loss = 0.39814 | Validation Loss = 0.40256 | Accuracy = 81.6374 | Train-f1 = 0.8251 | Valid-F1 = 0.8163\n",
            "Epoch  48: Train Loss = 0.39914 | Validation Loss = 0.40886 | Accuracy = 81.7041 | Train-f1 = 0.8256 | Valid-F1 = 0.8166\n",
            "Epoch  49: Train Loss = 0.39847 | Validation Loss = 0.39905 | Accuracy = 81.5597 | Train-f1 = 0.8247 | Valid-F1 = 0.8156\n",
            "Epoch  50: Train Loss = 0.39770 | Validation Loss = 0.40425 | Accuracy = 81.4486 | Train-f1 = 0.8254 | Valid-F1 = 0.8145\n",
            "Epoch  51: Train Loss = 0.39626 | Validation Loss = 0.40455 | Accuracy = 81.8040 | Train-f1 = 0.8271 | Valid-F1 = 0.8180\n",
            "Epoch  52: Train Loss = 0.39638 | Validation Loss = 0.39967 | Accuracy = 81.5930 | Train-f1 = 0.8249 | Valid-F1 = 0.8159\n",
            "Epoch  53: Train Loss = 0.39728 | Validation Loss = 0.39872 | Accuracy = 81.2375 | Train-f1 = 0.8261 | Valid-F1 = 0.8122\n",
            "Epoch  54: Train Loss = 0.39357 | Validation Loss = 0.39757 | Accuracy = 81.3708 | Train-f1 = 0.8268 | Valid-F1 = 0.8136\n",
            "Epoch  55: Train Loss = 0.39585 | Validation Loss = 0.40259 | Accuracy = 81.3930 | Train-f1 = 0.8284 | Valid-F1 = 0.8139\n",
            "Epoch  56: Train Loss = 0.39472 | Validation Loss = 0.40691 | Accuracy = 81.6374 | Train-f1 = 0.8279 | Valid-F1 = 0.8163\n",
            "Epoch  57: Train Loss = 0.39670 | Validation Loss = 0.41135 | Accuracy = 81.7374 | Train-f1 = 0.8271 | Valid-F1 = 0.8174\n",
            "Epoch  58: Train Loss = 0.39366 | Validation Loss = 0.39859 | Accuracy = 81.6818 | Train-f1 = 0.8286 | Valid-F1 = 0.8168\n",
            "Epoch  59: Train Loss = 0.39396 | Validation Loss = 0.39850 | Accuracy = 81.8929 | Train-f1 = 0.8265 | Valid-F1 = 0.8188\n",
            "Epoch  60: Train Loss = 0.39368 | Validation Loss = 0.40433 | Accuracy = 81.5374 | Train-f1 = 0.8293 | Valid-F1 = 0.8153\n",
            "Epoch  61: Train Loss = 0.39408 | Validation Loss = 0.41058 | Accuracy = 81.4152 | Train-f1 = 0.8283 | Valid-F1 = 0.8140\n",
            "Epoch  62: Train Loss = 0.39488 | Validation Loss = 0.39983 | Accuracy = 81.5819 | Train-f1 = 0.8290 | Valid-F1 = 0.8158\n",
            "Epoch  63: Train Loss = 0.39586 | Validation Loss = 0.40230 | Accuracy = 81.6152 | Train-f1 = 0.8273 | Valid-F1 = 0.8161\n",
            "Epoch  64: Train Loss = 0.39511 | Validation Loss = 0.40730 | Accuracy = 81.2153 | Train-f1 = 0.8281 | Valid-F1 = 0.8121\n",
            "Epoch  65: Train Loss = 0.39409 | Validation Loss = 0.40121 | Accuracy = 81.5041 | Train-f1 = 0.8291 | Valid-F1 = 0.8150\n",
            "Epoch  66: Train Loss = 0.39362 | Validation Loss = 0.39620 | Accuracy = 81.5597 | Train-f1 = 0.8293 | Valid-F1 = 0.8156\n",
            "Epoch  67: Train Loss = 0.39138 | Validation Loss = 0.40669 | Accuracy = 80.9931 | Train-f1 = 0.8312 | Valid-F1 = 0.8094\n",
            "Epoch  68: Train Loss = 0.39267 | Validation Loss = 0.40651 | Accuracy = 81.6041 | Train-f1 = 0.8282 | Valid-F1 = 0.8158\n",
            "Epoch  69: Train Loss = 0.39195 | Validation Loss = 0.41006 | Accuracy = 81.5708 | Train-f1 = 0.8285 | Valid-F1 = 0.8157\n",
            "Epoch  70: Train Loss = 0.39220 | Validation Loss = 0.41391 | Accuracy = 81.5485 | Train-f1 = 0.8271 | Valid-F1 = 0.8154\n",
            "Epoch  71: Train Loss = 0.39107 | Validation Loss = 0.40391 | Accuracy = 81.6041 | Train-f1 = 0.8286 | Valid-F1 = 0.8160\n",
            "Epoch  72: Train Loss = 0.39202 | Validation Loss = 0.40626 | Accuracy = 81.5485 | Train-f1 = 0.8285 | Valid-F1 = 0.8155\n",
            "Epoch  73: Train Loss = 0.39165 | Validation Loss = 0.41175 | Accuracy = 80.8043 | Train-f1 = 0.8296 | Valid-F1 = 0.8073\n",
            "Epoch  74: Train Loss = 0.38984 | Validation Loss = 0.40519 | Accuracy = 81.1597 | Train-f1 = 0.8309 | Valid-F1 = 0.8115\n",
            "Epoch  75: Train Loss = 0.38910 | Validation Loss = 0.40055 | Accuracy = 81.6707 | Train-f1 = 0.8322 | Valid-F1 = 0.8167\n",
            "Epoch  76: Train Loss = 0.38988 | Validation Loss = 0.40803 | Accuracy = 81.6041 | Train-f1 = 0.8314 | Valid-F1 = 0.8160\n",
            "Epoch  77: Train Loss = 0.39066 | Validation Loss = 0.40468 | Accuracy = 81.5152 | Train-f1 = 0.8287 | Valid-F1 = 0.8151\n",
            "Epoch  78: Train Loss = 0.39039 | Validation Loss = 0.40882 | Accuracy = 81.2819 | Train-f1 = 0.8320 | Valid-F1 = 0.8125\n",
            "Epoch  79: Train Loss = 0.38747 | Validation Loss = 0.40518 | Accuracy = 81.2708 | Train-f1 = 0.8316 | Valid-F1 = 0.8126\n",
            "Epoch  80: Train Loss = 0.38937 | Validation Loss = 0.40012 | Accuracy = 81.6485 | Train-f1 = 0.8312 | Valid-F1 = 0.8165\n",
            "Epoch  81: Train Loss = 0.38765 | Validation Loss = 0.40758 | Accuracy = 81.4486 | Train-f1 = 0.8325 | Valid-F1 = 0.8145\n",
            "Epoch  82: Train Loss = 0.38978 | Validation Loss = 0.40487 | Accuracy = 81.5597 | Train-f1 = 0.8298 | Valid-F1 = 0.8156\n",
            "Epoch  83: Train Loss = 0.39039 | Validation Loss = 0.40497 | Accuracy = 81.6041 | Train-f1 = 0.8293 | Valid-F1 = 0.8159\n",
            "Epoch  84: Train Loss = 0.38949 | Validation Loss = 0.40270 | Accuracy = 81.6374 | Train-f1 = 0.8311 | Valid-F1 = 0.8163\n",
            "Epoch  85: Train Loss = 0.38817 | Validation Loss = 0.40382 | Accuracy = 81.5152 | Train-f1 = 0.8309 | Valid-F1 = 0.8150\n",
            "Epoch  86: Train Loss = 0.38950 | Validation Loss = 0.40688 | Accuracy = 81.1042 | Train-f1 = 0.8297 | Valid-F1 = 0.8108\n",
            "Epoch  87: Train Loss = 0.38888 | Validation Loss = 0.40335 | Accuracy = 81.4819 | Train-f1 = 0.8303 | Valid-F1 = 0.8147\n",
            "Epoch  88: Train Loss = 0.38655 | Validation Loss = 0.40208 | Accuracy = 81.6930 | Train-f1 = 0.8312 | Valid-F1 = 0.8169\n",
            "Epoch  89: Train Loss = 0.38644 | Validation Loss = 0.41000 | Accuracy = 81.5041 | Train-f1 = 0.8298 | Valid-F1 = 0.8150\n",
            "Epoch  90: Train Loss = 0.38750 | Validation Loss = 0.40940 | Accuracy = 81.4152 | Train-f1 = 0.8302 | Valid-F1 = 0.8141\n",
            "Epoch  91: Train Loss = 0.38783 | Validation Loss = 0.40506 | Accuracy = 81.2819 | Train-f1 = 0.8327 | Valid-F1 = 0.8126\n",
            "Epoch  92: Train Loss = 0.38941 | Validation Loss = 0.42234 | Accuracy = 81.0264 | Train-f1 = 0.8306 | Valid-F1 = 0.8100\n",
            "Epoch  93: Train Loss = 0.38877 | Validation Loss = 0.40196 | Accuracy = 81.4819 | Train-f1 = 0.8291 | Valid-F1 = 0.8148\n",
            "Epoch  94: Train Loss = 0.38779 | Validation Loss = 0.40331 | Accuracy = 81.3930 | Train-f1 = 0.8305 | Valid-F1 = 0.8139\n",
            "Epoch  95: Train Loss = 0.38639 | Validation Loss = 0.41275 | Accuracy = 81.4486 | Train-f1 = 0.8328 | Valid-F1 = 0.8142\n",
            "Epoch  96: Train Loss = 0.38783 | Validation Loss = 0.40819 | Accuracy = 81.2153 | Train-f1 = 0.8310 | Valid-F1 = 0.8122\n",
            "Epoch  97: Train Loss = 0.38655 | Validation Loss = 0.40708 | Accuracy = 81.1597 | Train-f1 = 0.8300 | Valid-F1 = 0.8115\n",
            "Epoch  98: Train Loss = 0.38604 | Validation Loss = 0.40889 | Accuracy = 81.3486 | Train-f1 = 0.8328 | Valid-F1 = 0.8130\n",
            "Epoch  99: Train Loss = 0.38344 | Validation Loss = 0.39960 | Accuracy = 81.5930 | Train-f1 = 0.8319 | Valid-F1 = 0.8159\n"
          ]
        }
      ]
    },
    {
      "cell_type": "markdown",
      "source": [
        "We plot the loss curves"
      ],
      "metadata": {
        "id": "1W4_Cbmg79eZ"
      }
    },
    {
      "cell_type": "code",
      "source": [
        "plotLossCurves(train_loss,test_loss,TRAINING_EPOCHS)"
      ],
      "metadata": {
        "colab": {
          "base_uri": "https://localhost:8080/",
          "height": 295
        },
        "id": "wDOcPAq377ss",
        "outputId": "1d38d5c7-9248-4166-a708-3d63413cc6fb"
      },
      "execution_count": 38,
      "outputs": [
        {
          "output_type": "display_data",
          "data": {
            "text/plain": [
              "<Figure size 432x288 with 1 Axes>"
            ],
            "image/png": "[encoded data removed]"
          },
          "metadata": {
            "needs_background": "light"
          }
        }
      ]
    },
    {
      "cell_type": "code",
      "source": [
        "y_pred = trained_model(x_test_tensor)\n",
        "y_pred_numpy = y_pred.detach().numpy()"
      ],
      "metadata": {
        "id": "_yJ0T5xM8CjM"
      },
      "execution_count": 39,
      "outputs": []
    },
    {
      "cell_type": "markdown",
      "source": [
        "We plot the ROC curves"
      ],
      "metadata": {
        "id": "QHI0F2ni8PNI"
      }
    },
    {
      "cell_type": "code",
      "source": [
        "from sklearn.metrics import roc_curve, auc\n",
        "from sklearn.metrics import precision_score, recall_score\n",
        "from sklearn.metrics import accuracy_score\n",
        "from sklearn.metrics import classification_report\n",
        "\n",
        "fpr = {}\n",
        "tpr = {}\n",
        "thresh ={}\n",
        "\n",
        "numberOfClass = 3\n",
        "\n",
        "for i in range(numberOfClass):    \n",
        "    fpr[i], tpr[i], thresh[i] = roc_curve(y_test_tensor, y_test_numpy[:,i], pos_label=i)\n",
        "    \n",
        "plt.plot(fpr[0], tpr[0], linestyle='--',color='orange', label='Class 0 vs Rest')\n",
        "plt.plot(fpr[1], tpr[1], linestyle='--',color='green', label='Class 1 vs Rest')\n",
        "plt.plot(fpr[2], tpr[2], linestyle='--',color='blue', label='Class 2 vs Rest')\n",
        "plt.title('Multiclass ROC curve')\n",
        "plt.xlabel('False Positive Rate')\n",
        "plt.ylabel('True Positive rate')\n",
        "plt.legend(loc='best')\n",
        "plt.savefig('Multiclass ROC',dpi=300);  \n",
        "\n",
        "\"\"\" We get the labels of the predictions based on the label with the maximum possibility for each instance \"\"\"\n",
        "_, y_pred_tags = torch.max(y_pred, dim = 1)\n",
        "accuracy_countVec = accuracy_score(Y_test,y_test_tags) \n",
        "f1_score_countVec = f1_score(Y_test,y_test_tags,average='weighted')\n",
        "print(\" Accuracy: %.2f%%\" %(accuracy_countVec*100))\n",
        "print(\" f1 score: %.2f%%\" %(f1_score_countVec*100))\n",
        "print(' Precision: %.2f%%' % (precision_score(Y_test, y_test_tags,average='weighted')*100))\n",
        "print(' Recall: %.2f%%' % (recall_score(Y_test, y_test_tags,average='weighted')*100))\n",
        "print(classification_report(Y_test, y_test_tags))"
      ],
      "metadata": {
        "colab": {
          "base_uri": "https://localhost:8080/",
          "height": 521
        },
        "id": "rX-eStk63dWe",
        "outputId": "6ee47878-dc00-4179-83ed-63a60354c976"
      },
      "execution_count": 40,
      "outputs": [
        {
          "output_type": "stream",
          "name": "stdout",
          "text": [
            " Accuracy: 50.01%\n",
            " f1 score: 50.00%\n",
            " Precision: 50.00%\n",
            " Recall: 50.01%\n",
            "              precision    recall  f1-score   support\n",
            "\n",
            "         0.0       0.50      0.52      0.51      4540\n",
            "         1.0       0.50      0.48      0.49      4462\n",
            "\n",
            "    accuracy                           0.50      9002\n",
            "   macro avg       0.50      0.50      0.50      9002\n",
            "weighted avg       0.50      0.50      0.50      9002\n",
            "\n"
          ]
        },
        {
          "output_type": "display_data",
          "data": {
            "text/plain": [
              "<Figure size 432x288 with 1 Axes>"
            ],
            "image/png": "[encoded data removed]"
          },
          "metadata": {
            "needs_background": "light"
          }
        }
      ]
    }
  ]
}