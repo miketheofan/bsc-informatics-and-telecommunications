{
  "nbformat": 4,
  "nbformat_minor": 0,
  "metadata": {
    "colab": {
      "provenance": [],
      "collapsed_sections": []
    },
    "kernelspec": {
      "name": "python3",
      "display_name": "Python 3"
    },
    "language_info": {
      "name": "python"
    }
  },
  "cells": [
    {
      "cell_type": "code",
      "source": [
        "from google.colab import drive\n",
        "drive.mount('/content/gdrive')"
      ],
      "metadata": {
        "id": "xbW9nK2KEANI"
      },
      "execution_count": null,
      "outputs": []
    },
    {
      "cell_type": "code",
      "source": [
        "import warnings\n",
        "# we use this in order for the results to be more visible\n",
        "warnings.filterwarnings('ignore')"
      ],
      "metadata": {
        "id": "0agthwhw8e3Y"
      },
      "execution_count": 35,
      "outputs": []
    },
    {
      "cell_type": "code",
      "source": [
        "import nltk\n",
        "nltk.download('wordnet')\n",
        "nltk.download('omw-1.4')\n",
        "nltk.download('punkt')"
      ],
      "metadata": {
        "id": "S8VP-brst91_"
      },
      "execution_count": null,
      "outputs": []
    },
    {
      "cell_type": "markdown",
      "source": [
        "We first read the data set and store it"
      ],
      "metadata": {
        "id": "OpTtbDQqEAUu"
      }
    },
    {
      "cell_type": "code",
      "source": [
        "import pandas as pd\n",
        "\n",
        "df = pd.read_csv(\"/content/gdrive/MyDrive/AI2/project01/imdb-reviews.csv\",sep='\\t')"
      ],
      "metadata": {
        "id": "8HFsuAf1DShG"
      },
      "execution_count": 21,
      "outputs": []
    },
    {
      "cell_type": "markdown",
      "source": [
        "We implement the function that we use in order to prepare the data for prediction."
      ],
      "metadata": {
        "id": "8Oc0yQwFEJr_"
      }
    },
    {
      "cell_type": "code",
      "source": [
        "def Preparation(dataframe):\n",
        "  df = dataframe[['rating','review']]\n",
        "  # Replace all rating values with either 1 or 0\n",
        "  df = df.replace({\n",
        "    'rating' : {\n",
        "        1.0 : 0.0,\n",
        "        2.0 : 0.0,\n",
        "        3.0 : 0.0,\n",
        "        4.0 : 0.0,\n",
        "        7.0 : 1.0,\n",
        "        8.0 : 1.0,\n",
        "        9.0 : 1.0,\n",
        "        10.0 : 1.0,  \n",
        "    }\n",
        "  })\n",
        "  dummy_list = []\n",
        "\n",
        "  # clean all stopwords and symbols from reviews using the clean function that we implemented\n",
        "  text_column = df['review']\n",
        "  for value in text_column.values:\n",
        "    value = Clean(value)\n",
        "    dummy_list.append(value)\n",
        "\n",
        "  df['review'] = dummy_list\n",
        "\n",
        "  # tokenize all reviews\n",
        "  fixedReviews = Tokenization(df['review'])\n",
        "  # apply stemming on all reviews\n",
        "  fixedReviews = Stemming(fixedReviews)\n",
        "  # lemmatize all reviews\n",
        "  fixedReviews = Lemmatization(fixedReviews)\n",
        "\n",
        "  df['review'] = fixedReviews\n",
        "\n",
        "  return df"
      ],
      "metadata": {
        "id": "_fdoiQj619zS"
      },
      "execution_count": 22,
      "outputs": []
    },
    {
      "cell_type": "markdown",
      "source": [
        "The following is a function that implements the stopwords and sumbols clean-up from a review"
      ],
      "metadata": {
        "id": "hOd9XLlOE7JU"
      }
    },
    {
      "cell_type": "code",
      "source": [
        "import numpy as np\n",
        "import re\n",
        "\n",
        "stopwords = [\"i\", \"me\", \"my\", \"myself\", \"we\", \"our\", \"ours\", \"ourselves\", \"you\", \"your\", \"yours\", \"yourself\", \"yourselves\", \"he\", \"him\", \"his\", \"himself\", \"she\", \"her\", \"hers\", \"herself\", \"it\", \"its\", \"itself\", \"they\", \"them\", \"their\", \"theirs\", \"themselves\", \"what\", \"which\", \"who\", \"whom\", \"this\", \"that\", \"these\", \"those\", \"am\", \"is\", \"are\", \"was\", \"were\", \"be\", \"been\", \"being\", \"have\", \"has\", \"had\", \"having\", \"do\", \"does\", \"did\", \"doing\", \"a\", \"an\", \"the\", \"and\", \"but\", \"if\", \"or\", \"because\", \"as\", \"until\", \"while\", \"of\", \"at\", \"by\", \"for\", \"with\", \"about\", \"against\", \"between\", \"into\", \"through\", \"during\", \"before\", \"after\", \"above\", \"below\", \"to\", \"from\", \"up\", \"down\", \"in\", \"out\", \"on\", \"off\", \"over\", \"under\", \"again\", \"further\", \"then\", \"once\", \"here\", \"there\", \"when\", \"where\", \"why\", \"how\", \"all\", \"any\", \"both\", \"each\", \"few\", \"more\", \"most\", \"other\", \"some\", \"such\", \"no\", \"nor\", \"not\", \"only\", \"own\", \"same\", \"so\", \"than\", \"too\", \"very\", \"s\", \"t\", \"can\", \"will\", \"just\", \"don\", \"should\", \"now\"]\n",
        "emoji_pattern = re.compile(\"[\"\n",
        "        u\"\\U0001F600-\\U0001F64F\"  # emoticons\n",
        "        u\"\\U0001F300-\\U0001F5FF\"  # symbols & pictographs\n",
        "        u\"\\U0001F680-\\U0001F6FF\"  # transport & map symbols\n",
        "        u\"\\U0001F1E0-\\U0001F1FF\"  # flags\n",
        "                           \"]+\", flags=re.UNICODE)\n",
        "\n",
        "def Clean(review):\n",
        "    if type(review) == np.float:\n",
        "        return \"\"\n",
        "    temp = review.lower()\n",
        "    temp = re.sub(\"'\", \"\", temp) # to avoid removing contractions in english\n",
        "    temp = re.sub(\"@[A-Za-z0-9_]+\",\"\", temp) # remove mentions\n",
        "    temp = re.sub(\"#[A-Za-z0-9_]+\",\"\", temp) # remove hashtags\n",
        "    temp = re.sub(r'http\\S+', '', temp) # remove links\n",
        "    temp = re.sub(r\"www.\\S+\", \"\", temp) # remove links\n",
        "    temp = re.sub('[()!?]', ' ', temp) # remove punctuations \n",
        "    temp = re.sub('\\[.*?\\]',' ', temp) # remove punctuations \n",
        "    temp = re.sub(\"[^a-z0-9]\",\" \", temp) # remove non-alphanumeric characters\n",
        "    temp = temp.split() # split text\n",
        "    temp = [w for w in temp if not w in stopwords] # remove stopwords\n",
        "    temp = \" \".join(word for word in temp) # re-create text\n",
        "    emoji_pattern.sub(r'', temp) # remove emojis and emoticons\n",
        "    return temp"
      ],
      "metadata": {
        "id": "L_W6vUlecz1l"
      },
      "execution_count": 23,
      "outputs": []
    },
    {
      "cell_type": "markdown",
      "source": [
        "The following is a function that implements the process of Tokenization"
      ],
      "metadata": {
        "id": "2sp7D6_oFCSo"
      }
    },
    {
      "cell_type": "code",
      "source": [
        "from nltk import sent_tokenize\n",
        "from nltk import word_tokenize\n",
        "\n",
        "def Tokenization(data):\n",
        "  tokenizedReviews = []\n",
        "  for value in data:\n",
        "    value = nltk.sent_tokenize(value)\n",
        "    tokenizedReviews.append(value)\n",
        "\n",
        "  return tokenizedReviews"
      ],
      "metadata": {
        "id": "waQnMEaMipKL"
      },
      "execution_count": 24,
      "outputs": []
    },
    {
      "cell_type": "markdown",
      "source": [
        "The following is a function that implements the process of Stemming"
      ],
      "metadata": {
        "id": "-yDNDUkZFJch"
      }
    },
    {
      "cell_type": "code",
      "source": [
        "from nltk.stem.snowball import SnowballStemmer\n",
        "\n",
        "def Stemming(data):\n",
        "  stemmer = SnowballStemmer(language = \"english\")\n",
        "\n",
        "  stemmedReviews = []\n",
        "  for value in data:\n",
        "    dummyList = []\n",
        "    for word in value:\n",
        "      word = stemmer.stem(word)\n",
        "      dummyList.append(word)\n",
        "    stemmedReviews.append(dummyList)\n",
        "\n",
        "  return stemmedReviews"
      ],
      "metadata": {
        "id": "nlpey-bdLNO8"
      },
      "execution_count": 25,
      "outputs": []
    },
    {
      "cell_type": "markdown",
      "source": [
        "The following is a function that implements the process of Lemmatization"
      ],
      "metadata": {
        "id": "dwoQQ_MKFKkK"
      }
    },
    {
      "cell_type": "code",
      "source": [
        "import nltk\n",
        "from nltk.stem import WordNetLemmatizer \n",
        "\n",
        "def Lemmatization(data):\n",
        "  lemmatizer = WordNetLemmatizer()\n",
        "\n",
        "  lemmatizedReviews = []\n",
        "\n",
        "  for value in data:\n",
        "    value = ' '.join([lemmatizer.lemmatize(w) for w in value])\n",
        "    lemmatizedReviews.append(value)\n",
        "\n",
        "  return lemmatizedReviews"
      ],
      "metadata": {
        "id": "_lcpgMWChV-B"
      },
      "execution_count": 26,
      "outputs": []
    },
    {
      "cell_type": "markdown",
      "source": [
        "We use the preparation function that we implemented in order to get the data ready for the process"
      ],
      "metadata": {
        "id": "e8BuMCzuFMmY"
      }
    },
    {
      "cell_type": "code",
      "source": [
        "fixedDf = Preparation(df)\n",
        "\n",
        "reviews = fixedDf['review'] #Keep everything but rating\n",
        "ratings = fixedDf['rating'] #Only keep rating"
      ],
      "metadata": {
        "id": "hbPIpOU12zFn"
      },
      "execution_count": 36,
      "outputs": []
    },
    {
      "cell_type": "code",
      "source": [
        "fixedDf"
      ],
      "metadata": {
        "colab": {
          "base_uri": "https://localhost:8080/",
          "height": 424
        },
        "id": "633vGiAhtv4T",
        "outputId": "7784da89-28a9-43d7-d240-ae6aeca047c3"
      },
      "execution_count": 37,
      "outputs": [
        {
          "output_type": "execute_result",
          "data": {
            "text/plain": [
              "       rating                                             review\n",
              "0         1.0  thought quiet good movie fun watch liked best ...\n",
              "1         1.0  wagon master unique film amongst john fords wo...\n",
              "2         1.0  film near perfect film john ford made film mag...\n",
              "3         0.0  gave 4 stars lot interesting themes many alrea...\n",
              "4         1.0  movie really genuine random really hard find m...\n",
              "...       ...                                                ...\n",
              "45003     0.0  dont even know begin br br worth typing review...\n",
              "45004     0.0  one worst movies saw 90s id often use benchmar...\n",
              "45005     0.0  baldwin really stooped low make movies script ...\n",
              "45006     0.0  liked watching mel gibson million dollar hotel...\n",
              "45007     1.0  easily best cinematic version william faulkner...\n",
              "\n",
              "[45008 rows x 2 columns]"
            ],
            "text/html": [
              "\n",
              "  <div id=\"df-b0d7a29e-7f3f-4e5e-a8be-6ea2a30004ae\">\n",
              "    <div class=\"colab-df-container\">\n",
              "      <div>\n",
              "<style scoped>\n",
              "    .dataframe tbody tr th:only-of-type {\n",
              "        vertical-align: middle;\n",
              "    }\n",
              "\n",
              "    .dataframe tbody tr th {\n",
              "        vertical-align: top;\n",
              "    }\n",
              "\n",
              "    .dataframe thead th {\n",
              "        text-align: right;\n",
              "    }\n",
              "</style>\n",
              "<table border=\"1\" class=\"dataframe\">\n",
              "  <thead>\n",
              "    <tr style=\"text-align: right;\">\n",
              "      <th></th>\n",
              "      <th>rating</th>\n",
              "      <th>review</th>\n",
              "    </tr>\n",
              "  </thead>\n",
              "  <tbody>\n",
              "    <tr>\n",
              "      <th>0</th>\n",
              "      <td>1.0</td>\n",
              "      <td>thought quiet good movie fun watch liked best ...</td>\n",
              "    </tr>\n",
              "    <tr>\n",
              "      <th>1</th>\n",
              "      <td>1.0</td>\n",
              "      <td>wagon master unique film amongst john fords wo...</td>\n",
              "    </tr>\n",
              "    <tr>\n",
              "      <th>2</th>\n",
              "      <td>1.0</td>\n",
              "      <td>film near perfect film john ford made film mag...</td>\n",
              "    </tr>\n",
              "    <tr>\n",
              "      <th>3</th>\n",
              "      <td>0.0</td>\n",
              "      <td>gave 4 stars lot interesting themes many alrea...</td>\n",
              "    </tr>\n",
              "    <tr>\n",
              "      <th>4</th>\n",
              "      <td>1.0</td>\n",
              "      <td>movie really genuine random really hard find m...</td>\n",
              "    </tr>\n",
              "    <tr>\n",
              "      <th>...</th>\n",
              "      <td>...</td>\n",
              "      <td>...</td>\n",
              "    </tr>\n",
              "    <tr>\n",
              "      <th>45003</th>\n",
              "      <td>0.0</td>\n",
              "      <td>dont even know begin br br worth typing review...</td>\n",
              "    </tr>\n",
              "    <tr>\n",
              "      <th>45004</th>\n",
              "      <td>0.0</td>\n",
              "      <td>one worst movies saw 90s id often use benchmar...</td>\n",
              "    </tr>\n",
              "    <tr>\n",
              "      <th>45005</th>\n",
              "      <td>0.0</td>\n",
              "      <td>baldwin really stooped low make movies script ...</td>\n",
              "    </tr>\n",
              "    <tr>\n",
              "      <th>45006</th>\n",
              "      <td>0.0</td>\n",
              "      <td>liked watching mel gibson million dollar hotel...</td>\n",
              "    </tr>\n",
              "    <tr>\n",
              "      <th>45007</th>\n",
              "      <td>1.0</td>\n",
              "      <td>easily best cinematic version william faulkner...</td>\n",
              "    </tr>\n",
              "  </tbody>\n",
              "</table>\n",
              "<p>45008 rows × 2 columns</p>\n",
              "</div>\n",
              "      <button class=\"colab-df-convert\" onclick=\"convertToInteractive('df-b0d7a29e-7f3f-4e5e-a8be-6ea2a30004ae')\"\n",
              "              title=\"Convert this dataframe to an interactive table.\"\n",
              "              style=\"display:none;\">\n",
              "        \n",
              "  <svg xmlns=\"http://www.w3.org/2000/svg\" height=\"24px\"viewBox=\"0 0 24 24\"\n",
              "       width=\"24px\">\n",
              "    <path d=\"M0 0h24v24H0V0z\" fill=\"none\"/>\n",
              "    <path d=\"M18.56 5.44l.94 2.06.94-2.06 2.06-.94-2.06-.94-.94-2.06-.94 2.06-2.06.94zm-11 1L8.5 8.5l.94-2.06 2.06-.94-2.06-.94L8.5 2.5l-.94 2.06-2.06.94zm10 10l.94 2.06.94-2.06 2.06-.94-2.06-.94-.94-2.06-.94 2.06-2.06.94z\"/><path d=\"M17.41 7.96l-1.37-1.37c-.4-.4-.92-.59-1.43-.59-.52 0-1.04.2-1.43.59L10.3 9.45l-7.72 7.72c-.78.78-.78 2.05 0 2.83L4 21.41c.39.39.9.59 1.41.59.51 0 1.02-.2 1.41-.59l7.78-7.78 2.81-2.81c.8-.78.8-2.07 0-2.86zM5.41 20L4 18.59l7.72-7.72 1.47 1.35L5.41 20z\"/>\n",
              "  </svg>\n",
              "      </button>\n",
              "      \n",
              "  <style>\n",
              "    .colab-df-container {\n",
              "      display:flex;\n",
              "      flex-wrap:wrap;\n",
              "      gap: 12px;\n",
              "    }\n",
              "\n",
              "    .colab-df-convert {\n",
              "      background-color: #E8F0FE;\n",
              "      border: none;\n",
              "      border-radius: 50%;\n",
              "      cursor: pointer;\n",
              "      display: none;\n",
              "      fill: #1967D2;\n",
              "      height: 32px;\n",
              "      padding: 0 0 0 0;\n",
              "      width: 32px;\n",
              "    }\n",
              "\n",
              "    .colab-df-convert:hover {\n",
              "      background-color: #E2EBFA;\n",
              "      box-shadow: 0px 1px 2px rgba(60, 64, 67, 0.3), 0px 1px 3px 1px rgba(60, 64, 67, 0.15);\n",
              "      fill: #174EA6;\n",
              "    }\n",
              "\n",
              "    [theme=dark] .colab-df-convert {\n",
              "      background-color: #3B4455;\n",
              "      fill: #D2E3FC;\n",
              "    }\n",
              "\n",
              "    [theme=dark] .colab-df-convert:hover {\n",
              "      background-color: #434B5C;\n",
              "      box-shadow: 0px 1px 3px 1px rgba(0, 0, 0, 0.15);\n",
              "      filter: drop-shadow(0px 1px 2px rgba(0, 0, 0, 0.3));\n",
              "      fill: #FFFFFF;\n",
              "    }\n",
              "  </style>\n",
              "\n",
              "      <script>\n",
              "        const buttonEl =\n",
              "          document.querySelector('#df-b0d7a29e-7f3f-4e5e-a8be-6ea2a30004ae button.colab-df-convert');\n",
              "        buttonEl.style.display =\n",
              "          google.colab.kernel.accessAllowed ? 'block' : 'none';\n",
              "\n",
              "        async function convertToInteractive(key) {\n",
              "          const element = document.querySelector('#df-b0d7a29e-7f3f-4e5e-a8be-6ea2a30004ae');\n",
              "          const dataTable =\n",
              "            await google.colab.kernel.invokeFunction('convertToInteractive',\n",
              "                                                     [key], {});\n",
              "          if (!dataTable) return;\n",
              "\n",
              "          const docLinkHtml = 'Like what you see? Visit the ' +\n",
              "            '<a target=\"_blank\" href=https://colab.research.google.com/notebooks/data_table.ipynb>data table notebook</a>'\n",
              "            + ' to learn more about interactive tables.';\n",
              "          element.innerHTML = '';\n",
              "          dataTable['output_type'] = 'display_data';\n",
              "          await google.colab.output.renderOutput(dataTable, element);\n",
              "          const docLink = document.createElement('div');\n",
              "          docLink.innerHTML = docLinkHtml;\n",
              "          element.appendChild(docLink);\n",
              "        }\n",
              "      </script>\n",
              "    </div>\n",
              "  </div>\n",
              "  "
            ]
          },
          "metadata": {},
          "execution_count": 37
        }
      ]
    },
    {
      "cell_type": "markdown",
      "source": [
        "We split the data in training and test set. \n",
        "**Note for the grader:**\n",
        "You can use the graders_data variable to store the data set you will need and then use the Preparation() function by just giving as input the variable. Then, you will only need to store the review column in the Y_train variable and the rating in the Y_test variable as implemented."
      ],
      "metadata": {
        "id": "94J9bC4lFUvC"
      }
    },
    {
      "cell_type": "code",
      "source": [
        "from sklearn.model_selection import train_test_split\n",
        "\n",
        "graders_data = None\n",
        "\n",
        "if(graders_data != None):\n",
        "  X_train = reviews\n",
        "  X_test = ratings\n",
        "  \"\"\" \n",
        "    Code needed in order to initialize Y_train and Y_test using graders_data \n",
        "    TODO: Use the Preparation function\n",
        "  \"\"\"\n",
        "  graders_data = Preparation(graders_data)\n",
        "  Y_train = graders_data['review']\n",
        "  Y_test = graders_data['rating']\n",
        "else:\n",
        "  X_train, X_test, Y_train, Y_test = train_test_split(reviews, ratings, train_size=0.8)"
      ],
      "metadata": {
        "id": "mqBFAo9y9eMd"
      },
      "execution_count": 38,
      "outputs": []
    },
    {
      "cell_type": "markdown",
      "source": [
        "We now initialize a vectorizer, fit it using the training set, initialize a model train it using the train and the test set and make a prediction using the test set"
      ],
      "metadata": {
        "id": "yEa8Q-7GGOCJ"
      }
    },
    {
      "cell_type": "code",
      "source": [
        "from sklearn.feature_extraction.text import CountVectorizer\n",
        "from sklearn.linear_model import LogisticRegression\n",
        "from sklearn.model_selection import train_test_split\n",
        "\n",
        "vector = CountVectorizer()\n",
        "vector.fit(X_train)\n",
        "\n",
        "lg = LogisticRegression(penalty='l2', dual=False, tol=0.0001, \n",
        "                             C=1, fit_intercept=True, intercept_scaling=1.0, \n",
        "                             class_weight=None, random_state=None, max_iter = 20)\n",
        "\n",
        "lg.fit(vector.transform(X_train), Y_train)  \n",
        "\n",
        "prediction = lg.predict(vector.transform(X_test))\n",
        "\n",
        "print('Accuracy of logistic regression classifier on test set: {:.2f}'.format(lg.score(vector.transform(X_test), Y_test)))"
      ],
      "metadata": {
        "colab": {
          "base_uri": "https://localhost:8080/"
        },
        "id": "sBNBlfIOIb5M",
        "outputId": "e97b918a-a97a-4a55-a115-07b359af38e4"
      },
      "execution_count": 39,
      "outputs": [
        {
          "output_type": "stream",
          "name": "stdout",
          "text": [
            "Accuracy of logistic regression classifier on test set: 0.88\n"
          ]
        }
      ]
    },
    {
      "cell_type": "markdown",
      "source": [
        "We print the metrics of our prediction (precision, recall, f1_score)"
      ],
      "metadata": {
        "id": "M6WyAH_vGjuW"
      }
    },
    {
      "cell_type": "code",
      "source": [
        "from sklearn.metrics import classification_report\n",
        "print(classification_report(Y_test, prediction))"
      ],
      "metadata": {
        "colab": {
          "base_uri": "https://localhost:8080/"
        },
        "id": "kGh7IdNHJ6K9",
        "outputId": "535a4944-311a-484d-b63a-3d26c94c02f9"
      },
      "execution_count": 40,
      "outputs": [
        {
          "output_type": "stream",
          "name": "stdout",
          "text": [
            "              precision    recall  f1-score   support\n",
            "\n",
            "         0.0       0.90      0.86      0.88      4460\n",
            "         1.0       0.87      0.90      0.89      4542\n",
            "\n",
            "    accuracy                           0.88      9002\n",
            "   macro avg       0.88      0.88      0.88      9002\n",
            "weighted avg       0.88      0.88      0.88      9002\n",
            "\n"
          ]
        }
      ]
    },
    {
      "cell_type": "markdown",
      "source": [
        "And finally we impelement a learing curve which shows that the models are not overfitting or underfitting"
      ],
      "metadata": {
        "id": "BXG2s8HUGlAW"
      }
    },
    {
      "cell_type": "code",
      "source": [
        "from mlxtend.plotting import plot_learning_curves\n",
        "from matplotlib import pyplot as plt\n",
        "\n",
        "X_plot_train, X_plot_test = reviews[:int(reviews.size*0.8)], reviews[int(reviews.size*0.8):]\n",
        "Y_plot_train, Y_plot_test = ratings[:int(reviews.size*0.8)], ratings[int(reviews.size*0.8):]\n",
        "\n",
        "plot_learning_curves(vector.transform(X_plot_train), Y_plot_train, vector.transform(X_plot_test), Y_plot_test, lg, scoring='accuracy')\n",
        "plt.show()"
      ],
      "metadata": {
        "colab": {
          "base_uri": "https://localhost:8080/",
          "height": 392
        },
        "id": "GUkZfmB7vCuf",
        "outputId": "aab3d382-e4d0-402f-a0ba-a104042e8191"
      },
      "execution_count": 41,
      "outputs": [
        {
          "output_type": "display_data",
          "data": {
            "text/plain": [
              "<Figure size 432x288 with 1 Axes>"
            ],
            "image/png": "[encoded data removed]"
          },
          "metadata": {}
        }
      ]
    },
    {
      "cell_type": "markdown",
      "source": [],
      "metadata": {
        "id": "Ri-eBoFqjiah"
      }
    }
  ]
}