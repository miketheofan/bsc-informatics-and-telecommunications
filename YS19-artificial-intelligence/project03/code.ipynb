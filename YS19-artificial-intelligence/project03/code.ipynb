{
  "nbformat": 4,
  "nbformat_minor": 0,
  "metadata": {
    "colab": {
      "provenance": []
    },
    "kernelspec": {
      "name": "python3",
      "display_name": "Python 3"
    },
    "language_info": {
      "name": "python"
    }
  },
  "cells": [
    {
      "cell_type": "code",
      "execution_count": 1,
      "metadata": {
        "colab": {
          "base_uri": "https://localhost:8080/"
        },
        "id": "_sd9ZKY7dM1v",
        "outputId": "766d75b8-dd33-4f6e-86bd-9ef246e08070"
      },
      "outputs": [
        {
          "output_type": "stream",
          "name": "stdout",
          "text": [
            "Mounted at /content/gdrive\n"
          ]
        }
      ],
      "source": [
        "from google.colab import drive\n",
        "drive.mount('/content/gdrive')"
      ]
    },
    {
      "cell_type": "code",
      "source": [
        "import warnings\n",
        "\"\"\" We use this in order for the results to be more visible \"\"\" \n",
        "warnings.filterwarnings('ignore')"
      ],
      "metadata": {
        "id": "uDW8-Z9BeB5h"
      },
      "execution_count": 2,
      "outputs": []
    },
    {
      "cell_type": "code",
      "source": [
        "import nltk\n",
        "import torch   \n",
        "import random\n",
        "import numpy as np\n",
        "import matplotlib.pyplot as plt\n",
        "import torchtext\n",
        "import pandas as pd\n",
        "import re\n",
        "from nltk import sent_tokenize\n",
        "from nltk import word_tokenize\n",
        "from nltk.stem.snowball import SnowballStemmer\n",
        "import nltk\n",
        "from nltk.stem import WordNetLemmatizer\n",
        "from sklearn.metrics import f1_score\n",
        "from sklearn.metrics import precision_score, recall_score\n",
        "from sklearn.metrics import accuracy_score\n",
        "from sklearn.metrics import classification_report\n",
        "from sklearn.metrics import roc_auc_score\n",
        "from sklearn.metrics import roc_curve, auc\n",
        "import torch.nn as nn\n",
        "\n",
        "nltk.download('wordnet')\n",
        "nltk.download('omw-1.4')\n",
        "nltk.download('punkt')"
      ],
      "metadata": {
        "colab": {
          "base_uri": "https://localhost:8080/"
        },
        "id": "hcKionsueDI7",
        "outputId": "8727f500-f771-4d74-ef43-ccdc940a2a79"
      },
      "execution_count": 3,
      "outputs": [
        {
          "output_type": "stream",
          "name": "stderr",
          "text": [
            "[nltk_data] Downloading package wordnet to /root/nltk_data...\n",
            "[nltk_data] Downloading package omw-1.4 to /root/nltk_data...\n",
            "[nltk_data] Downloading package punkt to /root/nltk_data...\n",
            "[nltk_data]   Unzipping tokenizers/punkt.zip.\n"
          ]
        },
        {
          "output_type": "execute_result",
          "data": {
            "text/plain": [
              "True"
            ]
          },
          "metadata": {},
          "execution_count": 3
        }
      ]
    },
    {
      "cell_type": "markdown",
      "source": [
        "We download the glove data set"
      ],
      "metadata": {
        "id": "3JG5Iu4WE6xg"
      }
    },
    {
      "cell_type": "code",
      "source": [
        "EMBEDDING_SIZE = 300 \n",
        "glove = torchtext.vocab.GloVe(name=\"42B\", dim=EMBEDDING_SIZE) "
      ],
      "metadata": {
        "colab": {
          "base_uri": "https://localhost:8080/"
        },
        "id": "3EOj0FTsji5P",
        "outputId": "93dd1a60-ee7e-410f-88d0-e38f994b5680"
      },
      "execution_count": 4,
      "outputs": [
        {
          "output_type": "stream",
          "name": "stderr",
          "text": [
            ".vector_cache/glove.42B.300d.zip: 1.88GB [05:52, 5.32MB/s]                            \n",
            "100%|█████████▉| 1917493/1917494 [03:30<00:00, 9104.09it/s]\n"
          ]
        }
      ]
    },
    {
      "cell_type": "markdown",
      "source": [
        "We read the moview review data set and store it"
      ],
      "metadata": {
        "id": "L49JIF4xFCa7"
      }
    },
    {
      "cell_type": "code",
      "source": [
        "df = pd.read_csv(\"/content/gdrive/MyDrive/AI2/project01/imdb-reviews.csv\",sep='\\t')"
      ],
      "metadata": {
        "id": "VUePeeCYeIKY"
      },
      "execution_count": 5,
      "outputs": []
    },
    {
      "cell_type": "markdown",
      "source": [
        "We implement the function that we use in order to prepare the data for prediction"
      ],
      "metadata": {
        "id": "gN5GXlwJFH12"
      }
    },
    {
      "cell_type": "code",
      "source": [
        "def Preparation(dataframe):\n",
        "  df = dataframe[['rating','review']]\n",
        "  # Replace all rating values with either 1 or 0\n",
        "  df = df.replace({\n",
        "    'rating' : {\n",
        "        1.0 : 0.0,\n",
        "        2.0 : 0.0,\n",
        "        3.0 : 0.0,\n",
        "        4.0 : 0.0,\n",
        "        7.0 : 1.0,\n",
        "        8.0 : 1.0,\n",
        "        9.0 : 1.0,\n",
        "        10.0 : 1.0,  \n",
        "    }\n",
        "  })\n",
        "  dummy_list = []\n",
        "\n",
        "  # clean all stopwords and symbols from reviews using the clean function that we implemented\n",
        "  text_column = df['review']\n",
        "  for value in text_column.values:\n",
        "    value = Clean(value)\n",
        "    dummy_list.append(value)\n",
        "\n",
        "  df['review'] = dummy_list\n",
        "\n",
        "  # tokenize all reviews\n",
        "  fixedReviews = Tokenization(df['review'])\n",
        "  # apply stemming on all reviews\n",
        "  fixedReviews = Stemming(fixedReviews)\n",
        "  # lemmatize all reviews\n",
        "  fixedReviews = Lemmatization(fixedReviews)\n",
        "\n",
        "  df['review'] = fixedReviews\n",
        "\n",
        "  return df"
      ],
      "metadata": {
        "id": "BOBYXuoKeLIr"
      },
      "execution_count": 6,
      "outputs": []
    },
    {
      "cell_type": "markdown",
      "source": [
        "We implement a function that cleans up a review from all the stopwords and any symbol"
      ],
      "metadata": {
        "id": "q8jDfir9FKOn"
      }
    },
    {
      "cell_type": "code",
      "source": [
        "stopwords = [\"i\", \"me\", \"my\", \"myself\", \"we\", \"our\", \"ours\", \"ourselves\", \"you\", \"your\", \"yours\", \"yourself\", \"yourselves\", \"he\", \"him\", \"his\", \"himself\", \"she\", \"her\", \"hers\", \"herself\", \"it\", \"its\", \"itself\", \"they\", \"them\", \"their\", \"theirs\", \"themselves\", \"what\", \"which\", \"who\", \"whom\", \"this\", \"that\", \"these\", \"those\", \"am\", \"is\", \"are\", \"was\", \"were\", \"be\", \"been\", \"being\", \"have\", \"has\", \"had\", \"having\", \"do\", \"does\", \"did\", \"doing\", \"a\", \"an\", \"the\", \"and\", \"but\", \"if\", \"or\", \"because\", \"as\", \"until\", \"while\", \"of\", \"at\", \"by\", \"for\", \"with\", \"about\", \"against\", \"between\", \"into\", \"through\", \"during\", \"before\", \"after\", \"above\", \"below\", \"to\", \"from\", \"up\", \"down\", \"in\", \"out\", \"on\", \"off\", \"over\", \"under\", \"again\", \"further\", \"then\", \"once\", \"here\", \"there\", \"when\", \"where\", \"why\", \"how\", \"all\", \"any\", \"both\", \"each\", \"few\", \"more\", \"most\", \"other\", \"some\", \"such\", \"no\", \"nor\", \"not\", \"only\", \"own\", \"same\", \"so\", \"than\", \"too\", \"very\", \"s\", \"t\", \"can\", \"will\", \"just\", \"don\", \"should\", \"now\"]\n",
        "emoji_pattern = re.compile(\"[\"\n",
        "        u\"\\U0001F600-\\U0001F64F\"  # emoticons\n",
        "        u\"\\U0001F300-\\U0001F5FF\"  # symbols & pictographs\n",
        "        u\"\\U0001F680-\\U0001F6FF\"  # transport & map symbols\n",
        "        u\"\\U0001F1E0-\\U0001F1FF\"  # flags\n",
        "                           \"]+\", flags=re.UNICODE)\n",
        "\n",
        "def Clean(review):\n",
        "    if type(review) == np.float:\n",
        "        return \"\"\n",
        "    temp = review.lower()\n",
        "    temp = re.sub(\"'\", \"\", temp) # to avoid removing contractions in english\n",
        "    temp = re.sub(\"@[A-Za-z0-9_]+\",\"\", temp) # remove mentions\n",
        "    temp = re.sub(\"#[A-Za-z0-9_]+\",\"\", temp) # remove hashtags\n",
        "    temp = re.sub(r'http\\S+', '', temp) # remove links\n",
        "    temp = re.sub(r\"www.\\S+\", \"\", temp) # remove links\n",
        "    temp = re.sub('[()!?]', ' ', temp) # remove punctuations \n",
        "    temp = re.sub('\\[.*?\\]',' ', temp) # remove punctuations \n",
        "    temp = re.sub(\"[^a-z0-9]\",\" \", temp) # remove non-alphanumeric characters\n",
        "    temp = temp.split() # split text\n",
        "    temp = [w for w in temp if not w in stopwords] # remove stopwords\n",
        "    temp = \" \".join(word for word in temp) # re-create text\n",
        "    emoji_pattern.sub(r'', temp) # remove emojis and emoticons\n",
        "    return temp"
      ],
      "metadata": {
        "id": "R0wvPm1QeLzw"
      },
      "execution_count": 7,
      "outputs": []
    },
    {
      "cell_type": "markdown",
      "source": [
        "The following is a function that implements the process of Tokenization"
      ],
      "metadata": {
        "id": "A9ohqDBIFNv7"
      }
    },
    {
      "cell_type": "code",
      "source": [
        "def Tokenization(data):\n",
        "  tokenizedReviews = []\n",
        "  for value in data:\n",
        "    value = nltk.sent_tokenize(value)\n",
        "    tokenizedReviews.append(value)\n",
        "\n",
        "  return tokenizedReviews"
      ],
      "metadata": {
        "id": "RtxDuCEneOG2"
      },
      "execution_count": 8,
      "outputs": []
    },
    {
      "cell_type": "markdown",
      "source": [
        "The following is a function that implements the process of Stemming"
      ],
      "metadata": {
        "id": "lpiOi-0VFOfy"
      }
    },
    {
      "cell_type": "code",
      "source": [
        "def Stemming(data):\n",
        "  stemmer = SnowballStemmer(language = \"english\")\n",
        "\n",
        "  stemmedReviews = []\n",
        "  for value in data:\n",
        "    dummyList = []\n",
        "    for word in value:\n",
        "      word = stemmer.stem(word)\n",
        "      dummyList.append(word)\n",
        "    stemmedReviews.append(dummyList)\n",
        "\n",
        "  return stemmedReviews"
      ],
      "metadata": {
        "id": "jjToYSUxeONq"
      },
      "execution_count": 9,
      "outputs": []
    },
    {
      "cell_type": "markdown",
      "source": [
        "The following is a function that implements the process of Lemmatization"
      ],
      "metadata": {
        "id": "ve4CFGh8FRP1"
      }
    },
    {
      "cell_type": "code",
      "source": [
        "def Lemmatization(data):\n",
        "  lemmatizer = WordNetLemmatizer()\n",
        "\n",
        "  lemmatizedReviews = []\n",
        "\n",
        "  for value in data:\n",
        "    value = ' '.join([lemmatizer.lemmatize(w) for w in value])\n",
        "    lemmatizedReviews.append(value)\n",
        "\n",
        "  return lemmatizedReviews"
      ],
      "metadata": {
        "id": "CSZYx_LseQtD"
      },
      "execution_count": 10,
      "outputs": []
    },
    {
      "cell_type": "markdown",
      "source": [
        "We use the preparation function that we implemented in order to get the data ready for the process"
      ],
      "metadata": {
        "id": "WGT7nyspFTGh"
      }
    },
    {
      "cell_type": "code",
      "source": [
        "fixedDf = Preparation(df)\n",
        "\n",
        "reviews = fixedDf['review'] #Keep everything but rating\n",
        "ratings = fixedDf['rating'] #Only keep rating"
      ],
      "metadata": {
        "id": "SQhwuC29eTpt"
      },
      "execution_count": 11,
      "outputs": []
    },
    {
      "cell_type": "code",
      "source": [
        "fixedDf"
      ],
      "metadata": {
        "id": "vBNfVl9IeUmk",
        "colab": {
          "base_uri": "https://localhost:8080/",
          "height": 424
        },
        "outputId": "cacb7812-5b3c-4fdb-a9d6-d52c933ca17b"
      },
      "execution_count": 12,
      "outputs": [
        {
          "output_type": "execute_result",
          "data": {
            "text/plain": [
              "       rating                                             review\n",
              "0         1.0  thought quiet good movie fun watch liked best ...\n",
              "1         1.0  wagon master unique film amongst john fords wo...\n",
              "2         1.0  film near perfect film john ford made film mag...\n",
              "3         0.0  gave 4 stars lot interesting themes many alrea...\n",
              "4         1.0  movie really genuine random really hard find m...\n",
              "...       ...                                                ...\n",
              "45003     0.0  dont even know begin br br worth typing review...\n",
              "45004     0.0  one worst movies saw 90s id often use benchmar...\n",
              "45005     0.0  baldwin really stooped low make movies script ...\n",
              "45006     0.0  liked watching mel gibson million dollar hotel...\n",
              "45007     1.0  easily best cinematic version william faulkner...\n",
              "\n",
              "[45008 rows x 2 columns]"
            ],
            "text/html": [
              "\n",
              "  <div id=\"df-ee876507-68dc-4ed8-9960-ac6d64af2f6e\">\n",
              "    <div class=\"colab-df-container\">\n",
              "      <div>\n",
              "<style scoped>\n",
              "    .dataframe tbody tr th:only-of-type {\n",
              "        vertical-align: middle;\n",
              "    }\n",
              "\n",
              "    .dataframe tbody tr th {\n",
              "        vertical-align: top;\n",
              "    }\n",
              "\n",
              "    .dataframe thead th {\n",
              "        text-align: right;\n",
              "    }\n",
              "</style>\n",
              "<table border=\"1\" class=\"dataframe\">\n",
              "  <thead>\n",
              "    <tr style=\"text-align: right;\">\n",
              "      <th></th>\n",
              "      <th>rating</th>\n",
              "      <th>review</th>\n",
              "    </tr>\n",
              "  </thead>\n",
              "  <tbody>\n",
              "    <tr>\n",
              "      <th>0</th>\n",
              "      <td>1.0</td>\n",
              "      <td>thought quiet good movie fun watch liked best ...</td>\n",
              "    </tr>\n",
              "    <tr>\n",
              "      <th>1</th>\n",
              "      <td>1.0</td>\n",
              "      <td>wagon master unique film amongst john fords wo...</td>\n",
              "    </tr>\n",
              "    <tr>\n",
              "      <th>2</th>\n",
              "      <td>1.0</td>\n",
              "      <td>film near perfect film john ford made film mag...</td>\n",
              "    </tr>\n",
              "    <tr>\n",
              "      <th>3</th>\n",
              "      <td>0.0</td>\n",
              "      <td>gave 4 stars lot interesting themes many alrea...</td>\n",
              "    </tr>\n",
              "    <tr>\n",
              "      <th>4</th>\n",
              "      <td>1.0</td>\n",
              "      <td>movie really genuine random really hard find m...</td>\n",
              "    </tr>\n",
              "    <tr>\n",
              "      <th>...</th>\n",
              "      <td>...</td>\n",
              "      <td>...</td>\n",
              "    </tr>\n",
              "    <tr>\n",
              "      <th>45003</th>\n",
              "      <td>0.0</td>\n",
              "      <td>dont even know begin br br worth typing review...</td>\n",
              "    </tr>\n",
              "    <tr>\n",
              "      <th>45004</th>\n",
              "      <td>0.0</td>\n",
              "      <td>one worst movies saw 90s id often use benchmar...</td>\n",
              "    </tr>\n",
              "    <tr>\n",
              "      <th>45005</th>\n",
              "      <td>0.0</td>\n",
              "      <td>baldwin really stooped low make movies script ...</td>\n",
              "    </tr>\n",
              "    <tr>\n",
              "      <th>45006</th>\n",
              "      <td>0.0</td>\n",
              "      <td>liked watching mel gibson million dollar hotel...</td>\n",
              "    </tr>\n",
              "    <tr>\n",
              "      <th>45007</th>\n",
              "      <td>1.0</td>\n",
              "      <td>easily best cinematic version william faulkner...</td>\n",
              "    </tr>\n",
              "  </tbody>\n",
              "</table>\n",
              "<p>45008 rows × 2 columns</p>\n",
              "</div>\n",
              "      <button class=\"colab-df-convert\" onclick=\"convertToInteractive('df-ee876507-68dc-4ed8-9960-ac6d64af2f6e')\"\n",
              "              title=\"Convert this dataframe to an interactive table.\"\n",
              "              style=\"display:none;\">\n",
              "        \n",
              "  <svg xmlns=\"http://www.w3.org/2000/svg\" height=\"24px\"viewBox=\"0 0 24 24\"\n",
              "       width=\"24px\">\n",
              "    <path d=\"M0 0h24v24H0V0z\" fill=\"none\"/>\n",
              "    <path d=\"M18.56 5.44l.94 2.06.94-2.06 2.06-.94-2.06-.94-.94-2.06-.94 2.06-2.06.94zm-11 1L8.5 8.5l.94-2.06 2.06-.94-2.06-.94L8.5 2.5l-.94 2.06-2.06.94zm10 10l.94 2.06.94-2.06 2.06-.94-2.06-.94-.94-2.06-.94 2.06-2.06.94z\"/><path d=\"M17.41 7.96l-1.37-1.37c-.4-.4-.92-.59-1.43-.59-.52 0-1.04.2-1.43.59L10.3 9.45l-7.72 7.72c-.78.78-.78 2.05 0 2.83L4 21.41c.39.39.9.59 1.41.59.51 0 1.02-.2 1.41-.59l7.78-7.78 2.81-2.81c.8-.78.8-2.07 0-2.86zM5.41 20L4 18.59l7.72-7.72 1.47 1.35L5.41 20z\"/>\n",
              "  </svg>\n",
              "      </button>\n",
              "      \n",
              "  <style>\n",
              "    .colab-df-container {\n",
              "      display:flex;\n",
              "      flex-wrap:wrap;\n",
              "      gap: 12px;\n",
              "    }\n",
              "\n",
              "    .colab-df-convert {\n",
              "      background-color: #E8F0FE;\n",
              "      border: none;\n",
              "      border-radius: 50%;\n",
              "      cursor: pointer;\n",
              "      display: none;\n",
              "      fill: #1967D2;\n",
              "      height: 32px;\n",
              "      padding: 0 0 0 0;\n",
              "      width: 32px;\n",
              "    }\n",
              "\n",
              "    .colab-df-convert:hover {\n",
              "      background-color: #E2EBFA;\n",
              "      box-shadow: 0px 1px 2px rgba(60, 64, 67, 0.3), 0px 1px 3px 1px rgba(60, 64, 67, 0.15);\n",
              "      fill: #174EA6;\n",
              "    }\n",
              "\n",
              "    [theme=dark] .colab-df-convert {\n",
              "      background-color: #3B4455;\n",
              "      fill: #D2E3FC;\n",
              "    }\n",
              "\n",
              "    [theme=dark] .colab-df-convert:hover {\n",
              "      background-color: #434B5C;\n",
              "      box-shadow: 0px 1px 3px 1px rgba(0, 0, 0, 0.15);\n",
              "      filter: drop-shadow(0px 1px 2px rgba(0, 0, 0, 0.3));\n",
              "      fill: #FFFFFF;\n",
              "    }\n",
              "  </style>\n",
              "\n",
              "      <script>\n",
              "        const buttonEl =\n",
              "          document.querySelector('#df-ee876507-68dc-4ed8-9960-ac6d64af2f6e button.colab-df-convert');\n",
              "        buttonEl.style.display =\n",
              "          google.colab.kernel.accessAllowed ? 'block' : 'none';\n",
              "\n",
              "        async function convertToInteractive(key) {\n",
              "          const element = document.querySelector('#df-ee876507-68dc-4ed8-9960-ac6d64af2f6e');\n",
              "          const dataTable =\n",
              "            await google.colab.kernel.invokeFunction('convertToInteractive',\n",
              "                                                     [key], {});\n",
              "          if (!dataTable) return;\n",
              "\n",
              "          const docLinkHtml = 'Like what you see? Visit the ' +\n",
              "            '<a target=\"_blank\" href=https://colab.research.google.com/notebooks/data_table.ipynb>data table notebook</a>'\n",
              "            + ' to learn more about interactive tables.';\n",
              "          element.innerHTML = '';\n",
              "          dataTable['output_type'] = 'display_data';\n",
              "          await google.colab.output.renderOutput(dataTable, element);\n",
              "          const docLink = document.createElement('div');\n",
              "          docLink.innerHTML = docLinkHtml;\n",
              "          element.appendChild(docLink);\n",
              "        }\n",
              "      </script>\n",
              "    </div>\n",
              "  </div>\n",
              "  "
            ]
          },
          "metadata": {},
          "execution_count": 12
        }
      ]
    },
    {
      "cell_type": "markdown",
      "source": [
        "We split the data in training and test set. Note for the grader: You can use the graders_data variable to store the data set you will need and then use the Preparation() function by just giving as input the variable. Then, you will only need to store the review column in the Y_train variable and the rating in the Y_test variable as implemented."
      ],
      "metadata": {
        "id": "jFWWvNugFVnf"
      }
    },
    {
      "cell_type": "code",
      "source": [
        "from sklearn.model_selection import train_test_split\n",
        "\n",
        "graders_data = None\n",
        "\n",
        "if(graders_data is not None):\n",
        "  X_train = list(reviews)\n",
        "  X_test = list(ratings)\n",
        "  \"\"\" \n",
        "    Code needed in order to initialize Y_train and Y_test using graders_data \n",
        "    TODO: Use the Preparation function\n",
        "  \"\"\"\n",
        "  graders_data = Preparation(graders_data)\n",
        "  Y_train = list(graders_data['review'])\n",
        "  Y_test = list(graders_data['rating'])\n",
        "else:\n",
        "  X_train, X_test, Y_train, Y_test = train_test_split(list(reviews), list(ratings), train_size=0.8)"
      ],
      "metadata": {
        "id": "B1ZFHBPoeWC5"
      },
      "execution_count": 13,
      "outputs": []
    },
    {
      "cell_type": "markdown",
      "source": [
        "We create our generator"
      ],
      "metadata": {
        "id": "ohQRaIVZKIM3"
      }
    },
    {
      "cell_type": "code",
      "source": [
        "g = torch.Generator()"
      ],
      "metadata": {
        "id": "vhrUcKs3r3FS"
      },
      "execution_count": 14,
      "outputs": []
    },
    {
      "cell_type": "markdown",
      "source": [
        "The following function returns an array of the words inside the data, in order for us to use it in our implementation."
      ],
      "metadata": {
        "id": "jd47seu2KUQR"
      }
    },
    {
      "cell_type": "code",
      "source": [
        "def getWords(data,labels,glove_vector):\n",
        "    new_data = []\n",
        "    for i, tweet in enumerate(data):\n",
        "        idxs = [glove_vector.stoi[w] # We lookup for the index of every word\n",
        "                for w in tweet.lower().split() # We split the review in tokens\n",
        "                if w in glove_vector.stoi] # We keep the words that have an embedding\n",
        "        if not idxs: # We ignore the tweets without any word with an embedding\n",
        "            continue\n",
        "        # We convert the list into tensor\n",
        "        idxs = torch.tensor(idxs)\n",
        "        label = torch.tensor(int(labels[i])).long()\n",
        "        new_data.append((idxs, label))\n",
        "    return new_data"
      ],
      "metadata": {
        "id": "BDaBG1y7rx-O"
      },
      "execution_count": 15,
      "outputs": []
    },
    {
      "cell_type": "markdown",
      "source": [
        "The following class is our implementation for the batcher that we will use for our reviews. We use the tweets_by_length attribute as it can be used for our type of data as well, since we also have to work with word sentences."
      ],
      "metadata": {
        "id": "h45fZ7g2Ls8P"
      }
    },
    {
      "cell_type": "code",
      "source": [
        "class Batcher:\n",
        "    def __init__(self, tweets, batch_size=32):\n",
        "        self.tweets_by_length = {}\n",
        "        for words, label in tweets:\n",
        "            # We compute the length of the tweet\n",
        "            wlen = words.shape[0]\n",
        "            # We put the review in the correct key inside self.tweet_by_length depending on the length\n",
        "            if wlen not in self.tweets_by_length:\n",
        "                self.tweets_by_length[wlen] = []\n",
        "            self.tweets_by_length[wlen].append((words, label),)\n",
        "         \n",
        "        #  We create a DataLoader for each set of reviews of the same length\n",
        "        self.loaders = {wlen : torch.utils.data.DataLoader(\n",
        "                                    tweets,\n",
        "                                    batch_size=batch_size,\n",
        "                                    shuffle=True,\n",
        "                                    worker_init_fn=seedWorker,\n",
        "                                    generator=g,\n",
        "                                    )\n",
        "            for wlen, tweets in self.tweets_by_length.items()}\n",
        "        \n",
        "    def __iter__(self): \n",
        "        # We make an iterator for every review length\n",
        "        iters = [iter(loader) for loader in self.loaders.values()]\n",
        "        while iters:\n",
        "            # We pick an iterator\n",
        "            im = random.choice(iters)\n",
        "            try:\n",
        "                yield next(im)\n",
        "            except StopIteration:\n",
        "                iters.remove(im)"
      ],
      "metadata": {
        "id": "ISz4KTYUrvSo"
      },
      "execution_count": 16,
      "outputs": []
    },
    {
      "cell_type": "markdown",
      "source": [
        "The following function is used in order to create the batchers needed, for the train and testing set given as parameters."
      ],
      "metadata": {
        "id": "a6czYXHKNShl"
      }
    },
    {
      "cell_type": "code",
      "source": [
        "def createDataLoaders(trainSet,validSet,batch_size):\n",
        "  return Batcher(trainSet, batch_size=batch_size), Batcher(validSet, batch_size=batch_size)"
      ],
      "metadata": {
        "id": "0CaMuLjwrtOH"
      },
      "execution_count": 17,
      "outputs": []
    },
    {
      "cell_type": "markdown",
      "source": [
        "The following function is used in order to plot loss curves"
      ],
      "metadata": {
        "id": "cr220MgjNbMe"
      }
    },
    {
      "cell_type": "code",
      "source": [
        "def plotLossCurves(t_loss,v_loss,epochs = 100):\n",
        "  x = list(range(1,epochs+1))\n",
        "  plt.plot(x, t_loss, 'r',label='Train Loss')\n",
        "  plt.plot(x, v_loss, 'g',label='Validation Loss')\n",
        "  plt.legend(loc='best')\n",
        "  plt.xlabel('Epochs')\n",
        "  plt.ylabel('Loss')\n",
        "  plt.title('Loss vs Epoch curves')\n",
        "  plt.show()"
      ],
      "metadata": {
        "id": "wz7A96DJrrSk"
      },
      "execution_count": 18,
      "outputs": []
    },
    {
      "cell_type": "markdown",
      "source": [
        "The following function initializes seeds for the workers of data loader"
      ],
      "metadata": {
        "id": "j_fgdkpeNryR"
      }
    },
    {
      "cell_type": "code",
      "source": [
        "def seedWorker(worker_id):\n",
        "  worker_seed = torch.initial_seed() % 2**32\n",
        "  numpy.random.seed(worker_seed)\n",
        "  random.seed(worker_seed)"
      ],
      "metadata": {
        "id": "fTUHq2_Krobw"
      },
      "execution_count": 19,
      "outputs": []
    },
    {
      "cell_type": "markdown",
      "source": [
        "The following function resets all random seeds"
      ],
      "metadata": {
        "id": "6e7dLpSaNx--"
      }
    },
    {
      "cell_type": "code",
      "source": [
        "def resetSeeds():\n",
        "  torch.manual_seed(0)\n",
        "  np.random.seed(0)\n",
        "  g.manual_seed(0)\n",
        "  random.seed(0)"
      ],
      "metadata": {
        "id": "WtdeyjEurlGd"
      },
      "execution_count": 20,
      "outputs": []
    },
    {
      "cell_type": "markdown",
      "source": [
        "The following function is used in order to plot ROC curves"
      ],
      "metadata": {
        "id": "fvkuTemTN4I5"
      }
    },
    {
      "cell_type": "code",
      "source": [
        "def plotRocCurves(model,test_loader):\n",
        "  \n",
        "  with torch.no_grad():\n",
        "    # We set the model to evaluation mode\n",
        "    model.eval()   \n",
        "    y_total_test = []   \n",
        "    y_total_predict_test = []      \n",
        "    y_output = []\n",
        "    # For every batch in the test loader\n",
        "    for x_batch, y_batch in test_loader:\n",
        "      x_batch = x_batch.to(device) \n",
        "      y_batch = y_batch.to(device)\n",
        "      z = model(x_batch)\n",
        "      # We get the label prediction based on the maximum posibility\n",
        "      _, label = torch.max(z,1)    \n",
        "      y_output = y_output + list(z.cpu().detach().numpy())\n",
        "      # We store the predictions of the current batch\n",
        "      y_total_predict_test = y_total_predict_test+ list(label.cpu()) \n",
        "      # We store the labels of the current batch\n",
        "      y_total_test= y_total_test + list(y_batch.cpu().detach().numpy()) \n",
        "\n",
        "\n",
        "  fpr = {}\n",
        "  tpr = {}\n",
        "  thresh ={}\n",
        "\n",
        "  y_output = np.array(y_output)\n",
        "  noClasses = 3  \n",
        "\n",
        "  # For every class\n",
        "  for i in range(noClasses):    \n",
        "      fpr[i], tpr[i], thresh[i] = roc_curve(y_total_test, y_output[:,i], pos_label=i)\n",
        "      \n",
        "  # We plot the ROC curves\n",
        "  plt.plot(fpr[0], tpr[0], linestyle='--',color='orange', label='Class 0 vs Rest')\n",
        "  plt.plot(fpr[1], tpr[1], linestyle='--',color='green', label='Class 1 vs Rest')\n",
        "  plt.plot(fpr[2], tpr[2], linestyle='--',color='blue', label='Class 2 vs Rest')\n",
        "  plt.title('Multiclass ROC curve')\n",
        "  plt.xlabel('False Positive Rate')\n",
        "  plt.ylabel('True Positive rate')\n",
        "  plt.legend(loc='best')\n",
        "  plt.savefig('Multiclass ROC',dpi=300);  \n",
        "\n",
        "\n",
        "  # We print the metrics results\n",
        "  y_pred_tags = y_total_predict_test\n",
        "  accuracy_countVec = accuracy_score(y_total_test,y_pred_tags)\n",
        "  f1_score_countVec = f1_score(y_total_test,y_pred_tags,average='weighted')\n",
        "  print(\" Accuracy: %.2f%%\" %(accuracy_countVec*100))\n",
        "  print(\" f1 score: %.2f%%\" %(f1_score_countVec*100))\n",
        "  print(' Precision: %.2f%%' % (precision_score(y_total_test, y_pred_tags,average='weighted')*100))\n",
        "  print(' Recall: %.2f%%' % (recall_score(y_total_test, y_pred_tags,average='weighted')*100))\n",
        "  print(classification_report(y_total_test, y_pred_tags))"
      ],
      "metadata": {
        "id": "TyFrTeyttE1h"
      },
      "execution_count": 21,
      "outputs": []
    },
    {
      "cell_type": "markdown",
      "source": [
        "The following function is used in order to plot the curves for the validation of our model as well as our metrics results.\n",
        "In case the train parameter is given as True, we need to train the model and then do the validation, otherwise it means that we have an already trained model so we only need to plot the ROC curves and print the metrics results."
      ],
      "metadata": {
        "id": "7HWBu7IuWvhR"
      }
    },
    {
      "cell_type": "code",
      "source": [
        "def Validation(model,device,num_epochs,train_loader,test_loader,train):\n",
        "  # If we also need to train the model\n",
        "  if(train is True):\n",
        "    train_loss = []\n",
        "    # For every epoch\n",
        "    test_loss = []  \n",
        "    for epoch in range(num_epochs):\n",
        "      train_batch_losses = []\n",
        "      test_batch_losses = [] \n",
        "      # We set the model to training mode\n",
        "      model.train() \n",
        "      y_total_predict_train = []   \n",
        "      y_total_train = []    \n",
        "      train_loader_size = 0\n",
        "      # For every batch in the train loader\n",
        "      for x_batch, y_batch in train_loader:\n",
        "        x_batch = x_batch.to(device) \n",
        "        y_batch = y_batch.to(device)\n",
        "        # We delete any previously stored gradients\n",
        "        optimizer.zero_grad()\n",
        "        z = model(x_batch)\n",
        "        # We compute the train loss\n",
        "        loss = criterion(z, y_batch)  \n",
        "        # We include the train loss of the current batch\n",
        "        train_batch_losses.append(loss.data.item())\n",
        "        # We perform backpropagation starting from the loss calculated in this epoch\n",
        "        loss.backward()\n",
        "        # We update the model's weights based on the gradients calculated during the process of backpropagation\n",
        "        if gradient_clipping:\n",
        "          for param in model.parameters():\n",
        "            if param.grad is None:\n",
        "                continue\n",
        "            grad_val = torch.clamp(param.grad, -5, 5)\n",
        "        optimizer.step()\n",
        "        # We get the prediction based on the maximum posibility\n",
        "        _, y_pred_tags = torch.max(z, dim = 1)  \n",
        "        # We store the predictions of the current batch\n",
        "        y_total_predict_train = y_total_predict_train+ list(y_pred_tags.cpu()) \n",
        "        # We store the labels of the current batch\n",
        "        y_total_train = y_total_train + (list(y_batch.cpu().detach().numpy())) \n",
        "        train_loader_size += 1\n",
        "      with torch.no_grad():\n",
        "        correct = 0\n",
        "        count = 0\n",
        "        test_loader_count = 0\n",
        "        # We set the model to evaluation mode\n",
        "        model.eval()   \n",
        "        y_total_test = []   \n",
        "        y_total_predict_test = []     \n",
        "        for x_batch, y_batch in test_loader:\n",
        "          y_batch = y_batch.to(device) \n",
        "          x_batch = x_batch.to(device) \n",
        "          z = model(x_batch)\n",
        "          # We compute the validation loss\n",
        "          loss = criterion(z, y_batch)   \n",
        "          # We update the validation loss of the current batch\n",
        "          test_batch_losses.append(loss.data.item())\n",
        "          # We get the label prediction based on the maximum posibility   \n",
        "          _, label = torch.max(z,1)    \n",
        "          # We compute how many corect preditions were made\n",
        "          correct += (label==y_batch).sum().item()    \n",
        "          count += len(y_batch)\n",
        "          # We store the predictions of the current batch\n",
        "          y_total_predict_test = y_total_predict_test+ list(label.cpu()) \n",
        "          # We store the labels of the current batch\n",
        "          y_total_test= y_total_test + list(y_batch.cpu().detach().numpy()) \n",
        "          test_loader_count += 1\n",
        "      # We compute the validation accuracy based on the correct predictions\n",
        "      accuracy = 100*(correct/(count))  \n",
        "      # We compute the train loss of this epoch\n",
        "      current_train_loss = sum(train_batch_losses)/train_loader_size  \n",
        "      # We store the train loss in order to plot loss curves\n",
        "      train_loss.append(current_train_loss)   \n",
        "      # We compute the validation loss of this epoch\n",
        "      current_test_loss = sum(test_batch_losses)/test_loader_count   \n",
        "      # We store the validation loss in order to plot loss curves\n",
        "      test_loss.append(current_test_loss)   \n",
        "      # We compute the train f1-score\n",
        "      f1_score_train = f1_score(y_total_train,y_total_predict_train,average='weighted')\n",
        "      # We compute the validation f1-score\n",
        "      f1_score_test = f1_score(y_total_test,y_total_predict_test,average='weighted') \n",
        "      print(f\"Epoch {epoch:3}: Train Loss = {current_train_loss:.5f} | Validation Loss = {current_test_loss:.5f} | Accuracy = {accuracy:.4f} | Train-f1 = {f1_score_train:.4f} | Valid-F1 = {f1_score_test:.4f}\")\n",
        "\n",
        "    # We plot the loss vs epochs curves\n",
        "    plotLossCurves(train_loss,test_loss,num_epochs) \n",
        "\n",
        "  # We plot the ROC curves as well as the metrics results.\n",
        "  plotRocCurves(model,test_loader)"
      ],
      "metadata": {
        "id": "KQ8BAeMko1jb"
      },
      "execution_count": 22,
      "outputs": []
    },
    {
      "cell_type": "markdown",
      "source": [
        "The following class is my implementation for the best LSTM model which includes:\n",
        "\n",
        "*   Two stacked LSTM bidirectional layers with hidden size = 8\n",
        "*   Dropout between the layers\n",
        "*   Gradient clipping\n",
        "\n",
        "\n",
        "\n"
      ],
      "metadata": {
        "id": "V91jyhR5Yaav"
      }
    },
    {
      "cell_type": "code",
      "source": [
        "class RNN(nn.Module):\n",
        "    def __init__(self, input_size, hidden_size, num_layers, num_classes, dropout_between_layers, final_dropout,bidirectional):\n",
        "        super(RNN, self).__init__()\n",
        "        self.num_layers = num_layers \n",
        "        self.hidden_size = hidden_size \n",
        "        self.emb = nn.Embedding.from_pretrained(glove.vectors) \n",
        "        # In case we only have one layer, the dropout between stacked layers is not defined\n",
        "        if(num_layers==1):\n",
        "          dropout_between_layers = 0\n",
        "        if model_type=='LSTM': \n",
        "          # We define the stacked bidirectional LSTM layers\n",
        "          self.lstm = nn.LSTM(input_size, hidden_size, num_layers, batch_first=True, dropout=dropout_between_layers,bidirectional=bidirectional)\n",
        "        elif model_type=='GRU': \n",
        "          self.gru = nn.GRU(input_size, hidden_size, num_layers, batch_first=True, dropout=dropout_between_layers,bidirectional=bidirectional)\n",
        "        # Otherwise we define a classic RNN cell\n",
        "        else: \n",
        "          self.rnn = nn.RNN(input_size, hidden_size, num_layers, batch_first=True, dropout=dropout_between_layers,bidirectional=bidirectional)\n",
        "\n",
        "        self.dropout = nn.Dropout(final_dropout) \n",
        "        self.fc = nn.Linear(hidden_size*2, num_classes) \n",
        "        \n",
        "        # We initialize all the weights\n",
        "        self._init_weights() \n",
        "        \n",
        "    def forward(self, x):\n",
        "        # We create the embeddings of the reviews\n",
        "        x = self.emb(x) \n",
        "        # We set the initial hidden states\n",
        "        h0 = torch.zeros(self.num_layers*2, x.size(0), self.hidden_size).to(device) \n",
        "        if model_type=='LSTM':\n",
        "          # Set initial cell states for LSTM\n",
        "          c0 = torch.zeros(self.num_layers*2, x.size(0), self.hidden_size).to(device)\n",
        "          # We set the lstm stacked bidirectional layers\n",
        "          out, _ = self.lstm(x, (h0,c0))  \n",
        "        elif model_type=='GRU':\n",
        "          # We set the gru stacked bidirectional layers\n",
        "          out, _ = self.gru(x, h0)  \n",
        "        else:\n",
        "          out, _ = self.rnn(x, h0) \n",
        "        \n",
        "        # We set the dropout after the last LSTM/GRU layer\n",
        "        out = self.dropout(out)\n",
        "        # We reshape the output \n",
        "        out = out[:, -1, :] \n",
        "         \n",
        "        # We set linear output layer, in order to create output of size 3 (number of classes).\n",
        "        out = self.fc(out) \n",
        "        return out\n",
        "    \n",
        "    # The following is a function that initializes all the model weights\n",
        "    def _init_weights(self):\n",
        "        if model_type=='LSTM':\n",
        "          params = self.lstm.parameters()\n",
        "        elif model_type=='GRU':\n",
        "          params = self.gru.parameters()\n",
        "        else:\n",
        "          params = self.rnn.parameters()\n",
        "        for param in params:\n",
        "            # We keep track of gradient for backprop\n",
        "            param.requires_grad_(True)\n",
        "            # If we have to deal with weights, then we use xavier initialization\n",
        "            if param.data.ndimension() >= 2:\n",
        "                nn.init.xavier_uniform_(param.data) #keep variance stability\n",
        "            # Otherwise it is a bias term, so we set to zeros\n",
        "            else: \n",
        "                nn.init.zeros_(param.data)"
      ],
      "metadata": {
        "id": "btHafARQMTUK"
      },
      "execution_count": 23,
      "outputs": []
    },
    {
      "cell_type": "markdown",
      "source": [
        "We initialize our model with the following hyperparameters:\n",
        "\n",
        "\n",
        "*   Number of classes 3\n",
        "*   Number of epochs 30\n",
        "*   Batch size 16\n",
        "*   Learning rate 0.000125\n",
        "\n"
      ],
      "metadata": {
        "id": "tq4CJzgkfIk4"
      }
    },
    {
      "cell_type": "code",
      "source": [
        "# We configure the device\n",
        "device = torch.device('cuda' if torch.cuda.is_available() else 'cpu')\n",
        "torch.manual_seed(0)\n",
        "np.random.seed(0)\n",
        "g.manual_seed(0)\n",
        "# We reset all seeds\n",
        "random.seed(0) \n",
        "num_classes = 3\n",
        "num_epochs = 30\n",
        "batch_size = 16\n",
        "learning_rate = 0.000125\n",
        "\n",
        "input_size = EMBEDDING_SIZE\n",
        "hidden_size = 8\n",
        "num_layers = 2\n",
        "dropout_between_layers = 0.6\n",
        "final_dropout = 0.5\n",
        "gradient_clipping = True\n",
        "bidirectional = True\n",
        "\n",
        "# We tokenize the train set and convert the words to the corresponding embedding index\n",
        "train_set_transformed = getWords(X_train,Y_train,glove) \n",
        "# We tokenize the validation set and convert the words to the corresponding embedding index\n",
        "test_set_transformed = getWords(X_test,Y_test,glove) \n",
        "\n",
        "# We set the model type to LSTM\n",
        "model_type = 'LSTM'\n",
        "# We create the batchers and DataLoaders for the train and the validation set\n",
        "train_loader, test_loader = createDataLoaders(train_set_transformed, test_set_transformed,batch_size)\n",
        "# We initialize the model\n",
        "model_lstm = RNN(input_size, hidden_size, num_layers, num_classes,dropout_between_layers,final_dropout,bidirectional).to(device)\n",
        "print(model_lstm)\n",
        "# We initialize the loss function and the optimizer\n",
        "criterion = nn.CrossEntropyLoss()\n",
        "optimizer = torch.optim.Adam(model_lstm.parameters(), lr=learning_rate)"
      ],
      "metadata": {
        "id": "3VmVjbKXOGjm",
        "colab": {
          "base_uri": "https://localhost:8080/"
        },
        "outputId": "710faf2c-1c35-483c-eb61-fb41384fd29e"
      },
      "execution_count": 24,
      "outputs": [
        {
          "output_type": "stream",
          "name": "stdout",
          "text": [
            "RNN(\n",
            "  (emb): Embedding(1917494, 300)\n",
            "  (lstm): LSTM(300, 8, num_layers=2, batch_first=True, dropout=0.6, bidirectional=True)\n",
            "  (dropout): Dropout(p=0.5, inplace=False)\n",
            "  (fc): Linear(in_features=16, out_features=3, bias=True)\n",
            ")\n"
          ]
        }
      ]
    },
    {
      "cell_type": "markdown",
      "source": [
        "We validate our model. \n",
        "**Note:** This cell will probably take hours to execute. For this reason in the following cell we load the pre-trained model that I have included in my exercise and Validate it using the train and validation loaders. Please do execute the next cell and **NOT THIS ONE** "
      ],
      "metadata": {
        "id": "vks0zAn2gPOI"
      }
    },
    {
      "cell_type": "code",
      "source": [
        "# We validate the model and then save it\n",
        "Validation(model_lstm,device,num_epochs,train_loader,test_loader,True)\n",
        "torch.save(model_lstm.state_dict(),\"model.pt\")"
      ],
      "metadata": {
        "colab": {
          "base_uri": "https://localhost:8080/",
          "height": 1000
        },
        "id": "EEscGyP-rC0j",
        "outputId": "47b06619-61fb-4a5f-ef2d-08cec1a7abaf"
      },
      "execution_count": null,
      "outputs": [
        {
          "output_type": "stream",
          "name": "stdout",
          "text": [
            "Epoch   0: Train Loss = 0.82585 | Validation Loss = 0.69166 | Accuracy = 66.7518 | Train-f1 = 0.5039 | Valid-F1 = 0.6648\n",
            "Epoch   1: Train Loss = 0.60550 | Validation Loss = 0.49708 | Accuracy = 80.2599 | Train-f1 = 0.7062 | Valid-F1 = 0.8021\n",
            "Epoch   2: Train Loss = 0.49654 | Validation Loss = 0.46182 | Accuracy = 82.1040 | Train-f1 = 0.8030 | Valid-F1 = 0.8201\n",
            "Epoch   3: Train Loss = 0.46211 | Validation Loss = 0.40883 | Accuracy = 84.3812 | Train-f1 = 0.8236 | Valid-F1 = 0.8438\n",
            "Epoch   4: Train Loss = 0.43174 | Validation Loss = 0.39700 | Accuracy = 85.0255 | Train-f1 = 0.8336 | Valid-F1 = 0.8503\n",
            "Epoch   5: Train Loss = 0.41109 | Validation Loss = 0.36978 | Accuracy = 85.9920 | Train-f1 = 0.8448 | Valid-F1 = 0.8599\n",
            "Epoch   6: Train Loss = 0.39777 | Validation Loss = 0.34853 | Accuracy = 86.3919 | Train-f1 = 0.8488 | Valid-F1 = 0.8639\n",
            "Epoch   7: Train Loss = 0.38053 | Validation Loss = 0.35506 | Accuracy = 86.6807 | Train-f1 = 0.8550 | Valid-F1 = 0.8668\n",
            "Epoch   8: Train Loss = 0.36777 | Validation Loss = 0.34224 | Accuracy = 87.1362 | Train-f1 = 0.8609 | Valid-F1 = 0.8714\n",
            "Epoch   9: Train Loss = 0.35784 | Validation Loss = 0.34669 | Accuracy = 86.9807 | Train-f1 = 0.8645 | Valid-F1 = 0.8697\n",
            "Epoch  10: Train Loss = 0.33961 | Validation Loss = 0.34317 | Accuracy = 87.4583 | Train-f1 = 0.8705 | Valid-F1 = 0.8745\n",
            "Epoch  11: Train Loss = 0.33630 | Validation Loss = 0.31764 | Accuracy = 87.8471 | Train-f1 = 0.8725 | Valid-F1 = 0.8785\n",
            "Epoch  12: Train Loss = 0.32786 | Validation Loss = 0.32592 | Accuracy = 87.9916 | Train-f1 = 0.8742 | Valid-F1 = 0.8799\n",
            "Epoch  13: Train Loss = 0.31945 | Validation Loss = 0.32599 | Accuracy = 87.5694 | Train-f1 = 0.8765 | Valid-F1 = 0.8755\n",
            "Epoch  14: Train Loss = 0.31592 | Validation Loss = 0.31202 | Accuracy = 88.1804 | Train-f1 = 0.8777 | Valid-F1 = 0.8818\n",
            "Epoch  15: Train Loss = 0.30608 | Validation Loss = 0.30295 | Accuracy = 88.2471 | Train-f1 = 0.8808 | Valid-F1 = 0.8824\n",
            "Epoch  16: Train Loss = 0.30489 | Validation Loss = 0.30703 | Accuracy = 88.4026 | Train-f1 = 0.8839 | Valid-F1 = 0.8840\n",
            "Epoch  17: Train Loss = 0.28969 | Validation Loss = 0.30535 | Accuracy = 88.4248 | Train-f1 = 0.8881 | Valid-F1 = 0.8842\n",
            "Epoch  18: Train Loss = 0.28842 | Validation Loss = 0.32748 | Accuracy = 88.2471 | Train-f1 = 0.8878 | Valid-F1 = 0.8824\n",
            "Epoch  19: Train Loss = 0.29024 | Validation Loss = 0.30549 | Accuracy = 88.5803 | Train-f1 = 0.8903 | Valid-F1 = 0.8858\n",
            "Epoch  20: Train Loss = 0.28160 | Validation Loss = 0.30818 | Accuracy = 88.8025 | Train-f1 = 0.8935 | Valid-F1 = 0.8880\n",
            "Epoch  21: Train Loss = 0.27120 | Validation Loss = 0.30451 | Accuracy = 88.7914 | Train-f1 = 0.8942 | Valid-F1 = 0.8879\n",
            "Epoch  22: Train Loss = 0.26802 | Validation Loss = 0.29646 | Accuracy = 89.0247 | Train-f1 = 0.8955 | Valid-F1 = 0.8902\n",
            "Epoch  23: Train Loss = 0.27266 | Validation Loss = 0.32315 | Accuracy = 88.3248 | Train-f1 = 0.8949 | Valid-F1 = 0.8832\n",
            "Epoch  24: Train Loss = 0.26231 | Validation Loss = 0.32073 | Accuracy = 88.3137 | Train-f1 = 0.8980 | Valid-F1 = 0.8830\n",
            "Epoch  25: Train Loss = 0.25781 | Validation Loss = 0.31177 | Accuracy = 88.8580 | Train-f1 = 0.9001 | Valid-F1 = 0.8886\n",
            "Epoch  26: Train Loss = 0.25695 | Validation Loss = 0.32123 | Accuracy = 88.7025 | Train-f1 = 0.9029 | Valid-F1 = 0.8870\n",
            "Epoch  27: Train Loss = 0.24602 | Validation Loss = 0.31263 | Accuracy = 88.8802 | Train-f1 = 0.9048 | Valid-F1 = 0.8888\n",
            "Epoch  28: Train Loss = 0.24393 | Validation Loss = 0.32296 | Accuracy = 88.7581 | Train-f1 = 0.9053 | Valid-F1 = 0.8876\n",
            "Epoch  29: Train Loss = 0.23976 | Validation Loss = 0.30479 | Accuracy = 89.0802 | Train-f1 = 0.9080 | Valid-F1 = 0.8908\n"
          ]
        },
        {
          "output_type": "display_data",
          "data": {
            "text/plain": [
              "<Figure size 432x288 with 1 Axes>"
            ],
            "image/png": "[encoded data removed]"
          },
          "metadata": {
            "needs_background": "light"
          }
        },
        {
          "output_type": "stream",
          "name": "stdout",
          "text": [
            " Accuracy: 89.08%\n",
            " f1 score: 89.08%\n",
            " Precision: 89.11%\n",
            " Recall: 89.08%\n",
            "              precision    recall  f1-score   support\n",
            "\n",
            "           0       0.90      0.87      0.89      4449\n",
            "           1       0.88      0.91      0.89      4553\n",
            "\n",
            "    accuracy                           0.89      9002\n",
            "   macro avg       0.89      0.89      0.89      9002\n",
            "weighted avg       0.89      0.89      0.89      9002\n",
            "\n"
          ]
        },
        {
          "output_type": "display_data",
          "data": {
            "text/plain": [
              "<Figure size 432x288 with 1 Axes>"
            ],
            "image/png": "[encoded data removed]"
          },
          "metadata": {
            "needs_background": "light"
          }
        }
      ]
    },
    {
      "cell_type": "markdown",
      "source": [
        "To load the pre-trained model you just have to change the variable pathToModel in order to load the correct model from the location in your system."
      ],
      "metadata": {
        "id": "0sLsffgfgx35"
      }
    },
    {
      "cell_type": "code",
      "source": [
        "\"\"\" TODO: Change me \"\"\"\n",
        "pathToModel = \"/model.pt\"\n",
        "\n",
        "device = torch.device('cpu')\n",
        "model_lstm.load_state_dict(torch.load(pathToModel,map_location=device))\n",
        "\n",
        "Validation(model_lstm,device,num_epochs,train_loader,test_loader,False)"
      ],
      "metadata": {
        "id": "otmtqJS1uU8H",
        "colab": {
          "base_uri": "https://localhost:8080/",
          "height": 521
        },
        "outputId": "aa263b1a-bcba-4c61-d6fc-bc884d2a1466"
      },
      "execution_count": 29,
      "outputs": [
        {
          "output_type": "stream",
          "name": "stdout",
          "text": [
            " Accuracy: 91.32%\n",
            " f1 score: 91.31%\n",
            " Precision: 91.47%\n",
            " Recall: 91.32%\n",
            "              precision    recall  f1-score   support\n",
            "\n",
            "           0       0.89      0.94      0.92      4554\n",
            "           1       0.94      0.88      0.91      4448\n",
            "\n",
            "    accuracy                           0.91      9002\n",
            "   macro avg       0.92      0.91      0.91      9002\n",
            "weighted avg       0.91      0.91      0.91      9002\n",
            "\n"
          ]
        },
        {
          "output_type": "display_data",
          "data": {
            "text/plain": [
              "<Figure size 432x288 with 1 Axes>"
            ],
            "image/png": "[encoded data removed]"
          },
          "metadata": {
            "needs_background": "light"
          }
        }
      ]
    },
    {
      "cell_type": "markdown",
      "source": [
        "The following class is my implementation for the best GRU model which includes:\n",
        "\n",
        "*   Two stacked LSTM bidirectional layers with hidden size = 8\n",
        "*   Dropout between the layers\n",
        "*   Gradient clipping\n",
        "*   Skip connections"
      ],
      "metadata": {
        "id": "O6cqItVbhv-L"
      }
    },
    {
      "cell_type": "code",
      "source": [
        "# the RNN implementation\n",
        "class RNN(nn.Module):\n",
        "    def __init__(self, input_size, hidden_size, num_layers, num_classes, dropout_between_layers, final_dropout,bidirectional):\n",
        "        super(RNN, self).__init__()\n",
        "        self.num_layers = num_layers \n",
        "        self.hidden_size = hidden_size \n",
        "        self.emb = nn.Embedding.from_pretrained(glove.vectors) \n",
        "        # If we only have one layer, the dropout between stacked layers is not defined\n",
        "        if(num_layers==1): \n",
        "          dropout_between_layers = 0\n",
        "        if model_type=='LSTM': \n",
        "          # We implement 2 stacked LSTM layers\n",
        "          # We initialize the first LSTM layer\n",
        "          self.lstm1 = nn.LSTM(input_size, hidden_size, 1, batch_first=True,bidirectional=bidirectional) \n",
        "          # We initialize the dropout between the stacked LSTM layers\n",
        "          self.dropout_between_layers = nn.Dropout(dropout_between_layers) \n",
        "          # We initialize the second LSTM layer\n",
        "          self.lstm2 = nn.LSTM(2*hidden_size, hidden_size, 1, batch_first=True,bidirectional=bidirectional)\n",
        "        elif model_type=='GRU': \n",
        "          # We implement 2 stacked GRU layers\n",
        "          # We initialize the first GRU layer\n",
        "          self.gru1 = nn.GRU(input_size, hidden_size, 1, batch_first=True,bidirectional=bidirectional) \n",
        "          # We initialize the dropout between the stacked GRU layers\n",
        "          self.dropout_between_layers = nn.Dropout(dropout_between_layers) \n",
        "          # We initialize the second GRU layer\n",
        "          self.gru2 = nn.GRU(2*hidden_size, hidden_size, 1, batch_first=True,bidirectional=bidirectional) \n",
        "      \n",
        "        # We initialize the dropout layer after the last LSTM/GRU layer\n",
        "        self.dropout = nn.Dropout(final_dropout) \n",
        "        # If we apply skip connections\n",
        "        if skip_connections: \n",
        "          # Then the input of the linear output layer is 2 times the output of the LSTM/GRU layer \n",
        "          self.fc = nn.Linear(hidden_size*2*2, num_classes)\n",
        "        else:\n",
        "          # Otherwise we initialize the linear output layer\n",
        "          self.fc = nn.Linear(hidden_size*2, num_classes)  \n",
        "        \n",
        "        # We initialize all the weights\n",
        "        self._init_weights() \n",
        "        \n",
        "    def forward(self, x):\n",
        "        # We create the embeddings of the tweets    \n",
        "        x = self.emb(x) \n",
        "        # We set initial hidden states\n",
        "        h0 = torch.zeros(2, x.size(0), self.hidden_size).to(device) \n",
        "        if model_type=='LSTM':\n",
        "          # Set initial cell states for LSTM\n",
        "          c0 = torch.zeros(2, x.size(0), self.hidden_size).to(device)\n",
        "          # We apply the first LSTM layer and save the output\n",
        "          out_lstm1, (h1,c1) = self.lstm1(x, (h0,c0)) \n",
        "          # We apply dropout after the first LSTM layer\n",
        "          out_lstm1 = self.dropout_between_layers(out_lstm1) \n",
        "          # We apply the second LSTM layer (giving the output of the first LSTM layer as input) and save the output\n",
        "          out_lstm1_2, _ = self.lstm2(out_lstm1, (h0,c0)) \n",
        "          out =  out_lstm1_2\n",
        "        elif model_type=='GRU':\n",
        "          # We apply the first GRU layer and save the output\n",
        "          out_gru1, _ = self.gru1(x, h0) \n",
        "          # We apply dropout after the first GRU layer\n",
        "          out_gru1 = self.dropout_between_layers(out_gru1) \n",
        "          # We apply the second GRU layer (giving the output of the first GRU layer as input) and save the output\n",
        "          out_gru2, _ = self.gru2(out_gru1, h0)\n",
        "          out = out_gru2\n",
        "        \n",
        "        # If we want to apply skip connections\n",
        "        if skip_connections and model_type=='LSTM': \n",
        "          # We concatenate the output of the first LSTM layer and the output of the second LSTM layer\n",
        "          out = torch.cat([out, out_lstm1], dim=2)\n",
        "        elif skip_connections and model_type=='GRU': # if we want to apply skip connections\n",
        "          # We concatenate the output of the first GRU layer and the output of the second GRU layer\n",
        "          out = torch.cat([out, out_gru1], dim=2)\n",
        "        # We apply dropout to the concatenated output\n",
        "        out = self.dropout(out) \n",
        "        # We reshape the output\n",
        "        out = out[:, -1, :]\n",
        "        # We initialize the linear output layer, in order to create output of size 3 (number of classes). \n",
        "        out = self.fc(out) \n",
        "        return out\n",
        "    \n",
        "    # The following is a function that initializes all the model weights\n",
        "    def _init_weights(self):\n",
        "        if model_type=='LSTM':\n",
        "          layers = [ self.lstm1 , self.lstm2 ]\n",
        "        elif model_type=='GRU':\n",
        "          layers = [ self.gru1 , self.gru2 ]\n",
        "        for layer in layers:\n",
        "          for param in layer.parameters():\n",
        "              # We keep track of the gradient for backpropagation\n",
        "              param.requires_grad_(True)\n",
        "              # If we deal with weights, then we use xavier initialization\n",
        "              if param.data.ndimension() >= 2:\n",
        "                  # We keep variance stability\n",
        "                  nn.init.xavier_uniform_(param.data) \n",
        "              else: \n",
        "                nn.init.zeros_(param.data)"
      ],
      "metadata": {
        "id": "4UuIHcHr5H7V"
      },
      "execution_count": 25,
      "outputs": []
    },
    {
      "cell_type": "markdown",
      "source": [
        "We initialize our model with the following hyperparameters:\n",
        "\n",
        "*  Number of classes 3\n",
        "*  Number of epochs 30\n",
        "*  Batch size 16\n",
        "*  Learning rate 0.0001"
      ],
      "metadata": {
        "id": "whz_jcsdk5v-"
      }
    },
    {
      "cell_type": "code",
      "source": [
        "# We configure the device\n",
        "device = torch.device('cuda' if torch.cuda.is_available() else 'cpu')\n",
        "# We reset all seeds\n",
        "resetSeeds()\n",
        "num_classes = 3\n",
        "num_epochs = 30\n",
        "batch_size = 16\n",
        "learning_rate = 0.0001\n",
        "\n",
        "input_size = EMBEDDING_SIZE\n",
        "hidden_size = 8\n",
        "num_layers = 2\n",
        "dropout_between_layers = 0.5\n",
        "final_dropout = 0.25\n",
        "gradient_clipping = True\n",
        "bidirectional = True\n",
        "skip_connections = True\n",
        "\n",
        "# We tokenize the train set and convert the words to the corresponding embedding index\n",
        "train_set_transformed = getWords(X_train,Y_train,glove) \n",
        "# We tokenize the validation set and convert the words to the corresponding embedding index\n",
        "test_set_transformed = getWords(X_test,Y_test,glove) \n",
        "\n",
        "# We set the model type to GRU\n",
        "model_type = 'GRU'\n",
        "# We create the batchers and DataLoaders for the train and the validation set\n",
        "train_loader, test_loader = createDataLoaders(train_set_transformed, test_set_transformed,batch_size)\n",
        "# We initialize the model\n",
        "model_gru = RNN(input_size, hidden_size, num_layers, num_classes,dropout_between_layers,final_dropout,bidirectional).to(device)\n",
        "print(model_gru)\n",
        "# We initialize the loss function and the optimizer\n",
        "criterion = nn.CrossEntropyLoss()\n",
        "optimizer = torch.optim.Adam(model_gru.parameters(), lr=learning_rate)"
      ],
      "metadata": {
        "id": "GDPkSMh65oR-",
        "colab": {
          "base_uri": "https://localhost:8080/"
        },
        "outputId": "e81e61ea-a032-4fcd-884e-13bcb16b1822"
      },
      "execution_count": 26,
      "outputs": [
        {
          "output_type": "stream",
          "name": "stdout",
          "text": [
            "RNN(\n",
            "  (emb): Embedding(1917494, 300)\n",
            "  (gru1): GRU(300, 8, batch_first=True, bidirectional=True)\n",
            "  (dropout_between_layers): Dropout(p=0.5, inplace=False)\n",
            "  (gru2): GRU(16, 8, batch_first=True, bidirectional=True)\n",
            "  (dropout): Dropout(p=0.25, inplace=False)\n",
            "  (fc): Linear(in_features=32, out_features=3, bias=True)\n",
            ")\n"
          ]
        }
      ]
    },
    {
      "cell_type": "markdown",
      "source": [
        "We validate our model. \n",
        "**Note:** This cell will probably take hours to execute. For this reason in the following cell we load the pre-trained model that I have included in my exercise and Validate it using the train and validation loaders. Please do execute the next cell and **NOT THIS ONE** "
      ],
      "metadata": {
        "id": "IneABV-xlPfe"
      }
    },
    {
      "cell_type": "code",
      "source": [
        "# We validate the model and then save it\n",
        "Validation(model_gru,device,num_epochs,train_loader,test_loader,True)\n",
        "torch.save(model_gru.state_dict(),\"model2.pt\")"
      ],
      "metadata": {
        "id": "0RzyCU1rq9pv",
        "colab": {
          "base_uri": "https://localhost:8080/",
          "height": 1000
        },
        "outputId": "ebaacf78-27df-421c-dff5-cf24d9ecd846"
      },
      "execution_count": 27,
      "outputs": [
        {
          "output_type": "stream",
          "name": "stdout",
          "text": [
            "Epoch   0: Train Loss = 0.79242 | Validation Loss = 0.68681 | Accuracy = 61.8529 | Train-f1 = 0.5128 | Valid-F1 = 0.5981\n",
            "Epoch   1: Train Loss = 0.65559 | Validation Loss = 0.56140 | Accuracy = 76.1609 | Train-f1 = 0.6215 | Valid-F1 = 0.7616\n",
            "Epoch   2: Train Loss = 0.48423 | Validation Loss = 0.39740 | Accuracy = 84.2479 | Train-f1 = 0.7944 | Valid-F1 = 0.8425\n",
            "Epoch   3: Train Loss = 0.39884 | Validation Loss = 0.37262 | Accuracy = 85.5254 | Train-f1 = 0.8435 | Valid-F1 = 0.8552\n",
            "Epoch   4: Train Loss = 0.35939 | Validation Loss = 0.35528 | Accuracy = 86.4697 | Train-f1 = 0.8580 | Valid-F1 = 0.8647\n",
            "Epoch   5: Train Loss = 0.33964 | Validation Loss = 0.36092 | Accuracy = 86.6807 | Train-f1 = 0.8655 | Valid-F1 = 0.8667\n",
            "Epoch   6: Train Loss = 0.32084 | Validation Loss = 0.35328 | Accuracy = 86.9918 | Train-f1 = 0.8726 | Valid-F1 = 0.8698\n",
            "Epoch   7: Train Loss = 0.30475 | Validation Loss = 0.33802 | Accuracy = 87.4917 | Train-f1 = 0.8797 | Valid-F1 = 0.8749\n",
            "Epoch   8: Train Loss = 0.29591 | Validation Loss = 0.31473 | Accuracy = 88.1026 | Train-f1 = 0.8821 | Valid-F1 = 0.8810\n",
            "Epoch   9: Train Loss = 0.28632 | Validation Loss = 0.32379 | Accuracy = 88.2359 | Train-f1 = 0.8860 | Valid-F1 = 0.8824\n",
            "Epoch  10: Train Loss = 0.27814 | Validation Loss = 0.32938 | Accuracy = 88.1471 | Train-f1 = 0.8904 | Valid-F1 = 0.8815\n",
            "Epoch  11: Train Loss = 0.27235 | Validation Loss = 0.30948 | Accuracy = 88.6581 | Train-f1 = 0.8917 | Valid-F1 = 0.8866\n",
            "Epoch  12: Train Loss = 0.26582 | Validation Loss = 0.30845 | Accuracy = 88.7692 | Train-f1 = 0.8959 | Valid-F1 = 0.8877\n",
            "Epoch  13: Train Loss = 0.25863 | Validation Loss = 0.32578 | Accuracy = 88.6803 | Train-f1 = 0.8972 | Valid-F1 = 0.8868\n",
            "Epoch  14: Train Loss = 0.25348 | Validation Loss = 0.32498 | Accuracy = 88.6025 | Train-f1 = 0.8996 | Valid-F1 = 0.8860\n",
            "Epoch  15: Train Loss = 0.24758 | Validation Loss = 0.30750 | Accuracy = 88.8247 | Train-f1 = 0.9017 | Valid-F1 = 0.8883\n",
            "Epoch  16: Train Loss = 0.24337 | Validation Loss = 0.31033 | Accuracy = 88.8580 | Train-f1 = 0.9032 | Valid-F1 = 0.8886\n",
            "Epoch  17: Train Loss = 0.24224 | Validation Loss = 0.30265 | Accuracy = 88.9691 | Train-f1 = 0.9056 | Valid-F1 = 0.8897\n",
            "Epoch  18: Train Loss = 0.23488 | Validation Loss = 0.30114 | Accuracy = 89.1469 | Train-f1 = 0.9071 | Valid-F1 = 0.8915\n",
            "Epoch  19: Train Loss = 0.23159 | Validation Loss = 0.31528 | Accuracy = 88.6914 | Train-f1 = 0.9081 | Valid-F1 = 0.8868\n",
            "Epoch  20: Train Loss = 0.22627 | Validation Loss = 0.31699 | Accuracy = 88.7914 | Train-f1 = 0.9113 | Valid-F1 = 0.8879\n",
            "Epoch  21: Train Loss = 0.22481 | Validation Loss = 0.30855 | Accuracy = 89.3135 | Train-f1 = 0.9120 | Valid-F1 = 0.8931\n",
            "Epoch  22: Train Loss = 0.21758 | Validation Loss = 0.33524 | Accuracy = 88.3804 | Train-f1 = 0.9142 | Valid-F1 = 0.8836\n",
            "Epoch  23: Train Loss = 0.22043 | Validation Loss = 0.30987 | Accuracy = 88.9913 | Train-f1 = 0.9162 | Valid-F1 = 0.8899\n",
            "Epoch  24: Train Loss = 0.21505 | Validation Loss = 0.30277 | Accuracy = 89.1580 | Train-f1 = 0.9177 | Valid-F1 = 0.8916\n",
            "Epoch  25: Train Loss = 0.21043 | Validation Loss = 0.30236 | Accuracy = 89.0247 | Train-f1 = 0.9178 | Valid-F1 = 0.8902\n",
            "Epoch  26: Train Loss = 0.20508 | Validation Loss = 0.32088 | Accuracy = 89.1246 | Train-f1 = 0.9211 | Valid-F1 = 0.8912\n",
            "Epoch  27: Train Loss = 0.20364 | Validation Loss = 0.33079 | Accuracy = 88.6025 | Train-f1 = 0.9214 | Valid-F1 = 0.8859\n",
            "Epoch  28: Train Loss = 0.19864 | Validation Loss = 0.32492 | Accuracy = 88.8136 | Train-f1 = 0.9230 | Valid-F1 = 0.8880\n",
            "Epoch  29: Train Loss = 0.19719 | Validation Loss = 0.32395 | Accuracy = 89.0691 | Train-f1 = 0.9259 | Valid-F1 = 0.8907\n"
          ]
        },
        {
          "output_type": "display_data",
          "data": {
            "text/plain": [
              "<Figure size 432x288 with 1 Axes>"
            ],
            "image/png": "[encoded data removed]"
          },
          "metadata": {
            "needs_background": "light"
          }
        },
        {
          "output_type": "stream",
          "name": "stdout",
          "text": [
            " Accuracy: 89.07%\n",
            " f1 score: 89.07%\n",
            " Precision: 89.15%\n",
            " Recall: 89.07%\n",
            "              precision    recall  f1-score   support\n",
            "\n",
            "           0       0.87      0.91      0.89      4449\n",
            "           1       0.91      0.87      0.89      4553\n",
            "\n",
            "    accuracy                           0.89      9002\n",
            "   macro avg       0.89      0.89      0.89      9002\n",
            "weighted avg       0.89      0.89      0.89      9002\n",
            "\n"
          ]
        },
        {
          "output_type": "display_data",
          "data": {
            "text/plain": [
              "<Figure size 432x288 with 1 Axes>"
            ],
            "image/png": "[encoded data removed]"
          },
          "metadata": {
            "needs_background": "light"
          }
        }
      ]
    },
    {
      "cell_type": "markdown",
      "source": [
        "To load the pre-trained model you just have to change the variable pathToModel in order to load the correct model from the location in your system."
      ],
      "metadata": {
        "id": "RXGqX0z4lZA6"
      }
    },
    {
      "cell_type": "code",
      "source": [
        "\"\"\" TODO: Change me \"\"\"\n",
        "pathToModel = \"/model2.pt\"\n",
        "\n",
        "device = torch.device('cpu')\n",
        "model_gru.load_state_dict(torch.load(pathToModel,map_location=device))\n",
        "\n",
        "Validation(model_gru,device,num_epochs,train_loader,test_loader,False)"
      ],
      "metadata": {
        "id": "RExAAxhxtfZU",
        "colab": {
          "base_uri": "https://localhost:8080/",
          "height": 521
        },
        "outputId": "b53655c2-b4c4-4392-92a7-8dbd6a3c8a0a"
      },
      "execution_count": 32,
      "outputs": [
        {
          "output_type": "stream",
          "name": "stdout",
          "text": [
            " Accuracy: 92.08%\n",
            " f1 score: 92.07%\n",
            " Precision: 92.14%\n",
            " Recall: 92.08%\n",
            "              precision    recall  f1-score   support\n",
            "\n",
            "           0       0.91      0.94      0.92      4554\n",
            "           1       0.94      0.90      0.92      4448\n",
            "\n",
            "    accuracy                           0.92      9002\n",
            "   macro avg       0.92      0.92      0.92      9002\n",
            "weighted avg       0.92      0.92      0.92      9002\n",
            "\n"
          ]
        },
        {
          "output_type": "display_data",
          "data": {
            "text/plain": [
              "<Figure size 432x288 with 1 Axes>"
            ],
            "image/png": "[encoded data removed]"
          },
          "metadata": {
            "needs_background": "light"
          }
        }
      ]
    }
  ]
}